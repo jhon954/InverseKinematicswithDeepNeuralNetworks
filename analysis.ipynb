{
 "cells": [
  {
   "cell_type": "code",
   "execution_count": 35,
   "metadata": {},
   "outputs": [],
   "source": [
    "import sympy as sp\n",
    "import numpy as np\n",
    "import matplotlib.pyplot as plt\n",
    "import roboticstoolbox as rtb\n",
    "from scipy.spatial.transform import Rotation as R\n",
    "import pandas as pd"
   ]
  },
  {
   "cell_type": "code",
   "execution_count": 9,
   "metadata": {},
   "outputs": [],
   "source": [
    "def sTrasl(x, y, z):\n",
    "    \"\"\" Transformación homogénea que representa traslación pura\n",
    "    \"\"\"\n",
    "    T = sp.Matrix([[1,0,0,x],\n",
    "                   [0,1,0,y],\n",
    "                   [0,0,1,z],\n",
    "                   [0,0,0,1]])\n",
    "    return T\n",
    "\n",
    "def sTrotx(ang):\n",
    "    \"\"\" Transformación homogénea que representa rotación alrededor de x\n",
    "    \"\"\"\n",
    "    T = sp.Matrix([[1, 0,0,0],\n",
    "                   [0, sp.cos(ang),-sp.sin(ang),0],\n",
    "                   [0, sp.sin(ang), sp.cos(ang),0],\n",
    "                   [0, 0, 0, 1]])\n",
    "    return T\n",
    "\n",
    "def sTrotz(ang):\n",
    "    \"\"\" Transformación homogénea que representa rotación alrededor de z\n",
    "    \"\"\"\n",
    "    T = sp.Matrix([[sp.cos(ang),-sp.sin(ang),0,0],\n",
    "                   [sp.sin(ang), sp.cos(ang),0,0],\n",
    "                   [0,0,1,0],\n",
    "                   [0,0,0,1]])\n",
    "    return T"
   ]
  },
  {
   "cell_type": "code",
   "execution_count": 64,
   "metadata": {},
   "outputs": [
    {
     "data": {
      "text/latex": [
       "$\\displaystyle \\left[\\begin{matrix}-0.806915141795176 & 0.0633539008270098 & -0.587259940053527 & -0.0413200125632652\\\\-0.0382190434930303 & 0.986547646920268 & 0.158943527929137 & -0.00437144113775084\\\\0.589429604495863 & 0.150698452566985 & -0.793638908911204 & 0.193223724496281\\\\0 & 0 & 0 & 1.0\\end{matrix}\\right]$"
      ],
      "text/plain": [
       "Matrix([\n",
       "[ -0.806915141795176, 0.0633539008270098, -0.587259940053527,  -0.0413200125632652],\n",
       "[-0.0382190434930303,  0.986547646920268,  0.158943527929137, -0.00437144113775084],\n",
       "[  0.589429604495863,  0.150698452566985, -0.793638908911204,    0.193223724496281],\n",
       "[                  0,                  0,                  0,                  1.0]])"
      ]
     },
     "execution_count": 64,
     "metadata": {},
     "output_type": "execute_result"
    }
   ],
   "source": [
    "# Variables que serán utilizadas\n",
    "q1, q2, q3, q4, q5, q6 = sp.symbols(\"q1 q2 q3 q4 q5 q6\")\n",
    "l1, l2, l3, l4, l5, l6 = sp.symbols(\"l1 l2 l3 l4 l5 l6\")\n",
    "\n",
    "cos, sin = sp.cos, sp.sin\n",
    "# Transformaciones con respecto al sistema anterior\n",
    "T01 = sp.Matrix([\n",
    "    [cos(q1), 0, -sin(q1), 0],\n",
    "    [sin(q1), 0, cos(q1), 0],\n",
    "    [0,-1,0, l1],\n",
    "    [0,0,0,1]\n",
    "])\n",
    " \n",
    "T12 = sp.Matrix([\n",
    "  [sin(q2), cos(q2), 0, l2*sin(q2)],\n",
    "  [-cos(q2), sin(q2), 0, -l2*cos(q2)],\n",
    "  [0,0,1,0],\n",
    "  [0,0,0,1]\n",
    "])\n",
    "\n",
    "T23 = sp.Matrix([\n",
    "    [cos(q3), 0, -sin(q3), l3*cos(q3)],\n",
    "    [sin(q3), 0, cos(q3), l3*sin(q3)],\n",
    "    [0,-1,0,0],\n",
    "    [0,0,0,1]\n",
    "])\n",
    "\n",
    "T34 = sp.Matrix([\n",
    "    [cos(q4), 0, sin(q4), 0],\n",
    "    [sin(q4), 0, -cos(q4), 0],\n",
    "    [0,1,0,l4],\n",
    "    [0,0,0,1]\n",
    "])\n",
    "\n",
    "T45 = sp.Matrix([\n",
    "    [cos(q5), 0, -sin(q5), 0],\n",
    "    [sin(q5), 0, cos(q5), 0],\n",
    "    [0, -1, 0, 0],\n",
    "    [0,0,0,1]\n",
    "])\n",
    "\n",
    "T56 = sp.Matrix([\n",
    "    [cos(q6), -sin(q6), 0, 0],\n",
    "    [sin(q6), cos(q6), 0,0],\n",
    "    [0,0,1,l6],\n",
    "    [0,0,0,1]\n",
    "])\n",
    "\n",
    "T06 = sp.simplify(T01*T12*T23*T34*T45*T56)\n",
    "T06.evalf(subs={q1:-1.51, q2:-0.763, q3:1.85, q4:-0.817, q5:0.912, q6:2.3, l1: 0.29, l2:0.27, l3:0.07, l4:0.302, l5:0, l6:0.072})"
   ]
  },
  {
   "cell_type": "code",
   "execution_count": 63,
   "metadata": {},
   "outputs": [
    {
     "data": {
      "text/latex": [
       "$\\displaystyle \\left[\\begin{matrix}\\cos{\\left(q_{1} \\right)} & 0 & - \\sin{\\left(q_{1} \\right)} & 0\\\\\\sin{\\left(q_{1} \\right)} & 0 & \\cos{\\left(q_{1} \\right)} & 0\\\\0 & -1 & 0 & l_{1}\\\\0 & 0 & 0 & 1\\end{matrix}\\right]$"
      ],
      "text/plain": [
       "Matrix([\n",
       "[cos(q1),  0, -sin(q1),  0],\n",
       "[sin(q1),  0,  cos(q1),  0],\n",
       "[      0, -1,        0, l1],\n",
       "[      0,  0,        0,  1]])"
      ]
     },
     "metadata": {},
     "output_type": "display_data"
    },
    {
     "data": {
      "text/latex": [
       "$\\displaystyle \\left[\\begin{matrix}\\sin{\\left(q_{2} \\right)} & \\cos{\\left(q_{2} \\right)} & 0 & l_{2} \\sin{\\left(q_{2} \\right)}\\\\- \\cos{\\left(q_{2} \\right)} & \\sin{\\left(q_{2} \\right)} & 0 & - l_{2} \\cos{\\left(q_{2} \\right)}\\\\0 & 0 & 1 & 0\\\\0 & 0 & 0 & 1\\end{matrix}\\right]$"
      ],
      "text/plain": [
       "Matrix([\n",
       "[ sin(q2), cos(q2), 0,  l2*sin(q2)],\n",
       "[-cos(q2), sin(q2), 0, -l2*cos(q2)],\n",
       "[       0,       0, 1,           0],\n",
       "[       0,       0, 0,           1]])"
      ]
     },
     "metadata": {},
     "output_type": "display_data"
    },
    {
     "data": {
      "text/latex": [
       "$\\displaystyle \\left[\\begin{matrix}\\cos{\\left(q_{3} \\right)} & 0 & - \\sin{\\left(q_{3} \\right)} & l_{3} \\cos{\\left(q_{3} \\right)}\\\\\\sin{\\left(q_{3} \\right)} & 0 & \\cos{\\left(q_{3} \\right)} & l_{3} \\sin{\\left(q_{3} \\right)}\\\\0 & -1 & 0 & 0\\\\0 & 0 & 0 & 1\\end{matrix}\\right]$"
      ],
      "text/plain": [
       "Matrix([\n",
       "[cos(q3),  0, -sin(q3), l3*cos(q3)],\n",
       "[sin(q3),  0,  cos(q3), l3*sin(q3)],\n",
       "[      0, -1,        0,          0],\n",
       "[      0,  0,        0,          1]])"
      ]
     },
     "metadata": {},
     "output_type": "display_data"
    },
    {
     "data": {
      "text/latex": [
       "$\\displaystyle \\left[\\begin{matrix}\\cos{\\left(q_{4} \\right)} & 0 & \\sin{\\left(q_{4} \\right)} & 0\\\\\\sin{\\left(q_{4} \\right)} & 0 & - \\cos{\\left(q_{4} \\right)} & 0\\\\0 & 1 & 0 & l_{4}\\\\0 & 0 & 0 & 1\\end{matrix}\\right]$"
      ],
      "text/plain": [
       "Matrix([\n",
       "[cos(q4), 0,  sin(q4),  0],\n",
       "[sin(q4), 0, -cos(q4),  0],\n",
       "[      0, 1,        0, l4],\n",
       "[      0, 0,        0,  1]])"
      ]
     },
     "metadata": {},
     "output_type": "display_data"
    },
    {
     "data": {
      "text/latex": [
       "$\\displaystyle \\left[\\begin{matrix}\\cos{\\left(q_{5} \\right)} & 0 & - \\sin{\\left(q_{5} \\right)} & 0\\\\\\sin{\\left(q_{5} \\right)} & 0 & \\cos{\\left(q_{5} \\right)} & 0\\\\0 & -1 & 0 & 0\\\\0 & 0 & 0 & 1\\end{matrix}\\right]$"
      ],
      "text/plain": [
       "Matrix([\n",
       "[cos(q5),  0, -sin(q5), 0],\n",
       "[sin(q5),  0,  cos(q5), 0],\n",
       "[      0, -1,        0, 0],\n",
       "[      0,  0,        0, 1]])"
      ]
     },
     "metadata": {},
     "output_type": "display_data"
    },
    {
     "data": {
      "text/latex": [
       "$\\displaystyle \\left[\\begin{matrix}\\cos{\\left(q_{6} \\right)} & - \\sin{\\left(q_{6} \\right)} & 0 & 0\\\\\\sin{\\left(q_{6} \\right)} & \\cos{\\left(q_{6} \\right)} & 0 & 0\\\\0 & 0 & 1 & 0\\\\0 & 0 & 0 & 1\\end{matrix}\\right]$"
      ],
      "text/plain": [
       "Matrix([\n",
       "[cos(q6), -sin(q6), 0, 0],\n",
       "[sin(q6),  cos(q6), 0, 0],\n",
       "[      0,        0, 1, 0],\n",
       "[      0,        0, 0, 1]])"
      ]
     },
     "metadata": {},
     "output_type": "display_data"
    }
   ],
   "source": [
    "display(T01)\n",
    "display(T12)\n",
    "display(T23)\n",
    "display(T34)\n",
    "display(T45)\n",
    "display(T56)"
   ]
  },
  {
   "cell_type": "code",
   "execution_count": 10,
   "metadata": {},
   "outputs": [
    {
     "name": "stdout",
     "output_type": "stream",
     "text": [
      "T01:\n"
     ]
    },
    {
     "data": {
      "text/latex": [
       "$\\displaystyle \\left[\\begin{matrix}- \\cos{\\left(q_{1} \\right)} & \\sin{\\left(q_{1} \\right)} & 0 & 0\\\\- \\sin{\\left(q_{1} \\right)} & - \\cos{\\left(q_{1} \\right)} & 0 & 0\\\\0 & 0 & 1 & l_{1}\\\\0 & 0 & 0 & 1\\end{matrix}\\right]$"
      ],
      "text/plain": [
       "Matrix([\n",
       "[-cos(q1),  sin(q1), 0,  0],\n",
       "[-sin(q1), -cos(q1), 0,  0],\n",
       "[       0,        0, 1, l1],\n",
       "[       0,        0, 0,  1]])"
      ]
     },
     "metadata": {},
     "output_type": "display_data"
    },
    {
     "name": "stdout",
     "output_type": "stream",
     "text": [
      "T12:\n"
     ]
    },
    {
     "data": {
      "text/latex": [
       "$\\displaystyle \\left[\\begin{matrix}\\sin{\\left(q_{2} \\right)} & \\cos{\\left(q_{2} \\right)} & 0 & l_{2}\\\\- \\cos{\\left(q_{2} \\right)} & \\sin{\\left(q_{2} \\right)} & 0 & 0\\\\0 & 0 & 1 & 0\\\\0 & 0 & 0 & 1\\end{matrix}\\right]$"
      ],
      "text/plain": [
       "Matrix([\n",
       "[ sin(q2), cos(q2), 0, l2],\n",
       "[-cos(q2), sin(q2), 0,  0],\n",
       "[       0,       0, 1,  0],\n",
       "[       0,       0, 0,  1]])"
      ]
     },
     "metadata": {},
     "output_type": "display_data"
    },
    {
     "name": "stdout",
     "output_type": "stream",
     "text": [
      "T23:\n"
     ]
    },
    {
     "data": {
      "text/latex": [
       "$\\displaystyle \\left[\\begin{matrix}1 & 0 & 0 & l_{3}\\\\0 & 1 & 0 & 0\\\\0 & 0 & 1 & 0\\\\0 & 0 & 0 & 1\\end{matrix}\\right]$"
      ],
      "text/plain": [
       "Matrix([\n",
       "[1, 0, 0, l3],\n",
       "[0, 1, 0,  0],\n",
       "[0, 0, 1,  0],\n",
       "[0, 0, 0,  1]])"
      ]
     },
     "metadata": {},
     "output_type": "display_data"
    },
    {
     "name": "stdout",
     "output_type": "stream",
     "text": [
      "T34:\n"
     ]
    },
    {
     "data": {
      "text/latex": [
       "$\\displaystyle \\left[\\begin{matrix}- \\sin{\\left(q_{4} \\right)} & - \\cos{\\left(q_{4} \\right)} & 0 & 0\\\\\\cos{\\left(q_{4} \\right)} & - \\sin{\\left(q_{4} \\right)} & 0 & 0\\\\0 & 0 & 1 & - l_{4} + q_{3}\\\\0 & 0 & 0 & 1\\end{matrix}\\right]$"
      ],
      "text/plain": [
       "Matrix([\n",
       "[-sin(q4), -cos(q4), 0,        0],\n",
       "[ cos(q4), -sin(q4), 0,        0],\n",
       "[       0,        0, 1, -l4 + q3],\n",
       "[       0,        0, 0,        1]])"
      ]
     },
     "metadata": {},
     "output_type": "display_data"
    },
    {
     "name": "stdout",
     "output_type": "stream",
     "text": [
      "T04:\n"
     ]
    },
    {
     "data": {
      "text/latex": [
       "$\\displaystyle \\left[\\begin{matrix}- \\cos{\\left(q_{1} + q_{2} + q_{4} \\right)} & \\sin{\\left(q_{1} + q_{2} + q_{4} \\right)} & 0 & - l_{2} \\cos{\\left(q_{1} \\right)} - l_{3} \\sin{\\left(q_{1} + q_{2} \\right)}\\\\- \\sin{\\left(q_{1} + q_{2} + q_{4} \\right)} & - \\cos{\\left(q_{1} + q_{2} + q_{4} \\right)} & 0 & - l_{2} \\sin{\\left(q_{1} \\right)} + l_{3} \\cos{\\left(q_{1} + q_{2} \\right)}\\\\0 & 0 & 1 & l_{1} - l_{4} + q_{3}\\\\0 & 0 & 0 & 1\\end{matrix}\\right]$"
      ],
      "text/plain": [
       "Matrix([\n",
       "[-cos(q1 + q2 + q4),  sin(q1 + q2 + q4), 0, -l2*cos(q1) - l3*sin(q1 + q2)],\n",
       "[-sin(q1 + q2 + q4), -cos(q1 + q2 + q4), 0, -l2*sin(q1) + l3*cos(q1 + q2)],\n",
       "[                 0,                  0, 1,                  l1 - l4 + q3],\n",
       "[                 0,                  0, 0,                             1]])"
      ]
     },
     "metadata": {},
     "output_type": "display_data"
    }
   ],
   "source": [
    "# Variables que serán utilizadas\n",
    "q1, q2, q3, q4 = sp.symbols(\"q1 q2 q3 q4\")\n",
    "l1, l2, l3, l4 = sp.symbols(\"l1 l2 l3 l4\")\n",
    "\n",
    "# Transformaciones con respecto al sistema anterior\n",
    "T01 = sTrasl(0,0,l1)*sTrotz(sp.pi+q1)\n",
    "T12 = sTrasl(l2,0,0)*sTrotz(-sp.pi/2+q2)\n",
    "T23 = sTrasl(l3,0,0)\n",
    "T34 = sTrasl(0,0,-l4+q3)*sTrotz(sp.pi/2+q4)\n",
    "\n",
    "# Transformación del eslabón 4 con respecto a la base (0)\n",
    "T04 = sp.simplify(T01*T12*T23*T34)\n",
    "\n",
    "# Mostrar las transformaciones homogéneas (display funciona con IPython)\n",
    "print(\"T01:\"); display(T01)\n",
    "print(\"T12:\"); display(T12)\n",
    "print(\"T23:\"); display(T23)\n",
    "print(\"T34:\"); display(T34)\n",
    "print(\"T04:\"); display(T04)"
   ]
  },
  {
   "cell_type": "code",
   "execution_count": 11,
   "metadata": {},
   "outputs": [
    {
     "name": "stdout",
     "output_type": "stream",
     "text": [
      "T0e:\n"
     ]
    },
    {
     "data": {
      "text/latex": [
       "$\\displaystyle \\left[\\begin{matrix}- \\cos{\\left(q_{1} + q_{2} + q_{4} \\right)} & - \\sin{\\left(q_{1} + q_{2} + q_{4} \\right)} & 0 & - l_{2} \\cos{\\left(q_{1} \\right)} - l_{3} \\sin{\\left(q_{1} + q_{2} \\right)}\\\\- \\sin{\\left(q_{1} + q_{2} + q_{4} \\right)} & \\cos{\\left(q_{1} + q_{2} + q_{4} \\right)} & 0 & - l_{2} \\sin{\\left(q_{1} \\right)} + l_{3} \\cos{\\left(q_{1} + q_{2} \\right)}\\\\0 & 0 & -1 & l_{1} - l_{4} + q_{3}\\\\0 & 0 & 0 & 1\\end{matrix}\\right]$"
      ],
      "text/plain": [
       "Matrix([\n",
       "[-cos(q1 + q2 + q4), -sin(q1 + q2 + q4),  0, -l2*cos(q1) - l3*sin(q1 + q2)],\n",
       "[-sin(q1 + q2 + q4),  cos(q1 + q2 + q4),  0, -l2*sin(q1) + l3*cos(q1 + q2)],\n",
       "[                 0,                  0, -1,                  l1 - l4 + q3],\n",
       "[                 0,                  0,  0,                             1]])"
      ]
     },
     "metadata": {},
     "output_type": "display_data"
    }
   ],
   "source": [
    "# Transformación del efector final con respecto al sistema 4\n",
    "T4e = sTrotx(sp.pi)\n",
    "\n",
    "# Transformación del efector final con respecto a la base (0)\n",
    "T0e = sp.simplify(T04*T4e)\n",
    "print(\"T0e:\"); display(T0e)"
   ]
  },
  {
   "cell_type": "code",
   "execution_count": 19,
   "metadata": {},
   "outputs": [
    {
     "name": "stdout",
     "output_type": "stream",
     "text": [
      "DHRobot: Scara, 4 joints (RRPR), dynamics, standard DH parameters\n",
      "┌───────────┬─────────────┬───────┬────────┐\n",
      "│    θⱼ     │     dⱼ      │  aⱼ   │   ⍺ⱼ   │\n",
      "├───────────┼─────────────┼───────┼────────┤\n",
      "│ q1 + 180°\u001b[0m │       0.395\u001b[0m │  0.33\u001b[0m │   0.0°\u001b[0m │\n",
      "│ q2 - 90°\u001b[0m  │           0\u001b[0m │ 0.405\u001b[0m │   0.0°\u001b[0m │\n",
      "│0.0°\u001b[0m       │  q3 - 0.395\u001b[0m │     0\u001b[0m │   0.0°\u001b[0m │\n",
      "│ q4 + 90°\u001b[0m  │           0\u001b[0m │     0\u001b[0m │ 180.0°\u001b[0m │\n",
      "└───────────┴─────────────┴───────┴────────┘\n",
      "\n",
      "┌─┬──┐\n",
      "└─┴──┘\n",
      "\n"
     ]
    }
   ],
   "source": [
    "class SCARA(rtb.DHRobot):\n",
    "\n",
    "\n",
    "    q0 = [0,0,0,0]\n",
    "    \n",
    "    def __init__(self):\n",
    "        L = np.array([0.395, 0.33, 0.405, 0.395])\n",
    "        super().__init__(                \n",
    "                [\n",
    "                rtb.RevoluteDH(d =       L[0], a = L[1], alpha =   0, offset =    np.pi),\n",
    "                rtb.RevoluteDH(d =        0, a = L[2], alpha =   0, offset = -np.pi/2),\n",
    "                rtb.PrismaticDH(offset = -L[3],theta=0,a=0,alpha=0),\n",
    "                rtb.RevoluteDH(d =        0, a =  0, alpha=np.pi, offset =  np.pi/2),\n",
    "            ], name=\"Scara\"\n",
    "                        )\n",
    "scara = SCARA()\n",
    "print(scara)"
   ]
  },
  {
   "cell_type": "code",
   "execution_count": 32,
   "metadata": {},
   "outputs": [
    {
     "data": {
      "text/plain": [
       "DHRobot: UR5, 6 joints (RRRRRR), dynamics, standard DH parameters\n",
       "┌────┬────────┬─────────┬────────┐\n",
       "│θⱼ  │   dⱼ   │   aⱼ    │   ⍺ⱼ   │\n",
       "├────┼────────┼─────────┼────────┤\n",
       "│ q1\u001b[0m │ 0.1625\u001b[0m │     0.1\u001b[0m │  90.0°\u001b[0m │\n",
       "│ q2\u001b[0m │      0\u001b[0m │   -0.42\u001b[0m │   0.0°\u001b[0m │\n",
       "│ q3\u001b[0m │      0\u001b[0m │ -0.3922\u001b[0m │   0.0°\u001b[0m │\n",
       "│ q4\u001b[0m │  0.133\u001b[0m │       0\u001b[0m │  90.0°\u001b[0m │\n",
       "│ q5\u001b[0m │ 0.0997\u001b[0m │       0\u001b[0m │ -90.0°\u001b[0m │\n",
       "│ q6\u001b[0m │ 0.0996\u001b[0m │       0\u001b[0m │   0.0°\u001b[0m │\n",
       "└────┴────────┴─────────┴────────┘\n",
       "\n",
       "┌─┬──┐\n",
       "└─┴──┘"
      ]
     },
     "execution_count": 32,
     "metadata": {},
     "output_type": "execute_result"
    }
   ],
   "source": [
    "class UR5e(rtb.DHRobot):\n",
    "\n",
    "    q0 = [0,0,0,0,0,0] #Valores de q para posicion inicial\n",
    "\n",
    "    qp = [np.pi/2,np.pi/2,-np.pi/3,0,np.pi/2,0] #Valores de q para posicion propuesta\n",
    "    \n",
    "    def __init__(self):\n",
    "        super().__init__(                \n",
    "                [\n",
    "                    rtb.RevoluteDH(d=0.1625,offset=0,a=0.10,alpha=np.pi/2),\n",
    "                    rtb.RevoluteDH(d=0, offset=0, a =-0.42, alpha=0),\n",
    "                    rtb.RevoluteDH(d=0, offset=0,a=-0.3922,alpha=0),\n",
    "                    rtb.RevoluteDH(d=0.133,offset=0,a=0,alpha=np.pi/2),\n",
    "                    rtb.RevoluteDH(d=0.0997, offset=0, a =0, alpha=-np.pi/2),\n",
    "                    rtb.RevoluteDH(d=0.0996, offset=0,a=0,alpha=0)\n",
    "                ], name=\"UR5\"\n",
    "                        )\n",
    "robot = UR5e()\n",
    "robot"
   ]
  },
  {
   "cell_type": "code",
   "execution_count": 17,
   "metadata": {},
   "outputs": [
    {
     "data": {
      "text/plain": [
       "  \u001b[38;5;1m 0.8968  \u001b[0m \u001b[38;5;1m 0.4425  \u001b[0m \u001b[38;5;1m 0       \u001b[0m \u001b[38;5;4m-0.3931  \u001b[0m  \u001b[0m\n",
       "  \u001b[38;5;1m 0.4425  \u001b[0m \u001b[38;5;1m-0.8968  \u001b[0m \u001b[38;5;1m 0       \u001b[0m \u001b[38;5;4m-0.6062  \u001b[0m  \u001b[0m\n",
       "  \u001b[38;5;1m 0       \u001b[0m \u001b[38;5;1m 0       \u001b[0m \u001b[38;5;1m-1       \u001b[0m \u001b[38;5;4m 1.2     \u001b[0m  \u001b[0m\n",
       "  \u001b[38;5;244m 0       \u001b[0m \u001b[38;5;244m 0       \u001b[0m \u001b[38;5;244m 0       \u001b[0m \u001b[38;5;244m 1       \u001b[0m  \u001b[0m\n"
      ]
     },
     "execution_count": 17,
     "metadata": {},
     "output_type": "execute_result"
    }
   ],
   "source": [
    "scara.fkine([1.2,1.2,1.2,1.2])"
   ]
  },
  {
   "cell_type": "code",
   "execution_count": 33,
   "metadata": {},
   "outputs": [
    {
     "data": {
      "text/plain": [
       "spatialmath.pose3d.SE3"
      ]
     },
     "execution_count": 33,
     "metadata": {},
     "output_type": "execute_result"
    }
   ],
   "source": [
    "type(scara.fkine([1.2,1.2,1.2,1.2]))"
   ]
  },
  {
   "cell_type": "code",
   "execution_count": 30,
   "metadata": {},
   "outputs": [
    {
     "name": "stdout",
     "output_type": "stream",
     "text": [
      "[2.68321545 3.14159264 0.        ]\n"
     ]
    },
    {
     "name": "stderr",
     "output_type": "stream",
     "text": [
      "/tmp/ipykernel_20737/3350279762.py:6: UserWarning: Gimbal lock detected. Setting third angle to zero since it is not possible to uniquely determine all angles.\n",
      "  print(r.as_euler('zyz'))\n"
     ]
    },
    {
     "data": {
      "text/plain": [
       "[-0.3931, -0.6062, 1.2, 2.68321545, 3.14159264, 0]"
      ]
     },
     "execution_count": 30,
     "metadata": {},
     "output_type": "execute_result"
    }
   ],
   "source": [
    "r = R.from_matrix([\n",
    "    [0.8968, 0.4425, 0],\n",
    "    [0.4425, -0.8968, 0],\n",
    "    [0,0,-1]\n",
    "])\n",
    "print(r.as_euler('zyz'))\n",
    "pose = [-0.3931, -0.6062, 1.2,2.68321545,3.14159264,0]\n",
    "pose"
   ]
  },
  {
   "cell_type": "code",
   "execution_count": 34,
   "metadata": {},
   "outputs": [
    {
     "data": {
      "text/plain": [
       "array([[ 9.70295726e-01, -2.41921896e-01, -8.32667268e-17],\n",
       "       [ 1.90637055e-01,  7.64603466e-01,  6.15661475e-01],\n",
       "       [-1.48941991e-01, -5.97373698e-01,  7.88010754e-01]])"
      ]
     },
     "execution_count": 34,
     "metadata": {},
     "output_type": "execute_result"
    }
   ],
   "source": [
    "r0 = R.from_euler('zyz', [104,-38,-90], degrees=True)\n",
    "r0.as_matrix()"
   ]
  },
  {
   "cell_type": "code",
   "execution_count": 39,
   "metadata": {},
   "outputs": [
    {
     "data": {
      "text/html": [
       "<div>\n",
       "<style scoped>\n",
       "    .dataframe tbody tr th:only-of-type {\n",
       "        vertical-align: middle;\n",
       "    }\n",
       "\n",
       "    .dataframe tbody tr th {\n",
       "        vertical-align: top;\n",
       "    }\n",
       "\n",
       "    .dataframe thead th {\n",
       "        text-align: right;\n",
       "    }\n",
       "</style>\n",
       "<table border=\"1\" class=\"dataframe\">\n",
       "  <thead>\n",
       "    <tr style=\"text-align: right;\">\n",
       "      <th></th>\n",
       "      <th>q1</th>\n",
       "      <th>q2</th>\n",
       "      <th>q3</th>\n",
       "      <th>q4</th>\n",
       "      <th>q5</th>\n",
       "      <th>q6</th>\n",
       "      <th>x</th>\n",
       "      <th>y</th>\n",
       "      <th>z</th>\n",
       "    </tr>\n",
       "  </thead>\n",
       "  <tbody>\n",
       "    <tr>\n",
       "      <th>0</th>\n",
       "      <td>-1.51</td>\n",
       "      <td>-0.763</td>\n",
       "      <td>1.85</td>\n",
       "      <td>-0.817</td>\n",
       "      <td>0.9120</td>\n",
       "      <td>2.320</td>\n",
       "      <td>-0.0947</td>\n",
       "      <td>0.1500</td>\n",
       "      <td>0.301</td>\n",
       "    </tr>\n",
       "    <tr>\n",
       "      <th>1</th>\n",
       "      <td>-2.84</td>\n",
       "      <td>0.520</td>\n",
       "      <td>1.58</td>\n",
       "      <td>-1.270</td>\n",
       "      <td>-1.3900</td>\n",
       "      <td>0.617</td>\n",
       "      <td>0.1420</td>\n",
       "      <td>-0.1000</td>\n",
       "      <td>0.225</td>\n",
       "    </tr>\n",
       "    <tr>\n",
       "      <th>2</th>\n",
       "      <td>-1.23</td>\n",
       "      <td>0.695</td>\n",
       "      <td>1.22</td>\n",
       "      <td>-1.130</td>\n",
       "      <td>0.0343</td>\n",
       "      <td>6.270</td>\n",
       "      <td>-0.0833</td>\n",
       "      <td>0.2230</td>\n",
       "      <td>0.206</td>\n",
       "    </tr>\n",
       "    <tr>\n",
       "      <th>3</th>\n",
       "      <td>-1.99</td>\n",
       "      <td>1.060</td>\n",
       "      <td>1.74</td>\n",
       "      <td>-1.760</td>\n",
       "      <td>-1.2400</td>\n",
       "      <td>4.760</td>\n",
       "      <td>0.1350</td>\n",
       "      <td>-0.0314</td>\n",
       "      <td>0.370</td>\n",
       "    </tr>\n",
       "    <tr>\n",
       "      <th>4</th>\n",
       "      <td>1.05</td>\n",
       "      <td>0.836</td>\n",
       "      <td>1.34</td>\n",
       "      <td>-1.890</td>\n",
       "      <td>0.4840</td>\n",
       "      <td>4.380</td>\n",
       "      <td>-0.0560</td>\n",
       "      <td>-0.2290</td>\n",
       "      <td>0.260</td>\n",
       "    </tr>\n",
       "  </tbody>\n",
       "</table>\n",
       "</div>"
      ],
      "text/plain": [
       "     q1     q2    q3     q4      q5     q6       x       y      z\n",
       "0 -1.51 -0.763  1.85 -0.817  0.9120  2.320 -0.0947  0.1500  0.301\n",
       "1 -2.84  0.520  1.58 -1.270 -1.3900  0.617  0.1420 -0.1000  0.225\n",
       "2 -1.23  0.695  1.22 -1.130  0.0343  6.270 -0.0833  0.2230  0.206\n",
       "3 -1.99  1.060  1.74 -1.760 -1.2400  4.760  0.1350 -0.0314  0.370\n",
       "4  1.05  0.836  1.34 -1.890  0.4840  4.380 -0.0560 -0.2290  0.260"
      ]
     },
     "execution_count": 39,
     "metadata": {},
     "output_type": "execute_result"
    }
   ],
   "source": [
    "data = pd.read_csv('robot_inverse_kinematics_dataset.csv')\n",
    "data.head()"
   ]
  },
  {
   "cell_type": "code",
   "execution_count": 40,
   "metadata": {},
   "outputs": [
    {
     "data": {
      "text/plain": [
       "(15000, 9)"
      ]
     },
     "execution_count": 40,
     "metadata": {},
     "output_type": "execute_result"
    }
   ],
   "source": [
    "data.shape"
   ]
  }
 ],
 "metadata": {
  "kernelspec": {
   "display_name": "Python 3",
   "language": "python",
   "name": "python3"
  },
  "language_info": {
   "codemirror_mode": {
    "name": "ipython",
    "version": 3
   },
   "file_extension": ".py",
   "mimetype": "text/x-python",
   "name": "python",
   "nbconvert_exporter": "python",
   "pygments_lexer": "ipython3",
   "version": "3.10.6"
  },
  "orig_nbformat": 4
 },
 "nbformat": 4,
 "nbformat_minor": 2
}
