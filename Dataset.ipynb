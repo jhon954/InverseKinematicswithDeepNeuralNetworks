{
 "cells": [
  {
   "cell_type": "code",
   "execution_count": 1,
   "metadata": {},
   "outputs": [],
   "source": [
    "import roboticstoolbox as rtb\n",
    "import numpy as np\n",
    "import sympy as sp\n",
    "import pandas as pd\n",
    "import csv\n",
    "import os\n",
    "import random\n",
    "from spatialmath.base import *"
   ]
  },
  {
   "cell_type": "code",
   "execution_count": 15,
   "metadata": {},
   "outputs": [],
   "source": [
    "def sTrasl(x, y, z):\n",
    "    \"\"\" Transformación homogénea que representa traslación pura\n",
    "    \"\"\"\n",
    "    T = sp.Matrix([[1,0,0,x],\n",
    "                   [0,1,0,y],\n",
    "                   [0,0,1,z],\n",
    "                   [0,0,0,1]])\n",
    "    return T\n",
    "\n",
    "def sTrotx(ang):\n",
    "    \"\"\" Transformación homogénea que representa rotación alrededor de x\n",
    "    \"\"\"\n",
    "    T = sp.Matrix([[1, 0,0,0],\n",
    "                   [0, sp.cos(ang),-sp.sin(ang),0],\n",
    "                   [0, sp.sin(ang), sp.cos(ang),0],\n",
    "                   [0, 0, 0, 1]])\n",
    "    return T\n",
    "\n",
    "def sTrotz(ang):\n",
    "    \"\"\" Transformación homogénea que representa rotación alrededor de z\n",
    "    \"\"\"\n",
    "    T = sp.Matrix([[sp.cos(ang),-sp.sin(ang),0,0],\n",
    "                   [sp.sin(ang), sp.cos(ang),0,0],\n",
    "                   [0,0,1,0],\n",
    "                   [0,0,0,1]])\n",
    "    return T"
   ]
  },
  {
   "cell_type": "code",
   "execution_count": 2,
   "metadata": {},
   "outputs": [
    {
     "name": "stdout",
     "output_type": "stream",
     "text": [
      "T01:\n"
     ]
    },
    {
     "data": {
      "text/latex": [
       "$\\displaystyle \\left[\\begin{matrix}\\cos{\\left(q_{1} \\right)} & 0 & - \\sin{\\left(q_{1} \\right)} & 0\\\\\\sin{\\left(q_{1} \\right)} & 0 & \\cos{\\left(q_{1} \\right)} & 0\\\\0 & -1 & 0 & l_{1}\\\\0 & 0 & 0 & 1\\end{matrix}\\right]$"
      ],
      "text/plain": [
       "Matrix([\n",
       "[cos(q1),  0, -sin(q1),  0],\n",
       "[sin(q1),  0,  cos(q1),  0],\n",
       "[      0, -1,        0, l1],\n",
       "[      0,  0,        0,  1]])"
      ]
     },
     "metadata": {},
     "output_type": "display_data"
    },
    {
     "name": "stdout",
     "output_type": "stream",
     "text": [
      "T12:\n"
     ]
    },
    {
     "data": {
      "text/latex": [
       "$\\displaystyle \\left[\\begin{matrix}\\sin{\\left(q_{2} \\right)} & \\cos{\\left(q_{2} \\right)} & 0 & l_{2} \\sin{\\left(q_{2} \\right)}\\\\- \\cos{\\left(q_{2} \\right)} & \\sin{\\left(q_{2} \\right)} & 0 & - l_{2} \\cos{\\left(q_{2} \\right)}\\\\0 & 0 & 1 & 0\\\\0 & 0 & 0 & 1\\end{matrix}\\right]$"
      ],
      "text/plain": [
       "Matrix([\n",
       "[ sin(q2), cos(q2), 0,  l2*sin(q2)],\n",
       "[-cos(q2), sin(q2), 0, -l2*cos(q2)],\n",
       "[       0,       0, 1,           0],\n",
       "[       0,       0, 0,           1]])"
      ]
     },
     "metadata": {},
     "output_type": "display_data"
    },
    {
     "name": "stdout",
     "output_type": "stream",
     "text": [
      "T23:\n"
     ]
    },
    {
     "data": {
      "text/latex": [
       "$\\displaystyle \\left[\\begin{matrix}\\cos{\\left(q_{3} \\right)} & 0 & - \\sin{\\left(q_{3} \\right)} & l_{3} \\cos{\\left(q_{3} \\right)}\\\\\\sin{\\left(q_{3} \\right)} & 0 & \\cos{\\left(q_{3} \\right)} & l_{3} \\sin{\\left(q_{3} \\right)}\\\\0 & -1 & 0 & 0\\\\0 & 0 & 0 & 1\\end{matrix}\\right]$"
      ],
      "text/plain": [
       "Matrix([\n",
       "[cos(q3),  0, -sin(q3), l3*cos(q3)],\n",
       "[sin(q3),  0,  cos(q3), l3*sin(q3)],\n",
       "[      0, -1,        0,          0],\n",
       "[      0,  0,        0,          1]])"
      ]
     },
     "metadata": {},
     "output_type": "display_data"
    },
    {
     "name": "stdout",
     "output_type": "stream",
     "text": [
      "T34:\n"
     ]
    },
    {
     "data": {
      "text/latex": [
       "$\\displaystyle \\left[\\begin{matrix}\\cos{\\left(q_{4} \\right)} & 0 & \\sin{\\left(q_{4} \\right)} & 0\\\\\\sin{\\left(q_{4} \\right)} & 0 & - \\cos{\\left(q_{4} \\right)} & 0\\\\0 & 1 & 0 & l_{4}\\\\0 & 0 & 0 & 1\\end{matrix}\\right]$"
      ],
      "text/plain": [
       "Matrix([\n",
       "[cos(q4), 0,  sin(q4),  0],\n",
       "[sin(q4), 0, -cos(q4),  0],\n",
       "[      0, 1,        0, l4],\n",
       "[      0, 0,        0,  1]])"
      ]
     },
     "metadata": {},
     "output_type": "display_data"
    },
    {
     "name": "stdout",
     "output_type": "stream",
     "text": [
      "T45:\n"
     ]
    },
    {
     "data": {
      "text/latex": [
       "$\\displaystyle \\left[\\begin{matrix}\\cos{\\left(q_{5} \\right)} & 0 & - \\sin{\\left(q_{5} \\right)} & 0\\\\\\sin{\\left(q_{5} \\right)} & 0 & \\cos{\\left(q_{5} \\right)} & 0\\\\0 & -1 & 0 & 0\\\\0 & 0 & 0 & 1\\end{matrix}\\right]$"
      ],
      "text/plain": [
       "Matrix([\n",
       "[cos(q5),  0, -sin(q5), 0],\n",
       "[sin(q5),  0,  cos(q5), 0],\n",
       "[      0, -1,        0, 0],\n",
       "[      0,  0,        0, 1]])"
      ]
     },
     "metadata": {},
     "output_type": "display_data"
    },
    {
     "name": "stdout",
     "output_type": "stream",
     "text": [
      "T56:\n"
     ]
    },
    {
     "data": {
      "text/latex": [
       "$\\displaystyle \\left[\\begin{matrix}\\cos{\\left(q_{6} \\right)} & - \\sin{\\left(q_{6} \\right)} & 0 & 0\\\\\\sin{\\left(q_{6} \\right)} & \\cos{\\left(q_{6} \\right)} & 0 & 0\\\\0 & 0 & 1 & l_{6}\\\\0 & 0 & 0 & 1\\end{matrix}\\right]$"
      ],
      "text/plain": [
       "Matrix([\n",
       "[cos(q6), -sin(q6), 0,  0],\n",
       "[sin(q6),  cos(q6), 0,  0],\n",
       "[      0,        0, 1, l6],\n",
       "[      0,        0, 0,  1]])"
      ]
     },
     "metadata": {},
     "output_type": "display_data"
    }
   ],
   "source": [
    "# Variables que serán utilizadas\n",
    "q1, q2, q3, q4, q5, q6 = sp.symbols(\"q1 q2 q3 q4 q5 q6\")\n",
    "l1, l2, l3, l4, l5, l6 = sp.symbols(\"l1 l2 l3 l4 l5 l6\")\n",
    "\n",
    "cos, sin = sp.cos, sp.sin\n",
    "# Transformaciones con respecto al sistema anterior\n",
    "T01 = sp.Matrix([\n",
    "    [cos(q1), 0, -sin(q1), 0],\n",
    "    [sin(q1), 0, cos(q1), 0],\n",
    "    [0,-1,0, l1],\n",
    "    [0,0,0,1]\n",
    "])\n",
    " \n",
    "T12 = sp.Matrix([\n",
    "  [sin(q2), cos(q2), 0, l2*sin(q2)],\n",
    "  [-cos(q2), sin(q2), 0, -l2*cos(q2)],\n",
    "  [0,0,1,0],\n",
    "  [0,0,0,1]\n",
    "])\n",
    "\n",
    "T23 = sp.Matrix([\n",
    "    [cos(q3), 0, -sin(q3), l3*cos(q3)],\n",
    "    [sin(q3), 0, cos(q3), l3*sin(q3)],\n",
    "    [0,-1,0,0],\n",
    "    [0,0,0,1]\n",
    "])\n",
    "\n",
    "T34 = sp.Matrix([\n",
    "    [cos(q4), 0, sin(q4), 0],\n",
    "    [sin(q4), 0, -cos(q4), 0],\n",
    "    [0,1,0,l4],\n",
    "    [0,0,0,1]\n",
    "])\n",
    "\n",
    "T45 = sp.Matrix([\n",
    "    [cos(q5), 0, -sin(q5), 0],\n",
    "    [sin(q5), 0, cos(q5), 0],\n",
    "    [0, -1, 0, 0],\n",
    "    [0,0,0,1]\n",
    "])\n",
    "\n",
    "T56 = sp.Matrix([\n",
    "    [cos(q6), -sin(q6), 0, 0],\n",
    "    [sin(q6), cos(q6), 0,0],\n",
    "    [0,0,1,l6],\n",
    "    [0,0,0,1]\n",
    "])\n",
    "\n",
    "T06 = sp.simplify(T01*T12*T23*T34*T45*T56)\n",
    "\n",
    "print(\"T01:\"); display(T01)\n",
    "print(\"T12:\"); display(T12)\n",
    "print(\"T23:\"); display(T23)\n",
    "print(\"T34:\"); display(T34)\n",
    "print(\"T45:\"); display(T45)\n",
    "print(\"T56:\"); display(T56)"
   ]
  },
  {
   "cell_type": "code",
   "execution_count": 5,
   "metadata": {},
   "outputs": [
    {
     "name": "stdout",
     "output_type": "stream",
     "text": [
      "T06:\n"
     ]
    },
    {
     "data": {
      "text/latex": [
       "$\\displaystyle \\left[\\begin{matrix}\\left(\\left(\\sin{\\left(q_{1} \\right)} \\sin{\\left(q_{4} \\right)} + \\sin{\\left(q_{2} + q_{3} \\right)} \\cos{\\left(q_{1} \\right)} \\cos{\\left(q_{4} \\right)}\\right) \\cos{\\left(q_{5} \\right)} + \\sin{\\left(q_{5} \\right)} \\cos{\\left(q_{1} \\right)} \\cos{\\left(q_{2} + q_{3} \\right)}\\right) \\cos{\\left(q_{6} \\right)} - \\left(- \\sin{\\left(q_{1} \\right)} \\cos{\\left(q_{4} \\right)} + \\sin{\\left(q_{4} \\right)} \\sin{\\left(q_{2} + q_{3} \\right)} \\cos{\\left(q_{1} \\right)}\\right) \\sin{\\left(q_{6} \\right)} & - \\left(\\left(\\sin{\\left(q_{1} \\right)} \\sin{\\left(q_{4} \\right)} + \\sin{\\left(q_{2} + q_{3} \\right)} \\cos{\\left(q_{1} \\right)} \\cos{\\left(q_{4} \\right)}\\right) \\cos{\\left(q_{5} \\right)} + \\sin{\\left(q_{5} \\right)} \\cos{\\left(q_{1} \\right)} \\cos{\\left(q_{2} + q_{3} \\right)}\\right) \\sin{\\left(q_{6} \\right)} + \\left(\\sin{\\left(q_{1} \\right)} \\cos{\\left(q_{4} \\right)} - \\sin{\\left(q_{4} \\right)} \\sin{\\left(q_{2} + q_{3} \\right)} \\cos{\\left(q_{1} \\right)}\\right) \\cos{\\left(q_{6} \\right)} & - \\left(\\sin{\\left(q_{1} \\right)} \\sin{\\left(q_{4} \\right)} + \\sin{\\left(q_{2} + q_{3} \\right)} \\cos{\\left(q_{1} \\right)} \\cos{\\left(q_{4} \\right)}\\right) \\sin{\\left(q_{5} \\right)} + \\cos{\\left(q_{1} \\right)} \\cos{\\left(q_{5} \\right)} \\cos{\\left(q_{2} + q_{3} \\right)} & l_{2} \\sin{\\left(q_{2} \\right)} \\cos{\\left(q_{1} \\right)} + l_{3} \\sin{\\left(q_{2} + q_{3} \\right)} \\cos{\\left(q_{1} \\right)} + l_{4} \\cos{\\left(q_{1} \\right)} \\cos{\\left(q_{2} + q_{3} \\right)} - l_{6} \\sin{\\left(q_{1} \\right)} \\sin{\\left(q_{4} \\right)} \\sin{\\left(q_{5} \\right)} - l_{6} \\sin{\\left(q_{5} \\right)} \\sin{\\left(q_{2} + q_{3} \\right)} \\cos{\\left(q_{1} \\right)} \\cos{\\left(q_{4} \\right)} + l_{6} \\cos{\\left(q_{1} \\right)} \\cos{\\left(q_{5} \\right)} \\cos{\\left(q_{2} + q_{3} \\right)}\\\\\\left(\\left(\\sin{\\left(q_{1} \\right)} \\sin{\\left(q_{2} + q_{3} \\right)} \\cos{\\left(q_{4} \\right)} - \\sin{\\left(q_{4} \\right)} \\cos{\\left(q_{1} \\right)}\\right) \\cos{\\left(q_{5} \\right)} + \\sin{\\left(q_{1} \\right)} \\sin{\\left(q_{5} \\right)} \\cos{\\left(q_{2} + q_{3} \\right)}\\right) \\cos{\\left(q_{6} \\right)} - \\left(\\sin{\\left(q_{1} \\right)} \\sin{\\left(q_{4} \\right)} \\sin{\\left(q_{2} + q_{3} \\right)} + \\cos{\\left(q_{1} \\right)} \\cos{\\left(q_{4} \\right)}\\right) \\sin{\\left(q_{6} \\right)} & - \\left(\\left(\\sin{\\left(q_{1} \\right)} \\sin{\\left(q_{2} + q_{3} \\right)} \\cos{\\left(q_{4} \\right)} - \\sin{\\left(q_{4} \\right)} \\cos{\\left(q_{1} \\right)}\\right) \\cos{\\left(q_{5} \\right)} + \\sin{\\left(q_{1} \\right)} \\sin{\\left(q_{5} \\right)} \\cos{\\left(q_{2} + q_{3} \\right)}\\right) \\sin{\\left(q_{6} \\right)} - \\left(\\sin{\\left(q_{1} \\right)} \\sin{\\left(q_{4} \\right)} \\sin{\\left(q_{2} + q_{3} \\right)} + \\cos{\\left(q_{1} \\right)} \\cos{\\left(q_{4} \\right)}\\right) \\cos{\\left(q_{6} \\right)} & - \\left(\\sin{\\left(q_{1} \\right)} \\sin{\\left(q_{2} + q_{3} \\right)} \\cos{\\left(q_{4} \\right)} - \\sin{\\left(q_{4} \\right)} \\cos{\\left(q_{1} \\right)}\\right) \\sin{\\left(q_{5} \\right)} + \\sin{\\left(q_{1} \\right)} \\cos{\\left(q_{5} \\right)} \\cos{\\left(q_{2} + q_{3} \\right)} & l_{2} \\sin{\\left(q_{1} \\right)} \\sin{\\left(q_{2} \\right)} + l_{3} \\sin{\\left(q_{1} \\right)} \\sin{\\left(q_{2} + q_{3} \\right)} + l_{4} \\sin{\\left(q_{1} \\right)} \\cos{\\left(q_{2} + q_{3} \\right)} - l_{6} \\sin{\\left(q_{1} \\right)} \\sin{\\left(q_{5} \\right)} \\sin{\\left(q_{2} + q_{3} \\right)} \\cos{\\left(q_{4} \\right)} + l_{6} \\sin{\\left(q_{1} \\right)} \\cos{\\left(q_{5} \\right)} \\cos{\\left(q_{2} + q_{3} \\right)} + l_{6} \\sin{\\left(q_{4} \\right)} \\sin{\\left(q_{5} \\right)} \\cos{\\left(q_{1} \\right)}\\\\- \\left(\\sin{\\left(q_{5} \\right)} \\sin{\\left(q_{2} + q_{3} \\right)} - \\cos{\\left(q_{4} \\right)} \\cos{\\left(q_{5} \\right)} \\cos{\\left(q_{2} + q_{3} \\right)}\\right) \\cos{\\left(q_{6} \\right)} - \\sin{\\left(q_{4} \\right)} \\sin{\\left(q_{6} \\right)} \\cos{\\left(q_{2} + q_{3} \\right)} & \\left(\\sin{\\left(q_{5} \\right)} \\sin{\\left(q_{2} + q_{3} \\right)} - \\cos{\\left(q_{4} \\right)} \\cos{\\left(q_{5} \\right)} \\cos{\\left(q_{2} + q_{3} \\right)}\\right) \\sin{\\left(q_{6} \\right)} - \\sin{\\left(q_{4} \\right)} \\cos{\\left(q_{6} \\right)} \\cos{\\left(q_{2} + q_{3} \\right)} & - \\sin{\\left(q_{5} \\right)} \\cos{\\left(q_{4} \\right)} \\cos{\\left(q_{2} + q_{3} \\right)} - \\sin{\\left(q_{2} + q_{3} \\right)} \\cos{\\left(q_{5} \\right)} & l_{1} + l_{2} \\cos{\\left(q_{2} \\right)} + l_{3} \\cos{\\left(q_{2} + q_{3} \\right)} - l_{4} \\sin{\\left(q_{2} + q_{3} \\right)} - l_{6} \\sin{\\left(q_{5} \\right)} \\cos{\\left(q_{4} \\right)} \\cos{\\left(q_{2} + q_{3} \\right)} - l_{6} \\sin{\\left(q_{2} + q_{3} \\right)} \\cos{\\left(q_{5} \\right)}\\\\0 & 0 & 0 & 1\\end{matrix}\\right]$"
      ],
      "text/plain": [
       "Matrix([\n",
       "[((sin(q1)*sin(q4) + sin(q2 + q3)*cos(q1)*cos(q4))*cos(q5) + sin(q5)*cos(q1)*cos(q2 + q3))*cos(q6) - (-sin(q1)*cos(q4) + sin(q4)*sin(q2 + q3)*cos(q1))*sin(q6), -((sin(q1)*sin(q4) + sin(q2 + q3)*cos(q1)*cos(q4))*cos(q5) + sin(q5)*cos(q1)*cos(q2 + q3))*sin(q6) + (sin(q1)*cos(q4) - sin(q4)*sin(q2 + q3)*cos(q1))*cos(q6), -(sin(q1)*sin(q4) + sin(q2 + q3)*cos(q1)*cos(q4))*sin(q5) + cos(q1)*cos(q5)*cos(q2 + q3), l2*sin(q2)*cos(q1) + l3*sin(q2 + q3)*cos(q1) + l4*cos(q1)*cos(q2 + q3) - l6*sin(q1)*sin(q4)*sin(q5) - l6*sin(q5)*sin(q2 + q3)*cos(q1)*cos(q4) + l6*cos(q1)*cos(q5)*cos(q2 + q3)],\n",
       "[ ((sin(q1)*sin(q2 + q3)*cos(q4) - sin(q4)*cos(q1))*cos(q5) + sin(q1)*sin(q5)*cos(q2 + q3))*cos(q6) - (sin(q1)*sin(q4)*sin(q2 + q3) + cos(q1)*cos(q4))*sin(q6), -((sin(q1)*sin(q2 + q3)*cos(q4) - sin(q4)*cos(q1))*cos(q5) + sin(q1)*sin(q5)*cos(q2 + q3))*sin(q6) - (sin(q1)*sin(q4)*sin(q2 + q3) + cos(q1)*cos(q4))*cos(q6), -(sin(q1)*sin(q2 + q3)*cos(q4) - sin(q4)*cos(q1))*sin(q5) + sin(q1)*cos(q5)*cos(q2 + q3), l2*sin(q1)*sin(q2) + l3*sin(q1)*sin(q2 + q3) + l4*sin(q1)*cos(q2 + q3) - l6*sin(q1)*sin(q5)*sin(q2 + q3)*cos(q4) + l6*sin(q1)*cos(q5)*cos(q2 + q3) + l6*sin(q4)*sin(q5)*cos(q1)],\n",
       "[                                                                -(sin(q5)*sin(q2 + q3) - cos(q4)*cos(q5)*cos(q2 + q3))*cos(q6) - sin(q4)*sin(q6)*cos(q2 + q3),                                                                  (sin(q5)*sin(q2 + q3) - cos(q4)*cos(q5)*cos(q2 + q3))*sin(q6) - sin(q4)*cos(q6)*cos(q2 + q3),                                     -sin(q5)*cos(q4)*cos(q2 + q3) - sin(q2 + q3)*cos(q5),                                                                 l1 + l2*cos(q2) + l3*cos(q2 + q3) - l4*sin(q2 + q3) - l6*sin(q5)*cos(q4)*cos(q2 + q3) - l6*sin(q2 + q3)*cos(q5)],\n",
       "[                                                                                                                                                            0,                                                                                                                                                             0,                                                                                        0,                                                                                                                                                                               1]])"
      ]
     },
     "metadata": {},
     "output_type": "display_data"
    }
   ],
   "source": [
    "print(\"T06:\"); display(T06)"
   ]
  },
  {
   "cell_type": "code",
   "execution_count": 16,
   "metadata": {},
   "outputs": [
    {
     "data": {
      "text/plain": [
       "DHRobot: IRB 120, 6 joints (RRRRRR), dynamics, standard DH parameters\n",
       "┌──────────┬───────┬──────┬────────┐\n",
       "│   θⱼ     │  dⱼ   │  aⱼ  │   ⍺ⱼ   │\n",
       "├──────────┼───────┼──────┼────────┤\n",
       "│ q1\u001b[0m       │  0.29\u001b[0m │    0\u001b[0m │ -90.0°\u001b[0m │\n",
       "│ q2 - 90°\u001b[0m │     0\u001b[0m │ 0.27\u001b[0m │   0.0°\u001b[0m │\n",
       "│ q3\u001b[0m       │     0\u001b[0m │ 0.07\u001b[0m │ -90.0°\u001b[0m │\n",
       "│ q4\u001b[0m       │ 0.302\u001b[0m │    0\u001b[0m │  90.0°\u001b[0m │\n",
       "│ q5\u001b[0m       │     0\u001b[0m │    0\u001b[0m │ -90.0°\u001b[0m │\n",
       "│ q6\u001b[0m       │ 0.072\u001b[0m │    0\u001b[0m │   0.0°\u001b[0m │\n",
       "└──────────┴───────┴──────┴────────┘\n",
       "\n",
       "┌─┬──┐\n",
       "└─┴──┘"
      ]
     },
     "execution_count": 16,
     "metadata": {},
     "output_type": "execute_result"
    }
   ],
   "source": [
    "class IRB120(rtb.DHRobot):\n",
    "\n",
    "    q0 = [0,0,0,0,0,0] #Valores de q para posicion inicial\n",
    "    \n",
    "    def __init__(self):\n",
    "        super().__init__(                \n",
    "                [\n",
    "                    rtb.RevoluteDH(offset=0, d=0.290, a=0,alpha=-np.pi/2),\n",
    "                    rtb.RevoluteDH(offset=-np.pi/2, d=0, a=0.27,alpha=0),\n",
    "                    rtb.RevoluteDH(offset=0, d=0, a=0.07,alpha=-np.pi/2),\n",
    "                    rtb.RevoluteDH(offset=0, d=0.302, a=0,alpha=np.pi/2),\n",
    "                    rtb.RevoluteDH(offset=0, d=0, a=0,alpha=-np.pi/2),\n",
    "                    rtb.RevoluteDH(offset=0, d=0.072, a=0,alpha=0),\n",
    "                ], name=\"IRB 120\"\n",
    "                        )\n",
    "robot = IRB120()\n",
    "robot"
   ]
  },
  {
   "cell_type": "code",
   "execution_count": 8,
   "metadata": {},
   "outputs": [
    {
     "data": {
      "text/plain": [
       "array([[-0.80691514,  0.0633539 , -0.58725994, -0.04132001],\n",
       "       [-0.03821904,  0.98654765,  0.15894353, -0.00437144],\n",
       "       [ 0.5894296 ,  0.15069845, -0.79363891,  0.19322372],\n",
       "       [ 0.        ,  0.        ,  0.        ,  1.        ]])"
      ]
     },
     "execution_count": 8,
     "metadata": {},
     "output_type": "execute_result"
    }
   ],
   "source": [
    "t06 = T06.evalf(subs={q1:-1.51, q2:-0.763, q3:1.85, q4:-0.817, q5:0.912, q6:2.3, l1: 0.29, l2:0.27, l3:0.07, l4:0.302, l5:0, l6:0.072})\n",
    "final = np.array(t06).astype(np.float64)\n",
    "final"
   ]
  },
  {
   "cell_type": "code",
   "execution_count": 9,
   "metadata": {},
   "outputs": [
    {
     "data": {
      "text/plain": [
       "(-0.041320012563265215, -0.0043714411377508405, 0.19322372449628114)"
      ]
     },
     "execution_count": 9,
     "metadata": {},
     "output_type": "execute_result"
    }
   ],
   "source": [
    "valor = np.array(T)\n",
    "x = final[0][3]\n",
    "y = final[1][3]\n",
    "z = final[2][3]\n",
    "x,y,z"
   ]
  },
  {
   "cell_type": "code",
   "execution_count": 14,
   "metadata": {},
   "outputs": [],
   "source": [
    "archivo_csv = \"datos_IRB120rpy.csv\"\n",
    "archivo_existe = os.path.isfile(archivo_csv)\n"
   ]
  },
  {
   "attachments": {
    "image.png": {
     "image/png": "[encoded data removed]"
    }
   },
   "cell_type": "markdown",
   "metadata": {},
   "source": [
    "![image.png](attachment:image.png)"
   ]
  },
  {
   "cell_type": "code",
   "execution_count": 17,
   "metadata": {},
   "outputs": [],
   "source": [
    "n = 100000\n",
    "\n",
    "for i in range(n):\n",
    "    q1 = round(random.uniform(np.deg2rad(-165), np.deg2rad(165)),4)\n",
    "    q2 = round(random.uniform(np.deg2rad(-110), np.deg2rad(110)),4)\n",
    "    q3 = round(random.uniform(np.deg2rad(-110), np.deg2rad(70)),4)\n",
    "    q4 = round(random.uniform(np.deg2rad(-160), np.deg2rad(160)),4)\n",
    "    q5 = round(random.uniform(np.deg2rad(-120), np.deg2rad(120)),4)\n",
    "    q6 = round(random.uniform(np.deg2rad(0), np.deg2rad(360)),4)\n",
    "    q = [q1,q2,q3,q4,q5,q6]\n",
    "    T = robot.fkine(q)\n",
    "    valor = np.array(T)\n",
    "    roll,pitch,yaw = tr2rpy(np.array(valor))\n",
    "    \n",
    "    x = np.around(valor[0,-1], 5)\n",
    "    y = np.around(valor[1,-1], 5)\n",
    "    z = np.around(valor[2,-1], 5)\n",
    "\n",
    "    nueva_fila = [q1,q2,q3,q4,q5,q6,roll,pitch,yaw,x,y,z]\n",
    "    with open(archivo_csv, mode='a', newline='') as archivo:\n",
    "        escritor_csv = csv.writer(archivo)\n",
    "        escritor_csv.writerow(nueva_fila)"
   ]
  },
  {
   "cell_type": "code",
   "execution_count": 18,
   "metadata": {},
   "outputs": [],
   "source": [
    "Titulo = [\"Q1\",\"Q2\",\"Q3\",\"Q4\",\"Q5\",\"Q6\",\"Roll\", \"Pitch\", \"Yaw\", \"X\",\"Y\",\"Z\"]\n",
    "with open(archivo_csv, mode='r') as archivo_lectura, open('temp.csv', mode='w', newline='') as archivo_escritura:\n",
    "    lector_csv = csv.reader(archivo_lectura)\n",
    "    escritor_csv = csv.writer(archivo_escritura)\n",
    "    escritor_csv.writerow(Titulo)\n",
    "    for fila in lector_csv:\n",
    "        escritor_csv.writerow(fila)\n",
    "os.replace('temp.csv', archivo_csv)"
   ]
  },
  {
   "cell_type": "code",
   "execution_count": 19,
   "metadata": {},
   "outputs": [
    {
     "data": {
      "text/html": [
       "<div>\n",
       "<style scoped>\n",
       "    .dataframe tbody tr th:only-of-type {\n",
       "        vertical-align: middle;\n",
       "    }\n",
       "\n",
       "    .dataframe tbody tr th {\n",
       "        vertical-align: top;\n",
       "    }\n",
       "\n",
       "    .dataframe thead th {\n",
       "        text-align: right;\n",
       "    }\n",
       "</style>\n",
       "<table border=\"1\" class=\"dataframe\">\n",
       "  <thead>\n",
       "    <tr style=\"text-align: right;\">\n",
       "      <th></th>\n",
       "      <th>Q1</th>\n",
       "      <th>Q2</th>\n",
       "      <th>Q3</th>\n",
       "      <th>Q4</th>\n",
       "      <th>Q5</th>\n",
       "      <th>Q6</th>\n",
       "      <th>Roll</th>\n",
       "      <th>Pitch</th>\n",
       "      <th>Yaw</th>\n",
       "      <th>X</th>\n",
       "      <th>Y</th>\n",
       "      <th>Z</th>\n",
       "    </tr>\n",
       "  </thead>\n",
       "  <tbody>\n",
       "    <tr>\n",
       "      <th>0</th>\n",
       "      <td>-1.2725</td>\n",
       "      <td>0.1765</td>\n",
       "      <td>-0.2675</td>\n",
       "      <td>1.2871</td>\n",
       "      <td>1.7241</td>\n",
       "      <td>1.7746</td>\n",
       "      <td>2.670896</td>\n",
       "      <td>1.240142</td>\n",
       "      <td>3.079316</td>\n",
       "      <td>0.16306</td>\n",
       "      <td>-0.29789</td>\n",
       "      <td>0.63213</td>\n",
       "    </tr>\n",
       "    <tr>\n",
       "      <th>1</th>\n",
       "      <td>2.1500</td>\n",
       "      <td>-0.3738</td>\n",
       "      <td>0.5203</td>\n",
       "      <td>-0.9932</td>\n",
       "      <td>-0.1559</td>\n",
       "      <td>0.3500</td>\n",
       "      <td>1.673083</td>\n",
       "      <td>-0.938626</td>\n",
       "      <td>-2.514319</td>\n",
       "      <td>-0.16200</td>\n",
       "      <td>0.23058</td>\n",
       "      <td>0.56218</td>\n",
       "    </tr>\n",
       "    <tr>\n",
       "      <th>2</th>\n",
       "      <td>2.4630</td>\n",
       "      <td>0.0588</td>\n",
       "      <td>0.1829</td>\n",
       "      <td>2.5025</td>\n",
       "      <td>0.8853</td>\n",
       "      <td>1.4526</td>\n",
       "      <td>0.929903</td>\n",
       "      <td>0.714333</td>\n",
       "      <td>-2.159952</td>\n",
       "      <td>-0.31731</td>\n",
       "      <td>0.21315</td>\n",
       "      <td>0.58774</td>\n",
       "    </tr>\n",
       "    <tr>\n",
       "      <th>3</th>\n",
       "      <td>-0.2220</td>\n",
       "      <td>-1.2199</td>\n",
       "      <td>0.8517</td>\n",
       "      <td>1.3264</td>\n",
       "      <td>-0.6319</td>\n",
       "      <td>4.3036</td>\n",
       "      <td>0.664402</td>\n",
       "      <td>-1.002397</td>\n",
       "      <td>1.485717</td>\n",
       "      <td>0.04312</td>\n",
       "      <td>-0.05204</td>\n",
       "      <td>0.58733</td>\n",
       "    </tr>\n",
       "    <tr>\n",
       "      <th>4</th>\n",
       "      <td>-2.8115</td>\n",
       "      <td>-0.5678</td>\n",
       "      <td>0.7310</td>\n",
       "      <td>0.8337</td>\n",
       "      <td>1.6392</td>\n",
       "      <td>5.3698</td>\n",
       "      <td>-2.387837</td>\n",
       "      <td>-0.468515</td>\n",
       "      <td>-2.128698</td>\n",
       "      <td>-0.12604</td>\n",
       "      <td>-0.09941</td>\n",
       "      <td>0.49080</td>\n",
       "    </tr>\n",
       "  </tbody>\n",
       "</table>\n",
       "</div>"
      ],
      "text/plain": [
       "       Q1      Q2      Q3      Q4      Q5      Q6      Roll     Pitch   \n",
       "0 -1.2725  0.1765 -0.2675  1.2871  1.7241  1.7746  2.670896  1.240142  \\\n",
       "1  2.1500 -0.3738  0.5203 -0.9932 -0.1559  0.3500  1.673083 -0.938626   \n",
       "2  2.4630  0.0588  0.1829  2.5025  0.8853  1.4526  0.929903  0.714333   \n",
       "3 -0.2220 -1.2199  0.8517  1.3264 -0.6319  4.3036  0.664402 -1.002397   \n",
       "4 -2.8115 -0.5678  0.7310  0.8337  1.6392  5.3698 -2.387837 -0.468515   \n",
       "\n",
       "        Yaw        X        Y        Z  \n",
       "0  3.079316  0.16306 -0.29789  0.63213  \n",
       "1 -2.514319 -0.16200  0.23058  0.56218  \n",
       "2 -2.159952 -0.31731  0.21315  0.58774  \n",
       "3  1.485717  0.04312 -0.05204  0.58733  \n",
       "4 -2.128698 -0.12604 -0.09941  0.49080  "
      ]
     },
     "execution_count": 19,
     "metadata": {},
     "output_type": "execute_result"
    }
   ],
   "source": [
    "data = pd.read_csv('datos_IRB120rpy.csv')\n",
    "data.head()"
   ]
  },
  {
   "cell_type": "code",
   "execution_count": 20,
   "metadata": {},
   "outputs": [
    {
     "data": {
      "text/plain": [
       "  \u001b[38;5;1m-0.324   \u001b[0m \u001b[38;5;1m-0.3726  \u001b[0m \u001b[38;5;1m 0.8696  \u001b[0m \u001b[38;5;4m 0.1631  \u001b[0m  \u001b[0m\n",
       "  \u001b[38;5;1m 0.02021 \u001b[0m \u001b[38;5;1m 0.9162  \u001b[0m \u001b[38;5;1m 0.4002  \u001b[0m \u001b[38;5;4m-0.2979  \u001b[0m  \u001b[0m\n",
       "  \u001b[38;5;1m-0.9458  \u001b[0m \u001b[38;5;1m 0.1472  \u001b[0m \u001b[38;5;1m-0.2894  \u001b[0m \u001b[38;5;4m 0.6321  \u001b[0m  \u001b[0m\n",
       "  \u001b[38;5;244m 0       \u001b[0m \u001b[38;5;244m 0       \u001b[0m \u001b[38;5;244m 0       \u001b[0m \u001b[38;5;244m 1       \u001b[0m  \u001b[0m\n"
      ]
     },
     "execution_count": 20,
     "metadata": {},
     "output_type": "execute_result"
    }
   ],
   "source": [
    "robot.fkine([-1.2725,\t0.1765,\t-0.2675,\t1.2871,\t1.7241,\t1.7746])"
   ]
  },
  {
   "attachments": {},
   "cell_type": "markdown",
   "metadata": {},
   "source": [
    "### New IRB140"
   ]
  },
  {
   "cell_type": "code",
   "execution_count": 4,
   "metadata": {},
   "outputs": [
    {
     "data": {
      "text/plain": [
       "DHRobot: IRB 140 (by ABB), 6 joints (RRRRRR), dynamics, geometry, standard DH parameters\n",
       "┌────┬───────┬──────┬────────┬─────────┬────────┐\n",
       "│θⱼ  │  dⱼ   │  aⱼ  │   ⍺ⱼ   │   q⁻    │   q⁺   │\n",
       "├────┼───────┼──────┼────────┼─────────┼────────┤\n",
       "│ q1\u001b[0m │ 0.352\u001b[0m │ 0.07\u001b[0m │ -90.0°\u001b[0m │ -180.0°\u001b[0m │ 180.0°\u001b[0m │\n",
       "│ q2\u001b[0m │     0\u001b[0m │ 0.36\u001b[0m │   0.0°\u001b[0m │ -100.0°\u001b[0m │ 100.0°\u001b[0m │\n",
       "│ q3\u001b[0m │     0\u001b[0m │    0\u001b[0m │ -90.0°\u001b[0m │ -220.0°\u001b[0m │  60.0°\u001b[0m │\n",
       "│ q4\u001b[0m │  0.38\u001b[0m │    0\u001b[0m │  90.0°\u001b[0m │ -200.0°\u001b[0m │ 200.0°\u001b[0m │\n",
       "│ q5\u001b[0m │     0\u001b[0m │    0\u001b[0m │ -90.0°\u001b[0m │ -120.0°\u001b[0m │ 120.0°\u001b[0m │\n",
       "│ q6\u001b[0m │ 0.065\u001b[0m │    0\u001b[0m │   0.0°\u001b[0m │ -400.0°\u001b[0m │ 400.0°\u001b[0m │\n",
       "└────┴───────┴──────┴────────┴─────────┴────────┘\n",
       "\n",
       "┌─┬──┐\n",
       "└─┴──┘\n",
       "\n",
       "┌─────┬─────┬──────┬───────┬─────┬──────┬──────┐\n",
       "│name │ q0  │ q1   │ q2    │ q3  │ q4   │ q5   │\n",
       "├─────┼─────┼──────┼───────┼─────┼──────┼──────┤\n",
       "│  qr\u001b[0m │  0°\u001b[0m │ -90°\u001b[0m │  90°\u001b[0m  │  0°\u001b[0m │  90°\u001b[0m │ -90°\u001b[0m │\n",
       "│  qz\u001b[0m │  0°\u001b[0m │  0°\u001b[0m  │  0°\u001b[0m   │  0°\u001b[0m │  0°\u001b[0m  │  0°\u001b[0m  │\n",
       "│  qd\u001b[0m │  0°\u001b[0m │ -90°\u001b[0m │  180°\u001b[0m │  0°\u001b[0m │  0°\u001b[0m  │ -90°\u001b[0m │\n",
       "└─────┴─────┴──────┴───────┴─────┴──────┴──────┘"
      ]
     },
     "execution_count": 4,
     "metadata": {},
     "output_type": "execute_result"
    }
   ],
   "source": [
    "robot = rtb.models.DH.IRB140()\n",
    "robot"
   ]
  },
  {
   "attachments": {
    "image.png": {
     "image/png": "[encoded data removed]"
    }
   },
   "cell_type": "markdown",
   "metadata": {},
   "source": [
    "![image.png](attachment:image.png)"
   ]
  },
  {
   "cell_type": "code",
   "execution_count": null,
   "metadata": {},
   "outputs": [],
   "source": [
    "robot.maxangle =[-pi pi; %Axis 1, minimum, maximum\n",
    "                deg2rad(-100) deg2rad(100); %Axis 2, minimum, maximum\n",
    "                deg2rad(-220) deg2rad(60); %Axis 3\n",
    "                deg2rad(-200) deg2rad(200); %Axis 4: Unlimited (400� default)\n",
    "                deg2rad(-120) deg2rad(120); %Axis 5\n",
    "                deg2rad(-400) deg2rad(400)]; %Axis 6: Really Unlimited to (800� default)"
   ]
  },
  {
   "cell_type": "code",
   "execution_count": 21,
   "metadata": {},
   "outputs": [],
   "source": [
    "archivo_csv = \"datos_IRB140.csv\"\n",
    "archivo_existe = os.path.isfile(archivo_csv)"
   ]
  },
  {
   "cell_type": "code",
   "execution_count": 22,
   "metadata": {},
   "outputs": [],
   "source": [
    "n = 50000\n",
    "\n",
    "for i in range(n):\n",
    "    q1 = round(random.uniform(np.deg2rad(-180), np.deg2rad(180)),4)\n",
    "    q2 = round(random.uniform(np.deg2rad(110), np.deg2rad(90)),4)\n",
    "    q3 = round(random.uniform(np.deg2rad(-230), np.deg2rad(50)),4)\n",
    "    q4 = round(random.uniform(np.deg2rad(-200), np.deg2rad(200)),4)\n",
    "    q5 = round(random.uniform(np.deg2rad(-115), np.deg2rad(115)),4)\n",
    "    q6 = round(random.uniform(np.deg2rad(-400), np.deg2rad(400)),4)\n",
    "    q = [q1,q2,q3,q4,q5,q6]\n",
    "    T = robot.fkine(q)\n",
    "    valor = np.array(T)\n",
    "    roll,pitch,yaw = tr2rpy(np.array(valor))\n",
    "    \n",
    "    x = np.around(valor[0,-1], 5)\n",
    "    y = np.around(valor[1,-1], 5)\n",
    "    z = np.around(valor[2,-1], 5)\n",
    "\n",
    "    nueva_fila = [q1,q2,q3,q4,q5,q6,roll,pitch,yaw,x,y,z]\n",
    "    with open(archivo_csv, mode='a', newline='') as archivo:\n",
    "        escritor_csv = csv.writer(archivo)\n",
    "        escritor_csv.writerow(nueva_fila)"
   ]
  },
  {
   "cell_type": "code",
   "execution_count": 23,
   "metadata": {},
   "outputs": [],
   "source": [
    "Titulo = [\"Q1\",\"Q2\",\"Q3\",\"Q4\",\"Q5\",\"Q6\",\"Roll\", \"Pitch\", \"Yaw\", \"X\",\"Y\",\"Z\"]\n",
    "with open(archivo_csv, mode='r') as archivo_lectura, open('temp.csv', mode='w', newline='') as archivo_escritura:\n",
    "    lector_csv = csv.reader(archivo_lectura)\n",
    "    escritor_csv = csv.writer(archivo_escritura)\n",
    "    escritor_csv.writerow(Titulo)\n",
    "    for fila in lector_csv:\n",
    "        escritor_csv.writerow(fila)\n",
    "os.replace('temp.csv', archivo_csv)"
   ]
  },
  {
   "cell_type": "code",
   "execution_count": 24,
   "metadata": {},
   "outputs": [
    {
     "data": {
      "text/html": [
       "<div>\n",
       "<style scoped>\n",
       "    .dataframe tbody tr th:only-of-type {\n",
       "        vertical-align: middle;\n",
       "    }\n",
       "\n",
       "    .dataframe tbody tr th {\n",
       "        vertical-align: top;\n",
       "    }\n",
       "\n",
       "    .dataframe thead th {\n",
       "        text-align: right;\n",
       "    }\n",
       "</style>\n",
       "<table border=\"1\" class=\"dataframe\">\n",
       "  <thead>\n",
       "    <tr style=\"text-align: right;\">\n",
       "      <th></th>\n",
       "      <th>Q1</th>\n",
       "      <th>Q2</th>\n",
       "      <th>Q3</th>\n",
       "      <th>Q4</th>\n",
       "      <th>Q5</th>\n",
       "      <th>Q6</th>\n",
       "      <th>Roll</th>\n",
       "      <th>Pitch</th>\n",
       "      <th>Yaw</th>\n",
       "      <th>X</th>\n",
       "      <th>Y</th>\n",
       "      <th>Z</th>\n",
       "    </tr>\n",
       "  </thead>\n",
       "  <tbody>\n",
       "    <tr>\n",
       "      <th>0</th>\n",
       "      <td>-1.8922</td>\n",
       "      <td>1.6694</td>\n",
       "      <td>-2.5307</td>\n",
       "      <td>-2.9245</td>\n",
       "      <td>1.7063</td>\n",
       "      <td>-6.0931</td>\n",
       "      <td>0.310199</td>\n",
       "      <td>0.529029</td>\n",
       "      <td>-1.710576</td>\n",
       "      <td>-0.12599</td>\n",
       "      <td>-0.33450</td>\n",
       "      <td>-0.20037</td>\n",
       "    </tr>\n",
       "    <tr>\n",
       "      <th>1</th>\n",
       "      <td>0.8078</td>\n",
       "      <td>1.8302</td>\n",
       "      <td>-0.9012</td>\n",
       "      <td>2.4696</td>\n",
       "      <td>1.2288</td>\n",
       "      <td>2.3951</td>\n",
       "      <td>-2.983873</td>\n",
       "      <td>-0.641380</td>\n",
       "      <td>1.832395</td>\n",
       "      <td>-0.24559</td>\n",
       "      <td>-0.20169</td>\n",
       "      <td>-0.27487</td>\n",
       "    </tr>\n",
       "    <tr>\n",
       "      <th>2</th>\n",
       "      <td>-2.3694</td>\n",
       "      <td>1.8888</td>\n",
       "      <td>-0.2693</td>\n",
       "      <td>-1.7910</td>\n",
       "      <td>-0.1600</td>\n",
       "      <td>1.3543</td>\n",
       "      <td>-1.372490</td>\n",
       "      <td>1.136919</td>\n",
       "      <td>-0.774904</td>\n",
       "      <td>0.35528</td>\n",
       "      <td>0.33191</td>\n",
       "      <td>0.03393</td>\n",
       "    </tr>\n",
       "    <tr>\n",
       "      <th>3</th>\n",
       "      <td>0.3878</td>\n",
       "      <td>1.8537</td>\n",
       "      <td>-1.9545</td>\n",
       "      <td>2.7362</td>\n",
       "      <td>0.9196</td>\n",
       "      <td>-0.2250</td>\n",
       "      <td>-2.735415</td>\n",
       "      <td>0.956467</td>\n",
       "      <td>-1.890548</td>\n",
       "      <td>0.04689</td>\n",
       "      <td>0.04118</td>\n",
       "      <td>-0.40618</td>\n",
       "    </tr>\n",
       "    <tr>\n",
       "      <th>4</th>\n",
       "      <td>2.6022</td>\n",
       "      <td>1.8995</td>\n",
       "      <td>0.7117</td>\n",
       "      <td>1.2157</td>\n",
       "      <td>1.1843</td>\n",
       "      <td>3.4361</td>\n",
       "      <td>-0.459022</td>\n",
       "      <td>0.995100</td>\n",
       "      <td>-2.742595</td>\n",
       "      <td>0.17074</td>\n",
       "      <td>-0.16800</td>\n",
       "      <td>0.37079</td>\n",
       "    </tr>\n",
       "  </tbody>\n",
       "</table>\n",
       "</div>"
      ],
      "text/plain": [
       "       Q1      Q2      Q3      Q4      Q5      Q6      Roll     Pitch   \n",
       "0 -1.8922  1.6694 -2.5307 -2.9245  1.7063 -6.0931  0.310199  0.529029  \\\n",
       "1  0.8078  1.8302 -0.9012  2.4696  1.2288  2.3951 -2.983873 -0.641380   \n",
       "2 -2.3694  1.8888 -0.2693 -1.7910 -0.1600  1.3543 -1.372490  1.136919   \n",
       "3  0.3878  1.8537 -1.9545  2.7362  0.9196 -0.2250 -2.735415  0.956467   \n",
       "4  2.6022  1.8995  0.7117  1.2157  1.1843  3.4361 -0.459022  0.995100   \n",
       "\n",
       "        Yaw        X        Y        Z  \n",
       "0 -1.710576 -0.12599 -0.33450 -0.20037  \n",
       "1  1.832395 -0.24559 -0.20169 -0.27487  \n",
       "2 -0.774904  0.35528  0.33191  0.03393  \n",
       "3 -1.890548  0.04689  0.04118 -0.40618  \n",
       "4 -2.742595  0.17074 -0.16800  0.37079  "
      ]
     },
     "execution_count": 24,
     "metadata": {},
     "output_type": "execute_result"
    }
   ],
   "source": [
    "data = pd.read_csv('datos_IRB140.csv')\n",
    "data.head()"
   ]
  },
  {
   "cell_type": "code",
   "execution_count": 25,
   "metadata": {},
   "outputs": [
    {
     "data": {
      "text/plain": [
       "-108.41507399465438"
      ]
     },
     "execution_count": 25,
     "metadata": {},
     "output_type": "execute_result"
    }
   ],
   "source": [
    "np.rad2deg(-1.8922)"
   ]
  },
  {
   "attachments": {},
   "cell_type": "markdown",
   "metadata": {},
   "source": [
    "## Xarm6"
   ]
  },
  {
   "cell_type": "code",
   "execution_count": 7,
   "metadata": {},
   "outputs": [
    {
     "data": {
      "text/plain": [
       "DHRobot: Xarm6, 6 joints (RRRRRR), dynamics, standard DH parameters\n",
       "┌────┬────────┬────────┬────────┐\n",
       "│θⱼ  │   dⱼ   │   aⱼ   │   ⍺ⱼ   │\n",
       "├────┼────────┼────────┼────────┤\n",
       "│ q1\u001b[0m │  0.267\u001b[0m │      0\u001b[0m │ -90.0°\u001b[0m │\n",
       "│ q2\u001b[0m │      0\u001b[0m │ 0.2895\u001b[0m │   0.0°\u001b[0m │\n",
       "│ q3\u001b[0m │      0\u001b[0m │ 0.0775\u001b[0m │ -90.0°\u001b[0m │\n",
       "│ q4\u001b[0m │ 0.3435\u001b[0m │      0\u001b[0m │  90.0°\u001b[0m │\n",
       "│ q5\u001b[0m │      0\u001b[0m │  0.076\u001b[0m │ -90.0°\u001b[0m │\n",
       "│ q6\u001b[0m │  0.097\u001b[0m │      0\u001b[0m │   0.0°\u001b[0m │\n",
       "└────┴────────┴────────┴────────┘\n",
       "\n",
       "┌─┬──┐\n",
       "└─┴──┘"
      ]
     },
     "execution_count": 7,
     "metadata": {},
     "output_type": "execute_result"
    }
   ],
   "source": [
    "class xarm6(rtb.DHRobot):\n",
    "    def __init__(self):\n",
    "        super().__init__(                \n",
    "                [\n",
    "                    rtb.RevoluteDH(offset=0, d=0.267, a=0,alpha=-np.pi/2),\n",
    "                    rtb.RevoluteDH(offset=0, d=0, a=0.2895,alpha=0),\n",
    "                    rtb.RevoluteDH(offset=0, d=0, a=0.0775,alpha=-np.pi/2),\n",
    "                    rtb.RevoluteDH(offset=0, d=0.3435, a=0,alpha=np.pi/2),\n",
    "                    rtb.RevoluteDH(offset=0, d=0, a=0.076,alpha=-np.pi/2),\n",
    "                    rtb.RevoluteDH(offset=0, d=0.097, a=0,alpha=0),\n",
    "                ], name=\"Xarm6\"\n",
    "                        )\n",
    "robot = xarm6()\n",
    "robot"
   ]
  },
  {
   "cell_type": "code",
   "execution_count": 13,
   "metadata": {},
   "outputs": [
    {
     "data": {
      "text/plain": [
       "  \u001b[38;5;1m 0.1334  \u001b[0m \u001b[38;5;1m 0.6959  \u001b[0m \u001b[38;5;1m 0.7057  \u001b[0m \u001b[38;5;4m-0.1153  \u001b[0m  \u001b[0m\n",
       "  \u001b[38;5;1m-0.1578  \u001b[0m \u001b[38;5;1m 0.7179  \u001b[0m \u001b[38;5;1m-0.6781  \u001b[0m \u001b[38;5;4m-0.7123  \u001b[0m  \u001b[0m\n",
       "  \u001b[38;5;1m-0.9784  \u001b[0m \u001b[38;5;1m-0.02085 \u001b[0m \u001b[38;5;1m 0.2056  \u001b[0m \u001b[38;5;4m 0.08476 \u001b[0m  \u001b[0m\n",
       "  \u001b[38;5;244m 0       \u001b[0m \u001b[38;5;244m 0       \u001b[0m \u001b[38;5;244m 0       \u001b[0m \u001b[38;5;244m 1       \u001b[0m  \u001b[0m\n"
      ]
     },
     "execution_count": 13,
     "metadata": {},
     "output_type": "execute_result"
    }
   ],
   "source": [
    "robot.fkine([4.4771,\t0.4565,\t-1.6905,\t1.9714,\t1.1602,\t1.0718])"
   ]
  },
  {
   "cell_type": "code",
   "execution_count": 8,
   "metadata": {},
   "outputs": [],
   "source": [
    "archivo_csv = \"datos_Xarm6.csv\"\n",
    "archivo_existe = os.path.isfile(archivo_csv)"
   ]
  },
  {
   "cell_type": "code",
   "execution_count": 9,
   "metadata": {},
   "outputs": [],
   "source": [
    "n = 50000\n",
    "\n",
    "for i in range(n):\n",
    "    q1 = round(random.uniform(0, np.deg2rad(360)),4)\n",
    "    q2 = round(random.uniform(0, np.deg2rad(90)),4)\n",
    "    q3 = round(random.uniform(np.deg2rad(-180), np.deg2rad(-90)),4)\n",
    "    q4 = round(random.uniform(0, np.deg2rad(180)),4)\n",
    "    q5 = round(random.uniform(0, np.deg2rad(180)),4)\n",
    "    q6 = round(random.uniform(0, np.deg2rad(360)),4)\n",
    "    q = [q1,q2,q3,q4,q5,q6]\n",
    "    T = robot.fkine(q)\n",
    "    valor = np.array(T)\n",
    "    roll,pitch,yaw = tr2rpy(np.array(valor))\n",
    "    \n",
    "    x = np.around(valor[0,-1], 5)\n",
    "    y = np.around(valor[1,-1], 5)\n",
    "    z = np.around(valor[2,-1], 5)\n",
    "\n",
    "    nueva_fila = [q1,q2,q3,q4,q5,q6,roll,pitch,yaw,x,y,z]\n",
    "    with open(archivo_csv, mode='a', newline='') as archivo:\n",
    "        escritor_csv = csv.writer(archivo)\n",
    "        escritor_csv.writerow(nueva_fila)"
   ]
  },
  {
   "cell_type": "code",
   "execution_count": 10,
   "metadata": {},
   "outputs": [],
   "source": [
    "Titulo = [\"Q1\",\"Q2\",\"Q3\",\"Q4\",\"Q5\",\"Q6\",\"Roll\", \"Pitch\", \"Yaw\", \"X\",\"Y\",\"Z\"]\n",
    "with open(archivo_csv, mode='r') as archivo_lectura, open('temp.csv', mode='w', newline='') as archivo_escritura:\n",
    "    lector_csv = csv.reader(archivo_lectura)\n",
    "    escritor_csv = csv.writer(archivo_escritura)\n",
    "    escritor_csv.writerow(Titulo)\n",
    "    for fila in lector_csv:\n",
    "        escritor_csv.writerow(fila)\n",
    "os.replace('temp.csv', archivo_csv)"
   ]
  },
  {
   "cell_type": "code",
   "execution_count": 12,
   "metadata": {},
   "outputs": [
    {
     "data": {
      "text/html": [
       "<div>\n",
       "<style scoped>\n",
       "    .dataframe tbody tr th:only-of-type {\n",
       "        vertical-align: middle;\n",
       "    }\n",
       "\n",
       "    .dataframe tbody tr th {\n",
       "        vertical-align: top;\n",
       "    }\n",
       "\n",
       "    .dataframe thead th {\n",
       "        text-align: right;\n",
       "    }\n",
       "</style>\n",
       "<table border=\"1\" class=\"dataframe\">\n",
       "  <thead>\n",
       "    <tr style=\"text-align: right;\">\n",
       "      <th></th>\n",
       "      <th>Q1</th>\n",
       "      <th>Q2</th>\n",
       "      <th>Q3</th>\n",
       "      <th>Q4</th>\n",
       "      <th>Q5</th>\n",
       "      <th>Q6</th>\n",
       "      <th>Roll</th>\n",
       "      <th>Pitch</th>\n",
       "      <th>Yaw</th>\n",
       "      <th>X</th>\n",
       "      <th>Y</th>\n",
       "      <th>Z</th>\n",
       "    </tr>\n",
       "  </thead>\n",
       "  <tbody>\n",
       "    <tr>\n",
       "      <th>0</th>\n",
       "      <td>4.4771</td>\n",
       "      <td>0.4565</td>\n",
       "      <td>-1.6905</td>\n",
       "      <td>1.9714</td>\n",
       "      <td>1.1602</td>\n",
       "      <td>1.0718</td>\n",
       "      <td>-0.101068</td>\n",
       "      <td>1.362678</td>\n",
       "      <td>-0.868754</td>\n",
       "      <td>-0.11526</td>\n",
       "      <td>-0.71229</td>\n",
       "      <td>0.08476</td>\n",
       "    </tr>\n",
       "    <tr>\n",
       "      <th>1</th>\n",
       "      <td>0.1267</td>\n",
       "      <td>0.6191</td>\n",
       "      <td>-2.4672</td>\n",
       "      <td>0.7812</td>\n",
       "      <td>0.6154</td>\n",
       "      <td>4.6054</td>\n",
       "      <td>1.785218</td>\n",
       "      <td>-0.639675</td>\n",
       "      <td>1.993469</td>\n",
       "      <td>0.65736</td>\n",
       "      <td>0.07943</td>\n",
       "      <td>0.30541</td>\n",
       "    </tr>\n",
       "    <tr>\n",
       "      <th>2</th>\n",
       "      <td>1.2796</td>\n",
       "      <td>0.2315</td>\n",
       "      <td>-1.5988</td>\n",
       "      <td>2.4480</td>\n",
       "      <td>0.7598</td>\n",
       "      <td>5.4512</td>\n",
       "      <td>-1.189422</td>\n",
       "      <td>-0.001468</td>\n",
       "      <td>0.202523</td>\n",
       "      <td>0.20982</td>\n",
       "      <td>0.72614</td>\n",
       "      <td>0.19109</td>\n",
       "    </tr>\n",
       "    <tr>\n",
       "      <th>3</th>\n",
       "      <td>0.7933</td>\n",
       "      <td>0.7902</td>\n",
       "      <td>-1.6798</td>\n",
       "      <td>2.0900</td>\n",
       "      <td>3.1106</td>\n",
       "      <td>4.8705</td>\n",
       "      <td>0.378420</td>\n",
       "      <td>-0.809036</td>\n",
       "      <td>0.255819</td>\n",
       "      <td>0.28123</td>\n",
       "      <td>0.38345</td>\n",
       "      <td>-0.00478</td>\n",
       "    </tr>\n",
       "    <tr>\n",
       "      <th>4</th>\n",
       "      <td>4.4972</td>\n",
       "      <td>0.6451</td>\n",
       "      <td>-2.7808</td>\n",
       "      <td>2.1101</td>\n",
       "      <td>1.5946</td>\n",
       "      <td>0.4433</td>\n",
       "      <td>-1.128481</td>\n",
       "      <td>-0.182932</td>\n",
       "      <td>-1.540767</td>\n",
       "      <td>-0.02717</td>\n",
       "      <td>-0.52126</td>\n",
       "      <td>0.42456</td>\n",
       "    </tr>\n",
       "  </tbody>\n",
       "</table>\n",
       "</div>"
      ],
      "text/plain": [
       "       Q1      Q2      Q3      Q4      Q5      Q6      Roll     Pitch   \n",
       "0  4.4771  0.4565 -1.6905  1.9714  1.1602  1.0718 -0.101068  1.362678  \\\n",
       "1  0.1267  0.6191 -2.4672  0.7812  0.6154  4.6054  1.785218 -0.639675   \n",
       "2  1.2796  0.2315 -1.5988  2.4480  0.7598  5.4512 -1.189422 -0.001468   \n",
       "3  0.7933  0.7902 -1.6798  2.0900  3.1106  4.8705  0.378420 -0.809036   \n",
       "4  4.4972  0.6451 -2.7808  2.1101  1.5946  0.4433 -1.128481 -0.182932   \n",
       "\n",
       "        Yaw        X        Y        Z  \n",
       "0 -0.868754 -0.11526 -0.71229  0.08476  \n",
       "1  1.993469  0.65736  0.07943  0.30541  \n",
       "2  0.202523  0.20982  0.72614  0.19109  \n",
       "3  0.255819  0.28123  0.38345 -0.00478  \n",
       "4 -1.540767 -0.02717 -0.52126  0.42456  "
      ]
     },
     "execution_count": 12,
     "metadata": {},
     "output_type": "execute_result"
    }
   ],
   "source": [
    "data = pd.read_csv('datos_Xarm6.csv'\n",
    ")\n",
    "data.head()"
   ]
  }
 ],
 "metadata": {
  "kernelspec": {
   "display_name": "Python 3",
   "language": "python",
   "name": "python3"
  },
  "language_info": {
   "codemirror_mode": {
    "name": "ipython",
    "version": 3
   },
   "file_extension": ".py",
   "mimetype": "text/x-python",
   "name": "python",
   "nbconvert_exporter": "python",
   "pygments_lexer": "ipython3",
   "version": "3.10.6"
  },
  "orig_nbformat": 4
 },
 "nbformat": 4,
 "nbformat_minor": 2
}
