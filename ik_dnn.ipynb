{
 "cells": [
  {
   "cell_type": "code",
   "execution_count": 1,
   "metadata": {},
   "outputs": [
    {
     "name": "stderr",
     "output_type": "stream",
     "text": [
      "2023-05-07 17:35:55.456932: I tensorflow/core/platform/cpu_feature_guard.cc:182] This TensorFlow binary is optimized to use available CPU instructions in performance-critical operations.\n",
      "To enable the following instructions: AVX2 FMA, in other operations, rebuild TensorFlow with the appropriate compiler flags.\n",
      "2023-05-07 17:35:56.118541: W tensorflow/compiler/tf2tensorrt/utils/py_utils.cc:38] TF-TRT Warning: Could not find TensorRT\n"
     ]
    }
   ],
   "source": [
    "import numpy as np\n",
    "import sympy as sp\n",
    "import roboticstoolbox as rtb\n",
    "import pandas as pd\n",
    "import torch\n",
    "from torch import nn\n",
    "from sklearn.model_selection import train_test_split\n",
    "from torch.utils.data import Dataset, DataLoader\n",
    "import matplotlib.pyplot as plt\n",
    "from sklearn import metrics\n",
    "import tensorflow as tf"
   ]
  },
  {
   "attachments": {},
   "cell_type": "markdown",
   "metadata": {},
   "source": [
    "### Matrices de transformacion"
   ]
  },
  {
   "cell_type": "code",
   "execution_count": 2,
   "metadata": {},
   "outputs": [],
   "source": [
    "def sTrasl(x, y, z):\n",
    "    \"\"\" Transformación homogénea que representa traslación pura\n",
    "    \"\"\"\n",
    "    T = sp.Matrix([[1,0,0,x],\n",
    "                   [0,1,0,y],\n",
    "                   [0,0,1,z],\n",
    "                   [0,0,0,1]])\n",
    "    return T\n",
    "\n",
    "def sTrotx(ang):\n",
    "    \"\"\" Transformación homogénea que representa rotación alrededor de x\n",
    "    \"\"\"\n",
    "    T = sp.Matrix([[1, 0,0,0],\n",
    "                   [0, sp.cos(ang),-sp.sin(ang),0],\n",
    "                   [0, sp.sin(ang), sp.cos(ang),0],\n",
    "                   [0, 0, 0, 1]])\n",
    "    return T\n",
    "\n",
    "def sTrotz(ang):\n",
    "    \"\"\" Transformación homogénea que representa rotación alrededor de z\n",
    "    \"\"\"\n",
    "    T = sp.Matrix([[sp.cos(ang),-sp.sin(ang),0,0],\n",
    "                   [sp.sin(ang), sp.cos(ang),0,0],\n",
    "                   [0,0,1,0],\n",
    "                   [0,0,0,1]])\n",
    "    return T"
   ]
  },
  {
   "cell_type": "code",
   "execution_count": 3,
   "metadata": {},
   "outputs": [
    {
     "name": "stdout",
     "output_type": "stream",
     "text": [
      "T01:\n"
     ]
    },
    {
     "data": {
      "text/latex": [
       "$\\displaystyle \\left[\\begin{matrix}\\cos{\\left(q_{1} \\right)} & 0 & - \\sin{\\left(q_{1} \\right)} & 0\\\\\\sin{\\left(q_{1} \\right)} & 0 & \\cos{\\left(q_{1} \\right)} & 0\\\\0 & -1 & 0 & l_{1}\\\\0 & 0 & 0 & 1\\end{matrix}\\right]$"
      ],
      "text/plain": [
       "Matrix([\n",
       "[cos(q1),  0, -sin(q1),  0],\n",
       "[sin(q1),  0,  cos(q1),  0],\n",
       "[      0, -1,        0, l1],\n",
       "[      0,  0,        0,  1]])"
      ]
     },
     "metadata": {},
     "output_type": "display_data"
    },
    {
     "name": "stdout",
     "output_type": "stream",
     "text": [
      "T12:\n"
     ]
    },
    {
     "data": {
      "text/latex": [
       "$\\displaystyle \\left[\\begin{matrix}\\sin{\\left(q_{2} \\right)} & \\cos{\\left(q_{2} \\right)} & 0 & l_{2} \\sin{\\left(q_{2} \\right)}\\\\- \\cos{\\left(q_{2} \\right)} & \\sin{\\left(q_{2} \\right)} & 0 & - l_{2} \\cos{\\left(q_{2} \\right)}\\\\0 & 0 & 1 & 0\\\\0 & 0 & 0 & 1\\end{matrix}\\right]$"
      ],
      "text/plain": [
       "Matrix([\n",
       "[ sin(q2), cos(q2), 0,  l2*sin(q2)],\n",
       "[-cos(q2), sin(q2), 0, -l2*cos(q2)],\n",
       "[       0,       0, 1,           0],\n",
       "[       0,       0, 0,           1]])"
      ]
     },
     "metadata": {},
     "output_type": "display_data"
    },
    {
     "name": "stdout",
     "output_type": "stream",
     "text": [
      "T23:\n"
     ]
    },
    {
     "data": {
      "text/latex": [
       "$\\displaystyle \\left[\\begin{matrix}\\cos{\\left(q_{3} \\right)} & 0 & - \\sin{\\left(q_{3} \\right)} & l_{3} \\cos{\\left(q_{3} \\right)}\\\\\\sin{\\left(q_{3} \\right)} & 0 & \\cos{\\left(q_{3} \\right)} & l_{3} \\sin{\\left(q_{3} \\right)}\\\\0 & -1 & 0 & 0\\\\0 & 0 & 0 & 1\\end{matrix}\\right]$"
      ],
      "text/plain": [
       "Matrix([\n",
       "[cos(q3),  0, -sin(q3), l3*cos(q3)],\n",
       "[sin(q3),  0,  cos(q3), l3*sin(q3)],\n",
       "[      0, -1,        0,          0],\n",
       "[      0,  0,        0,          1]])"
      ]
     },
     "metadata": {},
     "output_type": "display_data"
    },
    {
     "name": "stdout",
     "output_type": "stream",
     "text": [
      "T34:\n"
     ]
    },
    {
     "data": {
      "text/latex": [
       "$\\displaystyle \\left[\\begin{matrix}\\cos{\\left(q_{4} \\right)} & 0 & \\sin{\\left(q_{4} \\right)} & 0\\\\\\sin{\\left(q_{4} \\right)} & 0 & - \\cos{\\left(q_{4} \\right)} & 0\\\\0 & 1 & 0 & l_{4}\\\\0 & 0 & 0 & 1\\end{matrix}\\right]$"
      ],
      "text/plain": [
       "Matrix([\n",
       "[cos(q4), 0,  sin(q4),  0],\n",
       "[sin(q4), 0, -cos(q4),  0],\n",
       "[      0, 1,        0, l4],\n",
       "[      0, 0,        0,  1]])"
      ]
     },
     "metadata": {},
     "output_type": "display_data"
    },
    {
     "name": "stdout",
     "output_type": "stream",
     "text": [
      "T45:\n"
     ]
    },
    {
     "data": {
      "text/latex": [
       "$\\displaystyle \\left[\\begin{matrix}\\cos{\\left(q_{5} \\right)} & 0 & - \\sin{\\left(q_{5} \\right)} & 0\\\\\\sin{\\left(q_{5} \\right)} & 0 & \\cos{\\left(q_{5} \\right)} & 0\\\\0 & -1 & 0 & 0\\\\0 & 0 & 0 & 1\\end{matrix}\\right]$"
      ],
      "text/plain": [
       "Matrix([\n",
       "[cos(q5),  0, -sin(q5), 0],\n",
       "[sin(q5),  0,  cos(q5), 0],\n",
       "[      0, -1,        0, 0],\n",
       "[      0,  0,        0, 1]])"
      ]
     },
     "metadata": {},
     "output_type": "display_data"
    },
    {
     "name": "stdout",
     "output_type": "stream",
     "text": [
      "T56:\n"
     ]
    },
    {
     "data": {
      "text/latex": [
       "$\\displaystyle \\left[\\begin{matrix}\\cos{\\left(q_{6} \\right)} & - \\sin{\\left(q_{6} \\right)} & 0 & 0\\\\\\sin{\\left(q_{6} \\right)} & \\cos{\\left(q_{6} \\right)} & 0 & 0\\\\0 & 0 & 1 & l_{6}\\\\0 & 0 & 0 & 1\\end{matrix}\\right]$"
      ],
      "text/plain": [
       "Matrix([\n",
       "[cos(q6), -sin(q6), 0,  0],\n",
       "[sin(q6),  cos(q6), 0,  0],\n",
       "[      0,        0, 1, l6],\n",
       "[      0,        0, 0,  1]])"
      ]
     },
     "metadata": {},
     "output_type": "display_data"
    }
   ],
   "source": [
    "# Variables que serán utilizadas\n",
    "q1, q2, q3, q4, q5, q6 = sp.symbols(\"q1 q2 q3 q4 q5 q6\")\n",
    "l1, l2, l3, l4, l5, l6 = sp.symbols(\"l1 l2 l3 l4 l5 l6\")\n",
    "\n",
    "cos, sin = sp.cos, sp.sin\n",
    "# Transformaciones con respecto al sistema anterior\n",
    "T01 = sp.Matrix([\n",
    "    [cos(q1), 0, -sin(q1), 0],\n",
    "    [sin(q1), 0, cos(q1), 0],\n",
    "    [0,-1,0, l1],\n",
    "    [0,0,0,1]\n",
    "])\n",
    " \n",
    "T12 = sp.Matrix([\n",
    "  [sin(q2), cos(q2), 0, l2*sin(q2)],\n",
    "  [-cos(q2), sin(q2), 0, -l2*cos(q2)],\n",
    "  [0,0,1,0],\n",
    "  [0,0,0,1]\n",
    "])\n",
    "\n",
    "T23 = sp.Matrix([\n",
    "    [cos(q3), 0, -sin(q3), l3*cos(q3)],\n",
    "    [sin(q3), 0, cos(q3), l3*sin(q3)],\n",
    "    [0,-1,0,0],\n",
    "    [0,0,0,1]\n",
    "])\n",
    "\n",
    "T34 = sp.Matrix([\n",
    "    [cos(q4), 0, sin(q4), 0],\n",
    "    [sin(q4), 0, -cos(q4), 0],\n",
    "    [0,1,0,l4],\n",
    "    [0,0,0,1]\n",
    "])\n",
    "\n",
    "T45 = sp.Matrix([\n",
    "    [cos(q5), 0, -sin(q5), 0],\n",
    "    [sin(q5), 0, cos(q5), 0],\n",
    "    [0, -1, 0, 0],\n",
    "    [0,0,0,1]\n",
    "])\n",
    "\n",
    "T56 = sp.Matrix([\n",
    "    [cos(q6), -sin(q6), 0, 0],\n",
    "    [sin(q6), cos(q6), 0,0],\n",
    "    [0,0,1,l6],\n",
    "    [0,0,0,1]\n",
    "])\n",
    "\n",
    "T06 = sp.simplify(T01*T12*T23*T34*T45*T56)\n",
    "\n",
    "print(\"T01:\"); display(T01)\n",
    "print(\"T12:\"); display(T12)\n",
    "print(\"T23:\"); display(T23)\n",
    "print(\"T34:\"); display(T34)\n",
    "print(\"T45:\"); display(T45)\n",
    "print(\"T56:\"); display(T56)"
   ]
  },
  {
   "attachments": {},
   "cell_type": "markdown",
   "metadata": {},
   "source": [
    "#### Matriz de transformacion de todo el robot"
   ]
  },
  {
   "cell_type": "code",
   "execution_count": 4,
   "metadata": {},
   "outputs": [
    {
     "name": "stdout",
     "output_type": "stream",
     "text": [
      "T06:\n"
     ]
    },
    {
     "data": {
      "text/latex": [
       "$\\displaystyle \\left[\\begin{matrix}\\left(\\left(\\sin{\\left(q_{1} \\right)} \\sin{\\left(q_{4} \\right)} + \\sin{\\left(q_{2} + q_{3} \\right)} \\cos{\\left(q_{1} \\right)} \\cos{\\left(q_{4} \\right)}\\right) \\cos{\\left(q_{5} \\right)} + \\sin{\\left(q_{5} \\right)} \\cos{\\left(q_{1} \\right)} \\cos{\\left(q_{2} + q_{3} \\right)}\\right) \\cos{\\left(q_{6} \\right)} - \\left(- \\sin{\\left(q_{1} \\right)} \\cos{\\left(q_{4} \\right)} + \\sin{\\left(q_{4} \\right)} \\sin{\\left(q_{2} + q_{3} \\right)} \\cos{\\left(q_{1} \\right)}\\right) \\sin{\\left(q_{6} \\right)} & - \\left(\\left(\\sin{\\left(q_{1} \\right)} \\sin{\\left(q_{4} \\right)} + \\sin{\\left(q_{2} + q_{3} \\right)} \\cos{\\left(q_{1} \\right)} \\cos{\\left(q_{4} \\right)}\\right) \\cos{\\left(q_{5} \\right)} + \\sin{\\left(q_{5} \\right)} \\cos{\\left(q_{1} \\right)} \\cos{\\left(q_{2} + q_{3} \\right)}\\right) \\sin{\\left(q_{6} \\right)} + \\left(\\sin{\\left(q_{1} \\right)} \\cos{\\left(q_{4} \\right)} - \\sin{\\left(q_{4} \\right)} \\sin{\\left(q_{2} + q_{3} \\right)} \\cos{\\left(q_{1} \\right)}\\right) \\cos{\\left(q_{6} \\right)} & - \\left(\\sin{\\left(q_{1} \\right)} \\sin{\\left(q_{4} \\right)} + \\sin{\\left(q_{2} + q_{3} \\right)} \\cos{\\left(q_{1} \\right)} \\cos{\\left(q_{4} \\right)}\\right) \\sin{\\left(q_{5} \\right)} + \\cos{\\left(q_{1} \\right)} \\cos{\\left(q_{5} \\right)} \\cos{\\left(q_{2} + q_{3} \\right)} & l_{2} \\sin{\\left(q_{2} \\right)} \\cos{\\left(q_{1} \\right)} + l_{3} \\sin{\\left(q_{2} + q_{3} \\right)} \\cos{\\left(q_{1} \\right)} + l_{4} \\cos{\\left(q_{1} \\right)} \\cos{\\left(q_{2} + q_{3} \\right)} - l_{6} \\sin{\\left(q_{1} \\right)} \\sin{\\left(q_{4} \\right)} \\sin{\\left(q_{5} \\right)} - l_{6} \\sin{\\left(q_{5} \\right)} \\sin{\\left(q_{2} + q_{3} \\right)} \\cos{\\left(q_{1} \\right)} \\cos{\\left(q_{4} \\right)} + l_{6} \\cos{\\left(q_{1} \\right)} \\cos{\\left(q_{5} \\right)} \\cos{\\left(q_{2} + q_{3} \\right)}\\\\\\left(\\left(\\sin{\\left(q_{1} \\right)} \\sin{\\left(q_{2} + q_{3} \\right)} \\cos{\\left(q_{4} \\right)} - \\sin{\\left(q_{4} \\right)} \\cos{\\left(q_{1} \\right)}\\right) \\cos{\\left(q_{5} \\right)} + \\sin{\\left(q_{1} \\right)} \\sin{\\left(q_{5} \\right)} \\cos{\\left(q_{2} + q_{3} \\right)}\\right) \\cos{\\left(q_{6} \\right)} - \\left(\\sin{\\left(q_{1} \\right)} \\sin{\\left(q_{4} \\right)} \\sin{\\left(q_{2} + q_{3} \\right)} + \\cos{\\left(q_{1} \\right)} \\cos{\\left(q_{4} \\right)}\\right) \\sin{\\left(q_{6} \\right)} & - \\left(\\left(\\sin{\\left(q_{1} \\right)} \\sin{\\left(q_{2} + q_{3} \\right)} \\cos{\\left(q_{4} \\right)} - \\sin{\\left(q_{4} \\right)} \\cos{\\left(q_{1} \\right)}\\right) \\cos{\\left(q_{5} \\right)} + \\sin{\\left(q_{1} \\right)} \\sin{\\left(q_{5} \\right)} \\cos{\\left(q_{2} + q_{3} \\right)}\\right) \\sin{\\left(q_{6} \\right)} - \\left(\\sin{\\left(q_{1} \\right)} \\sin{\\left(q_{4} \\right)} \\sin{\\left(q_{2} + q_{3} \\right)} + \\cos{\\left(q_{1} \\right)} \\cos{\\left(q_{4} \\right)}\\right) \\cos{\\left(q_{6} \\right)} & - \\left(\\sin{\\left(q_{1} \\right)} \\sin{\\left(q_{2} + q_{3} \\right)} \\cos{\\left(q_{4} \\right)} - \\sin{\\left(q_{4} \\right)} \\cos{\\left(q_{1} \\right)}\\right) \\sin{\\left(q_{5} \\right)} + \\sin{\\left(q_{1} \\right)} \\cos{\\left(q_{5} \\right)} \\cos{\\left(q_{2} + q_{3} \\right)} & l_{2} \\sin{\\left(q_{1} \\right)} \\sin{\\left(q_{2} \\right)} + l_{3} \\sin{\\left(q_{1} \\right)} \\sin{\\left(q_{2} + q_{3} \\right)} + l_{4} \\sin{\\left(q_{1} \\right)} \\cos{\\left(q_{2} + q_{3} \\right)} - l_{6} \\sin{\\left(q_{1} \\right)} \\sin{\\left(q_{5} \\right)} \\sin{\\left(q_{2} + q_{3} \\right)} \\cos{\\left(q_{4} \\right)} + l_{6} \\sin{\\left(q_{1} \\right)} \\cos{\\left(q_{5} \\right)} \\cos{\\left(q_{2} + q_{3} \\right)} + l_{6} \\sin{\\left(q_{4} \\right)} \\sin{\\left(q_{5} \\right)} \\cos{\\left(q_{1} \\right)}\\\\- \\left(\\sin{\\left(q_{5} \\right)} \\sin{\\left(q_{2} + q_{3} \\right)} - \\cos{\\left(q_{4} \\right)} \\cos{\\left(q_{5} \\right)} \\cos{\\left(q_{2} + q_{3} \\right)}\\right) \\cos{\\left(q_{6} \\right)} - \\sin{\\left(q_{4} \\right)} \\sin{\\left(q_{6} \\right)} \\cos{\\left(q_{2} + q_{3} \\right)} & \\left(\\sin{\\left(q_{5} \\right)} \\sin{\\left(q_{2} + q_{3} \\right)} - \\cos{\\left(q_{4} \\right)} \\cos{\\left(q_{5} \\right)} \\cos{\\left(q_{2} + q_{3} \\right)}\\right) \\sin{\\left(q_{6} \\right)} - \\sin{\\left(q_{4} \\right)} \\cos{\\left(q_{6} \\right)} \\cos{\\left(q_{2} + q_{3} \\right)} & - \\sin{\\left(q_{5} \\right)} \\cos{\\left(q_{4} \\right)} \\cos{\\left(q_{2} + q_{3} \\right)} - \\sin{\\left(q_{2} + q_{3} \\right)} \\cos{\\left(q_{5} \\right)} & l_{1} + l_{2} \\cos{\\left(q_{2} \\right)} + l_{3} \\cos{\\left(q_{2} + q_{3} \\right)} - l_{4} \\sin{\\left(q_{2} + q_{3} \\right)} - l_{6} \\sin{\\left(q_{5} \\right)} \\cos{\\left(q_{4} \\right)} \\cos{\\left(q_{2} + q_{3} \\right)} - l_{6} \\sin{\\left(q_{2} + q_{3} \\right)} \\cos{\\left(q_{5} \\right)}\\\\0 & 0 & 0 & 1\\end{matrix}\\right]$"
      ],
      "text/plain": [
       "Matrix([\n",
       "[((sin(q1)*sin(q4) + sin(q2 + q3)*cos(q1)*cos(q4))*cos(q5) + sin(q5)*cos(q1)*cos(q2 + q3))*cos(q6) - (-sin(q1)*cos(q4) + sin(q4)*sin(q2 + q3)*cos(q1))*sin(q6), -((sin(q1)*sin(q4) + sin(q2 + q3)*cos(q1)*cos(q4))*cos(q5) + sin(q5)*cos(q1)*cos(q2 + q3))*sin(q6) + (sin(q1)*cos(q4) - sin(q4)*sin(q2 + q3)*cos(q1))*cos(q6), -(sin(q1)*sin(q4) + sin(q2 + q3)*cos(q1)*cos(q4))*sin(q5) + cos(q1)*cos(q5)*cos(q2 + q3), l2*sin(q2)*cos(q1) + l3*sin(q2 + q3)*cos(q1) + l4*cos(q1)*cos(q2 + q3) - l6*sin(q1)*sin(q4)*sin(q5) - l6*sin(q5)*sin(q2 + q3)*cos(q1)*cos(q4) + l6*cos(q1)*cos(q5)*cos(q2 + q3)],\n",
       "[ ((sin(q1)*sin(q2 + q3)*cos(q4) - sin(q4)*cos(q1))*cos(q5) + sin(q1)*sin(q5)*cos(q2 + q3))*cos(q6) - (sin(q1)*sin(q4)*sin(q2 + q3) + cos(q1)*cos(q4))*sin(q6), -((sin(q1)*sin(q2 + q3)*cos(q4) - sin(q4)*cos(q1))*cos(q5) + sin(q1)*sin(q5)*cos(q2 + q3))*sin(q6) - (sin(q1)*sin(q4)*sin(q2 + q3) + cos(q1)*cos(q4))*cos(q6), -(sin(q1)*sin(q2 + q3)*cos(q4) - sin(q4)*cos(q1))*sin(q5) + sin(q1)*cos(q5)*cos(q2 + q3), l2*sin(q1)*sin(q2) + l3*sin(q1)*sin(q2 + q3) + l4*sin(q1)*cos(q2 + q3) - l6*sin(q1)*sin(q5)*sin(q2 + q3)*cos(q4) + l6*sin(q1)*cos(q5)*cos(q2 + q3) + l6*sin(q4)*sin(q5)*cos(q1)],\n",
       "[                                                                -(sin(q5)*sin(q2 + q3) - cos(q4)*cos(q5)*cos(q2 + q3))*cos(q6) - sin(q4)*sin(q6)*cos(q2 + q3),                                                                  (sin(q5)*sin(q2 + q3) - cos(q4)*cos(q5)*cos(q2 + q3))*sin(q6) - sin(q4)*cos(q6)*cos(q2 + q3),                                     -sin(q5)*cos(q4)*cos(q2 + q3) - sin(q2 + q3)*cos(q5),                                                                 l1 + l2*cos(q2) + l3*cos(q2 + q3) - l4*sin(q2 + q3) - l6*sin(q5)*cos(q4)*cos(q2 + q3) - l6*sin(q2 + q3)*cos(q5)],\n",
       "[                                                                                                                                                            0,                                                                                                                                                             0,                                                                                        0,                                                                                                                                                                               1]])"
      ]
     },
     "metadata": {},
     "output_type": "display_data"
    }
   ],
   "source": [
    "print(\"T06:\"); display(T06)"
   ]
  },
  {
   "attachments": {},
   "cell_type": "markdown",
   "metadata": {},
   "source": [
    "### Clase y parametros DH para el robot con roboticstoolbox"
   ]
  },
  {
   "cell_type": "code",
   "execution_count": 17,
   "metadata": {},
   "outputs": [
    {
     "data": {
      "text/plain": [
       "DHRobot: IRB 120, 6 joints (RRRRRR), dynamics, standard DH parameters\n",
       "┌──────────┬───────┬──────┬────────┐\n",
       "│   θⱼ     │  dⱼ   │  aⱼ  │   ⍺ⱼ   │\n",
       "├──────────┼───────┼──────┼────────┤\n",
       "│ q1\u001b[0m       │  0.29\u001b[0m │    0\u001b[0m │ -90.0°\u001b[0m │\n",
       "│ q2 - 90°\u001b[0m │     0\u001b[0m │ 0.27\u001b[0m │   0.0°\u001b[0m │\n",
       "│ q3\u001b[0m       │     0\u001b[0m │ 0.07\u001b[0m │ -90.0°\u001b[0m │\n",
       "│ q4\u001b[0m       │ 0.302\u001b[0m │    0\u001b[0m │  90.0°\u001b[0m │\n",
       "│ q5\u001b[0m       │     0\u001b[0m │    0\u001b[0m │ -90.0°\u001b[0m │\n",
       "│ q6\u001b[0m       │ 0.072\u001b[0m │    0\u001b[0m │   0.0°\u001b[0m │\n",
       "└──────────┴───────┴──────┴────────┘\n",
       "\n",
       "┌─┬──┐\n",
       "└─┴──┘"
      ]
     },
     "execution_count": 17,
     "metadata": {},
     "output_type": "execute_result"
    }
   ],
   "source": [
    "class IRB120(rtb.DHRobot):\n",
    "\n",
    "    q0 = [0,0,0,0,0,0] #Valores de q para posicion inicial\n",
    "    \n",
    "    def __init__(self):\n",
    "        super().__init__(                \n",
    "                [\n",
    "                    rtb.RevoluteDH(offset=0, d=0.290, a=0,alpha=-np.pi/2),\n",
    "                    rtb.RevoluteDH(offset=-np.pi/2, d=0, a=0.27,alpha=0),\n",
    "                    rtb.RevoluteDH(offset=0, d=0, a=0.07,alpha=-np.pi/2),\n",
    "                    rtb.RevoluteDH(offset=0, d=0.302, a=0,alpha=np.pi/2),\n",
    "                    rtb.RevoluteDH(offset=0, d=0, a=0,alpha=-np.pi/2),\n",
    "                    rtb.RevoluteDH(offset=0, d=0.072, a=0,alpha=0),\n",
    "                ], name=\"IRB 120\"\n",
    "                        )\n",
    "robot = IRB120()\n",
    "robot"
   ]
  },
  {
   "cell_type": "code",
   "execution_count": 6,
   "metadata": {},
   "outputs": [
    {
     "data": {
      "text/plain": [
       "  \u001b[38;5;1m-0.8055  \u001b[0m \u001b[38;5;1m 0.07948 \u001b[0m \u001b[38;5;1m-0.5873  \u001b[0m \u001b[38;5;4m-0.04132 \u001b[0m  \u001b[0m\n",
       "  \u001b[38;5;1m-0.01848 \u001b[0m \u001b[38;5;1m 0.9871  \u001b[0m \u001b[38;5;1m 0.1589  \u001b[0m \u001b[38;5;4m-0.004371\u001b[0m  \u001b[0m\n",
       "  \u001b[38;5;1m 0.5923  \u001b[0m \u001b[38;5;1m 0.1389  \u001b[0m \u001b[38;5;1m-0.7936  \u001b[0m \u001b[38;5;4m 0.1932  \u001b[0m  \u001b[0m\n",
       "  \u001b[38;5;244m 0       \u001b[0m \u001b[38;5;244m 0       \u001b[0m \u001b[38;5;244m 0       \u001b[0m \u001b[38;5;244m 1       \u001b[0m  \u001b[0m\n"
      ]
     },
     "execution_count": 6,
     "metadata": {},
     "output_type": "execute_result"
    }
   ],
   "source": [
    "robot.fkine([-1.51, -0.763, 1.85, -0.817, 0.9120, 2.320])"
   ]
  },
  {
   "cell_type": "code",
   "execution_count": 7,
   "metadata": {},
   "outputs": [
    {
     "data": {
      "text/plain": [
       "array([[-0.80691514,  0.0633539 , -0.58725994, -0.04132001],\n",
       "       [-0.03821904,  0.98654765,  0.15894353, -0.00437144],\n",
       "       [ 0.5894296 ,  0.15069845, -0.79363891,  0.19322372],\n",
       "       [ 0.        ,  0.        ,  0.        ,  1.        ]])"
      ]
     },
     "execution_count": 7,
     "metadata": {},
     "output_type": "execute_result"
    }
   ],
   "source": [
    "t06 = T06.evalf(subs={q1:-1.51, q2:-0.763, q3:1.85, q4:-0.817, q5:0.912, q6:2.3, l1: 0.29, l2:0.27, l3:0.07, l4:0.302, l5:0, l6:0.072})\n",
    "final = np.array(t06).astype(np.float64)\n",
    "final"
   ]
  },
  {
   "cell_type": "code",
   "execution_count": 38,
   "metadata": {},
   "outputs": [
    {
     "data": {
      "text/latex": [
       "$\\displaystyle \\left[\\begin{matrix}- l_{2} \\sin{\\left(q_{1} \\right)} \\sin{\\left(q_{2} \\right)} - l_{3} \\sin{\\left(q_{1} \\right)} \\sin{\\left(q_{2} + q_{3} \\right)} - l_{4} \\sin{\\left(q_{1} \\right)} \\cos{\\left(q_{2} + q_{3} \\right)} + l_{6} \\sin{\\left(q_{1} \\right)} \\sin{\\left(q_{5} \\right)} \\sin{\\left(q_{2} + q_{3} \\right)} \\cos{\\left(q_{4} \\right)} - l_{6} \\sin{\\left(q_{1} \\right)} \\cos{\\left(q_{5} \\right)} \\cos{\\left(q_{2} + q_{3} \\right)} - l_{6} \\sin{\\left(q_{4} \\right)} \\sin{\\left(q_{5} \\right)} \\cos{\\left(q_{1} \\right)} & l_{2} \\cos{\\left(q_{1} \\right)} \\cos{\\left(q_{2} \\right)} + l_{3} \\cos{\\left(q_{1} \\right)} \\cos{\\left(q_{2} + q_{3} \\right)} - l_{4} \\sin{\\left(q_{2} + q_{3} \\right)} \\cos{\\left(q_{1} \\right)} - l_{6} \\sin{\\left(q_{5} \\right)} \\cos{\\left(q_{1} \\right)} \\cos{\\left(q_{4} \\right)} \\cos{\\left(q_{2} + q_{3} \\right)} - l_{6} \\sin{\\left(q_{2} + q_{3} \\right)} \\cos{\\left(q_{1} \\right)} \\cos{\\left(q_{5} \\right)} & l_{3} \\cos{\\left(q_{1} \\right)} \\cos{\\left(q_{2} + q_{3} \\right)} - l_{4} \\sin{\\left(q_{2} + q_{3} \\right)} \\cos{\\left(q_{1} \\right)} - l_{6} \\sin{\\left(q_{5} \\right)} \\cos{\\left(q_{1} \\right)} \\cos{\\left(q_{4} \\right)} \\cos{\\left(q_{2} + q_{3} \\right)} - l_{6} \\sin{\\left(q_{2} + q_{3} \\right)} \\cos{\\left(q_{1} \\right)} \\cos{\\left(q_{5} \\right)} & - l_{6} \\sin{\\left(q_{1} \\right)} \\sin{\\left(q_{5} \\right)} \\cos{\\left(q_{4} \\right)} + l_{6} \\sin{\\left(q_{4} \\right)} \\sin{\\left(q_{5} \\right)} \\sin{\\left(q_{2} + q_{3} \\right)} \\cos{\\left(q_{1} \\right)} & - l_{6} \\sin{\\left(q_{1} \\right)} \\sin{\\left(q_{4} \\right)} \\cos{\\left(q_{5} \\right)} - l_{6} \\sin{\\left(q_{5} \\right)} \\cos{\\left(q_{1} \\right)} \\cos{\\left(q_{2} + q_{3} \\right)} - l_{6} \\sin{\\left(q_{2} + q_{3} \\right)} \\cos{\\left(q_{1} \\right)} \\cos{\\left(q_{4} \\right)} \\cos{\\left(q_{5} \\right)}\\\\l_{2} \\sin{\\left(q_{2} \\right)} \\cos{\\left(q_{1} \\right)} + l_{3} \\sin{\\left(q_{2} + q_{3} \\right)} \\cos{\\left(q_{1} \\right)} + l_{4} \\cos{\\left(q_{1} \\right)} \\cos{\\left(q_{2} + q_{3} \\right)} - l_{6} \\sin{\\left(q_{1} \\right)} \\sin{\\left(q_{4} \\right)} \\sin{\\left(q_{5} \\right)} - l_{6} \\sin{\\left(q_{5} \\right)} \\sin{\\left(q_{2} + q_{3} \\right)} \\cos{\\left(q_{1} \\right)} \\cos{\\left(q_{4} \\right)} + l_{6} \\cos{\\left(q_{1} \\right)} \\cos{\\left(q_{5} \\right)} \\cos{\\left(q_{2} + q_{3} \\right)} & l_{2} \\sin{\\left(q_{1} \\right)} \\cos{\\left(q_{2} \\right)} + l_{3} \\sin{\\left(q_{1} \\right)} \\cos{\\left(q_{2} + q_{3} \\right)} - l_{4} \\sin{\\left(q_{1} \\right)} \\sin{\\left(q_{2} + q_{3} \\right)} - l_{6} \\sin{\\left(q_{1} \\right)} \\sin{\\left(q_{5} \\right)} \\cos{\\left(q_{4} \\right)} \\cos{\\left(q_{2} + q_{3} \\right)} - l_{6} \\sin{\\left(q_{1} \\right)} \\sin{\\left(q_{2} + q_{3} \\right)} \\cos{\\left(q_{5} \\right)} & l_{3} \\sin{\\left(q_{1} \\right)} \\cos{\\left(q_{2} + q_{3} \\right)} - l_{4} \\sin{\\left(q_{1} \\right)} \\sin{\\left(q_{2} + q_{3} \\right)} - l_{6} \\sin{\\left(q_{1} \\right)} \\sin{\\left(q_{5} \\right)} \\cos{\\left(q_{4} \\right)} \\cos{\\left(q_{2} + q_{3} \\right)} - l_{6} \\sin{\\left(q_{1} \\right)} \\sin{\\left(q_{2} + q_{3} \\right)} \\cos{\\left(q_{5} \\right)} & l_{6} \\sin{\\left(q_{1} \\right)} \\sin{\\left(q_{4} \\right)} \\sin{\\left(q_{5} \\right)} \\sin{\\left(q_{2} + q_{3} \\right)} + l_{6} \\sin{\\left(q_{5} \\right)} \\cos{\\left(q_{1} \\right)} \\cos{\\left(q_{4} \\right)} & - l_{6} \\sin{\\left(q_{1} \\right)} \\sin{\\left(q_{5} \\right)} \\cos{\\left(q_{2} + q_{3} \\right)} - l_{6} \\sin{\\left(q_{1} \\right)} \\sin{\\left(q_{2} + q_{3} \\right)} \\cos{\\left(q_{4} \\right)} \\cos{\\left(q_{5} \\right)} + l_{6} \\sin{\\left(q_{4} \\right)} \\cos{\\left(q_{1} \\right)} \\cos{\\left(q_{5} \\right)}\\\\0 & - l_{2} \\sin{\\left(q_{2} \\right)} - l_{3} \\sin{\\left(q_{2} + q_{3} \\right)} - l_{4} \\cos{\\left(q_{2} + q_{3} \\right)} + l_{6} \\sin{\\left(q_{5} \\right)} \\sin{\\left(q_{2} + q_{3} \\right)} \\cos{\\left(q_{4} \\right)} - l_{6} \\cos{\\left(q_{5} \\right)} \\cos{\\left(q_{2} + q_{3} \\right)} & - l_{3} \\sin{\\left(q_{2} + q_{3} \\right)} - l_{4} \\cos{\\left(q_{2} + q_{3} \\right)} + l_{6} \\sin{\\left(q_{5} \\right)} \\sin{\\left(q_{2} + q_{3} \\right)} \\cos{\\left(q_{4} \\right)} - l_{6} \\cos{\\left(q_{5} \\right)} \\cos{\\left(q_{2} + q_{3} \\right)} & l_{6} \\sin{\\left(q_{4} \\right)} \\sin{\\left(q_{5} \\right)} \\cos{\\left(q_{2} + q_{3} \\right)} & l_{6} \\sin{\\left(q_{5} \\right)} \\sin{\\left(q_{2} + q_{3} \\right)} - l_{6} \\cos{\\left(q_{4} \\right)} \\cos{\\left(q_{5} \\right)} \\cos{\\left(q_{2} + q_{3} \\right)}\\end{matrix}\\right]$"
      ],
      "text/plain": [
       "Matrix([\n",
       "[-l2*sin(q1)*sin(q2) - l3*sin(q1)*sin(q2 + q3) - l4*sin(q1)*cos(q2 + q3) + l6*sin(q1)*sin(q5)*sin(q2 + q3)*cos(q4) - l6*sin(q1)*cos(q5)*cos(q2 + q3) - l6*sin(q4)*sin(q5)*cos(q1), l2*cos(q1)*cos(q2) + l3*cos(q1)*cos(q2 + q3) - l4*sin(q2 + q3)*cos(q1) - l6*sin(q5)*cos(q1)*cos(q4)*cos(q2 + q3) - l6*sin(q2 + q3)*cos(q1)*cos(q5), l3*cos(q1)*cos(q2 + q3) - l4*sin(q2 + q3)*cos(q1) - l6*sin(q5)*cos(q1)*cos(q4)*cos(q2 + q3) - l6*sin(q2 + q3)*cos(q1)*cos(q5), -l6*sin(q1)*sin(q5)*cos(q4) + l6*sin(q4)*sin(q5)*sin(q2 + q3)*cos(q1), -l6*sin(q1)*sin(q4)*cos(q5) - l6*sin(q5)*cos(q1)*cos(q2 + q3) - l6*sin(q2 + q3)*cos(q1)*cos(q4)*cos(q5)],\n",
       "[ l2*sin(q2)*cos(q1) + l3*sin(q2 + q3)*cos(q1) + l4*cos(q1)*cos(q2 + q3) - l6*sin(q1)*sin(q4)*sin(q5) - l6*sin(q5)*sin(q2 + q3)*cos(q1)*cos(q4) + l6*cos(q1)*cos(q5)*cos(q2 + q3), l2*sin(q1)*cos(q2) + l3*sin(q1)*cos(q2 + q3) - l4*sin(q1)*sin(q2 + q3) - l6*sin(q1)*sin(q5)*cos(q4)*cos(q2 + q3) - l6*sin(q1)*sin(q2 + q3)*cos(q5), l3*sin(q1)*cos(q2 + q3) - l4*sin(q1)*sin(q2 + q3) - l6*sin(q1)*sin(q5)*cos(q4)*cos(q2 + q3) - l6*sin(q1)*sin(q2 + q3)*cos(q5),  l6*sin(q1)*sin(q4)*sin(q5)*sin(q2 + q3) + l6*sin(q5)*cos(q1)*cos(q4), -l6*sin(q1)*sin(q5)*cos(q2 + q3) - l6*sin(q1)*sin(q2 + q3)*cos(q4)*cos(q5) + l6*sin(q4)*cos(q1)*cos(q5)],\n",
       "[                                                                                                                                                                               0,                                        -l2*sin(q2) - l3*sin(q2 + q3) - l4*cos(q2 + q3) + l6*sin(q5)*sin(q2 + q3)*cos(q4) - l6*cos(q5)*cos(q2 + q3),                                -l3*sin(q2 + q3) - l4*cos(q2 + q3) + l6*sin(q5)*sin(q2 + q3)*cos(q4) - l6*cos(q5)*cos(q2 + q3),                                       l6*sin(q4)*sin(q5)*cos(q2 + q3),                                               l6*sin(q5)*sin(q2 + q3) - l6*cos(q4)*cos(q5)*cos(q2 + q3)]])"
      ]
     },
     "execution_count": 38,
     "metadata": {},
     "output_type": "execute_result"
    }
   ],
   "source": [
    "from sympy import sin, cos, Matrix\n",
    "# Definir las funciones x, y, z\n",
    "cos, sin = sp.cos, sp.sin\n",
    "\n",
    "x = l2*sin(q2)*cos(q1) + l3*sin(q2 + q3)*cos(q1) + l4*cos(q1)*cos(q2 + q3)-l6*sin(q1)*sin(q4)*sin(q5) -l6*sin(q5)*sin(q2 +q3)*cos(q1)*cos(q4)+l6*cos(q1)*cos(q5)*cos(q2+q3)\n",
    "y = l2*sin(q1)*sin(q2) + l3*sin(q1)*sin(q2+q3) + l4*sin(q1)*cos(q2+q3) - l6*sin(q1)*sin(q5)*sin(q2+q3)*cos(q4) + l6*sin(q1)*cos(q5)*cos(q2+q3)+l6*sin(q4)*sin(q5)*cos(q1)\n",
    "z = l1 +l2*cos(q2)+l3*cos(q2+q3)-l4*sin(q2+q3)-l6*sin(q5)*cos(q4)*cos(q2+q3)-l6*sin(q2+q3)*cos(q5)\n",
    "X = Matrix([x,y,z])\n",
    "Y = Matrix([q1, q2, q3, q4, q5])\n",
    "J = X.jacobian(Y)\n",
    "J"
   ]
  },
  {
   "cell_type": "code",
   "execution_count": 41,
   "metadata": {},
   "outputs": [
    {
     "data": {
      "text/latex": [
       "$\\displaystyle \\left[\\begin{matrix}0.297891116928786 & 0.100548218708662 & 0.0224300995461594 & 0.0172129155484571 & -0.0309967963712848\\\\0.163060151712845 & -0.327017412064423 & -0.0729504033003871 & 0.0117870264713229 & 0.0648970611596079\\\\0 & -0.332657926202766 & -0.285249967839131 & 0.0680286598362093 & -0.00340148020179788\\end{matrix}\\right]$"
      ],
      "text/plain": [
       "Matrix([\n",
       "[0.297891116928786,  0.100548218708662,  0.0224300995461594, 0.0172129155484571,  -0.0309967963712848],\n",
       "[0.163060151712845, -0.327017412064423, -0.0729504033003871, 0.0117870264713229,   0.0648970611596079],\n",
       "[                0, -0.332657926202766,  -0.285249967839131, 0.0680286598362093, -0.00340148020179788]])"
      ]
     },
     "execution_count": 41,
     "metadata": {},
     "output_type": "execute_result"
    }
   ],
   "source": [
    "Q = [-1.2725,\t0.1765,\t-0.2675,\t1.2871,\t1.7241,\t1.7746]\n",
    "q1, q2, q3, q4, q5, q6 = Q[0], Q[1], Q[2], Q[3], Q[4], Q[5]\n",
    "J.evalf(subs={q1:-1.2725, q2:0.1765, q3:-0.2675, q4:1.2871, q5:1.7241, l1: 0.29, l2:0.27, l3:0.07, l4:0.302, l5:0, l6:0.072})"
   ]
  },
  {
   "cell_type": "code",
   "execution_count": null,
   "metadata": {},
   "outputs": [],
   "source": [
    "import numpy as np\n",
    "import math\n",
    "\n",
    "def cinematica_inversa_RRP_Newton(Xdeseado, Qinicial, L, max_iter=100, epsilon=1e-4):\n",
    "    \"\"\" \n",
    "        Esta funcion realiza la cinematica inversa de un robot RRP mediante el metodo\n",
    "        de Newton\n",
    "\n",
    "        Parametros\n",
    "\n",
    "        - Xdeseado: Es un array de 3 espacios en donde se va a especificar las posiciones [x,y,z] deseadas\n",
    "        - Qinicial: Es un array de 3 espacios con los valores ariculares iniciales del robot RRP\n",
    "        - L = Es un array de 4 espacios con las distancias de cada uno de los eslabones del robot\n",
    "        - max_iter: Es el numero maximo de iteraciones que va a hacer el algoritmo, por defecto son 100\n",
    "        - epsilon: Es el error maximo que admite el algoritmo antes de llegar al limite de iteraciones, por defecto es 1e-4\n",
    "\n",
    "        Retornos\n",
    "        - q: Es un array de 3 espacios con los valores articulares finales\n",
    "        - ee Es un array que almacena los errores obtenidos en cada iteracion\n",
    "\n",
    "    \"\"\"\n",
    "\n",
    "    q = Qinicial.copy()\n",
    "    ee = []\n",
    "\n",
    "    for i in range(max_iter):\n",
    "        q1 = q[0]; q2 = q[1]; q3 = q[2]\n",
    "        J = np.array([[L[1]*np.sin(q1)-L[2]*np.cos(q1+q2), -L[2]*np.cos(q1+q2), 0],\n",
    "                      [-L[1]*np.cos(q1)-L[2]*np.sin(q1+q2), -L[2]*np.sin(q1+q2), 0],\n",
    "                      [0                              ,                 0, 1]])\n",
    "\n",
    "        f = np.array([-L[1]*np.cos(q1)-L[2]*np.sin(q1+q2), -L[1]*np.sin(q1) + L[2]*np.cos(q1+q2), L[2]-L[3]+q3])\n",
    "        e = Xdeseado-f\n",
    "        q = q + np.dot(np.linalg.pinv(J),e)\n",
    "\n",
    "        enorm = np.linalg.norm(e)\n",
    "        print(\"Error en la iteración {}: {}\".format(i, np.round(enorm,4)))\n",
    "        ee.append(enorm)  \n",
    "\n",
    "        if (enorm < epsilon):\n",
    "            break\n",
    "    return q, ee\n",
    "\n",
    "\n",
    "# Parámetros del robot\n",
    "\n",
    "L = np.array([0.395, 0.33, 0.405, 0.395])\n",
    "\n",
    "\n",
    "qinit  = np.array([0, 0, 0])\n",
    "\n",
    "\n",
    "\n",
    "xd = np.array([0.4, 0.345, 0.47])\n",
    "epsilon = 1e-4        \n",
    "max_iteraciones = 100 \n",
    " \n",
    "q, e = cinematica_inversa_RRP_Newton(xd, qinit, L, max_iteraciones, epsilon)\n",
    "print(\"\\nValores articulares obtenidos:\", np.round(q,4))"
   ]
  },
  {
   "attachments": {},
   "cell_type": "markdown",
   "metadata": {},
   "source": [
    "### Lectura de datos"
   ]
  },
  {
   "cell_type": "code",
   "execution_count": 3,
   "metadata": {},
   "outputs": [
    {
     "data": {
      "text/html": [
       "<div>\n",
       "<style scoped>\n",
       "    .dataframe tbody tr th:only-of-type {\n",
       "        vertical-align: middle;\n",
       "    }\n",
       "\n",
       "    .dataframe tbody tr th {\n",
       "        vertical-align: top;\n",
       "    }\n",
       "\n",
       "    .dataframe thead th {\n",
       "        text-align: right;\n",
       "    }\n",
       "</style>\n",
       "<table border=\"1\" class=\"dataframe\">\n",
       "  <thead>\n",
       "    <tr style=\"text-align: right;\">\n",
       "      <th></th>\n",
       "      <th>Q1</th>\n",
       "      <th>Q2</th>\n",
       "      <th>Q3</th>\n",
       "      <th>Q4</th>\n",
       "      <th>Q5</th>\n",
       "      <th>Q6</th>\n",
       "      <th>Roll</th>\n",
       "      <th>Pitch</th>\n",
       "      <th>Yaw</th>\n",
       "      <th>X</th>\n",
       "      <th>Y</th>\n",
       "      <th>Z</th>\n",
       "    </tr>\n",
       "  </thead>\n",
       "  <tbody>\n",
       "    <tr>\n",
       "      <th>0</th>\n",
       "      <td>-1.2725</td>\n",
       "      <td>0.1765</td>\n",
       "      <td>-0.2675</td>\n",
       "      <td>1.2871</td>\n",
       "      <td>1.7241</td>\n",
       "      <td>1.7746</td>\n",
       "      <td>2.670896</td>\n",
       "      <td>1.240142</td>\n",
       "      <td>3.079316</td>\n",
       "      <td>0.16306</td>\n",
       "      <td>-0.29789</td>\n",
       "      <td>0.63213</td>\n",
       "    </tr>\n",
       "    <tr>\n",
       "      <th>1</th>\n",
       "      <td>2.1500</td>\n",
       "      <td>-0.3738</td>\n",
       "      <td>0.5203</td>\n",
       "      <td>-0.9932</td>\n",
       "      <td>-0.1559</td>\n",
       "      <td>0.3500</td>\n",
       "      <td>1.673083</td>\n",
       "      <td>-0.938626</td>\n",
       "      <td>-2.514319</td>\n",
       "      <td>-0.16200</td>\n",
       "      <td>0.23058</td>\n",
       "      <td>0.56218</td>\n",
       "    </tr>\n",
       "    <tr>\n",
       "      <th>2</th>\n",
       "      <td>2.4630</td>\n",
       "      <td>0.0588</td>\n",
       "      <td>0.1829</td>\n",
       "      <td>2.5025</td>\n",
       "      <td>0.8853</td>\n",
       "      <td>1.4526</td>\n",
       "      <td>0.929903</td>\n",
       "      <td>0.714333</td>\n",
       "      <td>-2.159952</td>\n",
       "      <td>-0.31731</td>\n",
       "      <td>0.21315</td>\n",
       "      <td>0.58774</td>\n",
       "    </tr>\n",
       "    <tr>\n",
       "      <th>3</th>\n",
       "      <td>-0.2220</td>\n",
       "      <td>-1.2199</td>\n",
       "      <td>0.8517</td>\n",
       "      <td>1.3264</td>\n",
       "      <td>-0.6319</td>\n",
       "      <td>4.3036</td>\n",
       "      <td>0.664402</td>\n",
       "      <td>-1.002397</td>\n",
       "      <td>1.485717</td>\n",
       "      <td>0.04312</td>\n",
       "      <td>-0.05204</td>\n",
       "      <td>0.58733</td>\n",
       "    </tr>\n",
       "    <tr>\n",
       "      <th>4</th>\n",
       "      <td>-2.8115</td>\n",
       "      <td>-0.5678</td>\n",
       "      <td>0.7310</td>\n",
       "      <td>0.8337</td>\n",
       "      <td>1.6392</td>\n",
       "      <td>5.3698</td>\n",
       "      <td>-2.387837</td>\n",
       "      <td>-0.468515</td>\n",
       "      <td>-2.128698</td>\n",
       "      <td>-0.12604</td>\n",
       "      <td>-0.09941</td>\n",
       "      <td>0.49080</td>\n",
       "    </tr>\n",
       "  </tbody>\n",
       "</table>\n",
       "</div>"
      ],
      "text/plain": [
       "       Q1      Q2      Q3      Q4      Q5      Q6      Roll     Pitch   \n",
       "0 -1.2725  0.1765 -0.2675  1.2871  1.7241  1.7746  2.670896  1.240142  \\\n",
       "1  2.1500 -0.3738  0.5203 -0.9932 -0.1559  0.3500  1.673083 -0.938626   \n",
       "2  2.4630  0.0588  0.1829  2.5025  0.8853  1.4526  0.929903  0.714333   \n",
       "3 -0.2220 -1.2199  0.8517  1.3264 -0.6319  4.3036  0.664402 -1.002397   \n",
       "4 -2.8115 -0.5678  0.7310  0.8337  1.6392  5.3698 -2.387837 -0.468515   \n",
       "\n",
       "        Yaw        X        Y        Z  \n",
       "0  3.079316  0.16306 -0.29789  0.63213  \n",
       "1 -2.514319 -0.16200  0.23058  0.56218  \n",
       "2 -2.159952 -0.31731  0.21315  0.58774  \n",
       "3  1.485717  0.04312 -0.05204  0.58733  \n",
       "4 -2.128698 -0.12604 -0.09941  0.49080  "
      ]
     },
     "execution_count": 3,
     "metadata": {},
     "output_type": "execute_result"
    }
   ],
   "source": [
    "data = pd.read_csv('datos_IRB120rpy.csv')\n",
    "data.head()"
   ]
  },
  {
   "cell_type": "code",
   "execution_count": 19,
   "metadata": {},
   "outputs": [
    {
     "data": {
      "text/plain": [
       "  \u001b[38;5;1m-0.324   \u001b[0m \u001b[38;5;1m-0.3726  \u001b[0m \u001b[38;5;1m 0.8696  \u001b[0m \u001b[38;5;4m 0.1631  \u001b[0m  \u001b[0m\n",
       "  \u001b[38;5;1m 0.02021 \u001b[0m \u001b[38;5;1m 0.9162  \u001b[0m \u001b[38;5;1m 0.4002  \u001b[0m \u001b[38;5;4m-0.2979  \u001b[0m  \u001b[0m\n",
       "  \u001b[38;5;1m-0.9458  \u001b[0m \u001b[38;5;1m 0.1472  \u001b[0m \u001b[38;5;1m-0.2894  \u001b[0m \u001b[38;5;4m 0.6321  \u001b[0m  \u001b[0m\n",
       "  \u001b[38;5;244m 0       \u001b[0m \u001b[38;5;244m 0       \u001b[0m \u001b[38;5;244m 0       \u001b[0m \u001b[38;5;244m 1       \u001b[0m  \u001b[0m\n"
      ]
     },
     "execution_count": 19,
     "metadata": {},
     "output_type": "execute_result"
    }
   ],
   "source": [
    "robot.fkine([-1.2725,\t0.1765,\t-0.2675,\t1.2871,\t1.7241,\t1.7746])"
   ]
  },
  {
   "attachments": {},
   "cell_type": "markdown",
   "metadata": {},
   "source": [
    "#### Separando datos de labels"
   ]
  },
  {
   "cell_type": "code",
   "execution_count": 11,
   "metadata": {},
   "outputs": [
    {
     "data": {
      "text/plain": [
       "(100000, 9)"
      ]
     },
     "execution_count": 11,
     "metadata": {},
     "output_type": "execute_result"
    }
   ],
   "source": [
    "data.shape"
   ]
  },
  {
   "cell_type": "code",
   "execution_count": 20,
   "metadata": {},
   "outputs": [],
   "source": [
    "X = data.loc[:, ['X', 'Y', 'Z']]\n",
    "y = data.loc[:,['Q1', 'Q2', 'Q3', 'Q4', 'Q5', 'Q6']]"
   ]
  },
  {
   "cell_type": "code",
   "execution_count": 26,
   "metadata": {},
   "outputs": [],
   "source": [
    "X_train, X_test, y_train, y_test = train_test_split(X, y, test_size=0.2, random_state=42)"
   ]
  },
  {
   "cell_type": "code",
   "execution_count": 50,
   "metadata": {},
   "outputs": [],
   "source": [
    "def error_NR(qp:np.array, Q:np.array):\n",
    "    q1, q2, q3, q4, q5, q6 = sp.symbols(\"q1 q2 q3 q4 q5 q6\")\n",
    "    sin, cos = sp.sin, sp.cos\n",
    "    x = l2*sin(q2)*cos(q1) + l3*sin(q2 + q3)*cos(q1) + l4*cos(q1)*cos(q2 + q3)-l6*sin(q1)*sin(q4)*sin(q5) -l6*sin(q5)*sin(q2 +q3)*cos(q1)*cos(q4)+l6*cos(q1)*cos(q5)*cos(q2+q3)\n",
    "    y = l2*sin(q1)*sin(q2) + l3*sin(q1)*sin(q2+q3) + l4*sin(q1)*cos(q2+q3) - l6*sin(q1)*sin(q5)*sin(q2+q3)*cos(q4) + l6*sin(q1)*cos(q5)*cos(q2+q3)+l6*sin(q4)*sin(q5)*cos(q1)\n",
    "    z = l1 +l2*cos(q2)+l3*cos(q2+q3)-l4*sin(q2+q3)-l6*sin(q5)*cos(q4)*cos(q2+q3)-l6*sin(q2+q3)*cos(q5)\n",
    "    X = Matrix([x,y,z])\n",
    "    Y = Matrix([q1, q2, q3, q4, q5])\n",
    "    J = X.jacobian(Y)\n",
    "    q1, q2, q3, q4, q5, q6 = Q[0], Q[1], Q[2], Q[3], Q[4], Q[5]\n",
    "    Je = J.evalf(subs={q1:q1, q2:q2, q3:q3, q4:q4, q5:q5, l1: 0.29, l2:0.27, l3:0.07, l4:0.302, l5:0, l6:0.072})\n",
    "\n",
    "    f = np.array([x.evalf(subs={q1:q1, q2:q2, q3:q3, q4:q4, q5:q5, l1: 0.29, l2:0.27, l3:0.07, l4:0.302, l5:0, l6:0.072}), \n",
    "         y.evalf(subs={q1:q1, q2:q2, q3:q3, q4:q4, q5:q5, l1: 0.29, l2:0.27, l3:0.07, l4:0.302, l5:0, l6:0.072}), \n",
    "         z.evalf(subs={q1:q1, q2:q2, q3:q3, q4:q4, q5:q5, l1: 0.29, l2:0.27, l3:0.07, l4:0.302, l5:0, l6:0.072})])\n",
    "\n",
    "    T = np.array(robot.fkine(qp))\n",
    "    x = np.around(T[0,-1], 5)\n",
    "    y = np.around(T[1,-1], 5)\n",
    "    z = np.around(T[2,-1], 5)\n",
    "    xd = [x,y,z]\n",
    "    e = xd - f\n",
    "\n",
    "    q = Q + np.dot(np.linalg.pinv(Je),e)\n",
    "\n",
    "    enorm = np.linalg.norm(e)\n",
    "\n",
    "    return enorm"
   ]
  },
  {
   "cell_type": "code",
   "execution_count": 51,
   "metadata": {},
   "outputs": [
    {
     "ename": "UFuncTypeError",
     "evalue": "Cannot cast ufunc 'svd_m_s' input from dtype('O') to dtype('float64') with casting rule 'same_kind'",
     "output_type": "error",
     "traceback": [
      "\u001b[0;31m---------------------------------------------------------------------------\u001b[0m",
      "\u001b[0;31mUFuncTypeError\u001b[0m                            Traceback (most recent call last)",
      "Cell \u001b[0;32mIn[51], line 1\u001b[0m\n\u001b[0;32m----> 1\u001b[0m error_NR([\u001b[39m-\u001b[39;49m\u001b[39m1.5\u001b[39;49m,\t\u001b[39m1.1765\u001b[39;49m,\t\u001b[39m-\u001b[39;49m\u001b[39m0.2975\u001b[39;49m,\t\u001b[39m1.7871\u001b[39;49m,\t\u001b[39m1.2241\u001b[39;49m,\t\u001b[39m1.946\u001b[39;49m], [\u001b[39m-\u001b[39;49m\u001b[39m1.2725\u001b[39;49m,\t\u001b[39m0.1765\u001b[39;49m,\t\u001b[39m-\u001b[39;49m\u001b[39m0.2675\u001b[39;49m,\t\u001b[39m1.2871\u001b[39;49m,\t\u001b[39m1.7241\u001b[39;49m,\t\u001b[39m1.7746\u001b[39;49m])\n",
      "Cell \u001b[0;32mIn[50], line 24\u001b[0m, in \u001b[0;36merror_NR\u001b[0;34m(qp, Q)\u001b[0m\n\u001b[1;32m     21\u001b[0m xd \u001b[39m=\u001b[39m [x,y,z]\n\u001b[1;32m     22\u001b[0m e \u001b[39m=\u001b[39m xd \u001b[39m-\u001b[39m f\n\u001b[0;32m---> 24\u001b[0m q \u001b[39m=\u001b[39m Q \u001b[39m+\u001b[39m np\u001b[39m.\u001b[39mdot(np\u001b[39m.\u001b[39;49mlinalg\u001b[39m.\u001b[39;49mpinv(Je),e)\n\u001b[1;32m     26\u001b[0m enorm \u001b[39m=\u001b[39m np\u001b[39m.\u001b[39mlinalg\u001b[39m.\u001b[39mnorm(e)\n\u001b[1;32m     28\u001b[0m \u001b[39mreturn\u001b[39;00m enorm\n",
      "File \u001b[0;32m<__array_function__ internals>:180\u001b[0m, in \u001b[0;36mpinv\u001b[0;34m(*args, **kwargs)\u001b[0m\n",
      "File \u001b[0;32m~/.local/lib/python3.10/site-packages/numpy/linalg/linalg.py:1998\u001b[0m, in \u001b[0;36mpinv\u001b[0;34m(a, rcond, hermitian)\u001b[0m\n\u001b[1;32m   1996\u001b[0m     \u001b[39mreturn\u001b[39;00m wrap(res)\n\u001b[1;32m   1997\u001b[0m a \u001b[39m=\u001b[39m a\u001b[39m.\u001b[39mconjugate()\n\u001b[0;32m-> 1998\u001b[0m u, s, vt \u001b[39m=\u001b[39m svd(a, full_matrices\u001b[39m=\u001b[39;49m\u001b[39mFalse\u001b[39;49;00m, hermitian\u001b[39m=\u001b[39;49mhermitian)\n\u001b[1;32m   2000\u001b[0m \u001b[39m# discard small singular values\u001b[39;00m\n\u001b[1;32m   2001\u001b[0m cutoff \u001b[39m=\u001b[39m rcond[\u001b[39m.\u001b[39m\u001b[39m.\u001b[39m\u001b[39m.\u001b[39m, newaxis] \u001b[39m*\u001b[39m amax(s, axis\u001b[39m=\u001b[39m\u001b[39m-\u001b[39m\u001b[39m1\u001b[39m, keepdims\u001b[39m=\u001b[39m\u001b[39mTrue\u001b[39;00m)\n",
      "File \u001b[0;32m<__array_function__ internals>:180\u001b[0m, in \u001b[0;36msvd\u001b[0;34m(*args, **kwargs)\u001b[0m\n",
      "File \u001b[0;32m~/.local/lib/python3.10/site-packages/numpy/linalg/linalg.py:1657\u001b[0m, in \u001b[0;36msvd\u001b[0;34m(a, full_matrices, compute_uv, hermitian)\u001b[0m\n\u001b[1;32m   1654\u001b[0m         gufunc \u001b[39m=\u001b[39m _umath_linalg\u001b[39m.\u001b[39msvd_n_s\n\u001b[1;32m   1656\u001b[0m signature \u001b[39m=\u001b[39m \u001b[39m'\u001b[39m\u001b[39mD->DdD\u001b[39m\u001b[39m'\u001b[39m \u001b[39mif\u001b[39;00m isComplexType(t) \u001b[39melse\u001b[39;00m \u001b[39m'\u001b[39m\u001b[39md->ddd\u001b[39m\u001b[39m'\u001b[39m\n\u001b[0;32m-> 1657\u001b[0m u, s, vh \u001b[39m=\u001b[39m gufunc(a, signature\u001b[39m=\u001b[39;49msignature, extobj\u001b[39m=\u001b[39;49mextobj)\n\u001b[1;32m   1658\u001b[0m u \u001b[39m=\u001b[39m u\u001b[39m.\u001b[39mastype(result_t, copy\u001b[39m=\u001b[39m\u001b[39mFalse\u001b[39;00m)\n\u001b[1;32m   1659\u001b[0m s \u001b[39m=\u001b[39m s\u001b[39m.\u001b[39mastype(_realType(result_t), copy\u001b[39m=\u001b[39m\u001b[39mFalse\u001b[39;00m)\n",
      "\u001b[0;31mUFuncTypeError\u001b[0m: Cannot cast ufunc 'svd_m_s' input from dtype('O') to dtype('float64') with casting rule 'same_kind'"
     ]
    }
   ],
   "source": [
    "error_NR([-1.5,\t1.1765,\t-0.2975,\t1.7871,\t1.2241,\t1.946], [-1.2725,\t0.1765,\t-0.2675,\t1.2871,\t1.7241,\t1.7746])"
   ]
  },
  {
   "cell_type": "code",
   "execution_count": 30,
   "metadata": {},
   "outputs": [],
   "source": [
    "model = tf.keras.Sequential([\n",
    "    tf.keras.layers.Dense(128, activation=tf.keras.layers.ELU(alpha=0.1), input_shape=(3,)),\n",
    "    tf.keras.layers.BatchNormalization(),\n",
    "    tf.keras.layers.Dense(256, activation=tf.keras.layers.ELU(alpha=0.1), kernel_regularizer=tf.keras.regularizers.l2(0.01)),\n",
    "    tf.keras.layers.Dropout(0.2),\n",
    "    tf.keras.layers.BatchNormalization(),\n",
    "    tf.keras.layers.Dense(512, activation=tf.keras.layers.ELU(alpha=0.1)),\n",
    "    tf.keras.layers.Dropout(0.2), \n",
    "    tf.keras.layers.BatchNormalization(),\n",
    "    tf.keras.layers.Dense(1024, activation=tf.keras.layers.ELU(alpha=0.1)),\n",
    "    tf.keras.layers.Dropout(0.3), \n",
    "    tf.keras.layers.BatchNormalization(),\n",
    "    tf.keras.layers.Dense(512, activation=tf.keras.layers.ELU(alpha=0.1)),\n",
    "    tf.keras.layers.Dropout(0.2), \n",
    "    tf.keras.layers.BatchNormalization(),\n",
    "    tf.keras.layers.Dense(256, activation=tf.keras.layers.ELU(alpha=0.1), kernel_regularizer=tf.keras.regularizers.l2(0.01)),\n",
    "    tf.keras.layers.Dropout(0.2),\n",
    "    tf.keras.layers.BatchNormalization(),\n",
    "    tf.keras.layers.Dense(128, activation=tf.keras.layers.ELU(alpha=0.1)),\n",
    "    tf.keras.layers.BatchNormalization(),\n",
    "    tf.keras.layers.Dense(6, activation = 'linear')\n",
    "])\n",
    "\n",
    "model.compile(optimizer=tf.keras.optimizers.Adam(learning_rate=0.001), loss=error_NR, metrics=['mse'])"
   ]
  },
  {
   "cell_type": "code",
   "execution_count": 31,
   "metadata": {},
   "outputs": [
    {
     "name": "stdout",
     "output_type": "stream",
     "text": [
      "Epoch 1/20\n"
     ]
    },
    {
     "ename": "NotImplementedError",
     "evalue": "in user code:\n\n    File \"/home/jhonf/.local/lib/python3.10/site-packages/keras/engine/training.py\", line 1284, in train_function  *\n        return step_function(self, iterator)\n    File \"/tmp/ipykernel_5712/2591330252.py\", line 4, in error_NR  *\n        x = l2*sin(q2)*cos(q1) + l3*sin(q2 + q3)*cos(q1) + l4*cos(q1)*cos(q2 + q3)-l6*sin(q1)*sin(q4)*sin(q5) -l6*sin(q5)*sin(q2 +q3)*cos(q1)*cos(q4)+l6*cos(q1)*cos(q5)*cos(q2+q3)\n\n    NotImplementedError: Cannot convert a symbolic tf.Tensor (error_NR/strided_slice_1:0) to a numpy array. This error may indicate that you're trying to pass a Tensor to a NumPy call, which is not supported.\n",
     "output_type": "error",
     "traceback": [
      "\u001b[0;31m---------------------------------------------------------------------------\u001b[0m",
      "\u001b[0;31mNotImplementedError\u001b[0m                       Traceback (most recent call last)",
      "Cell \u001b[0;32mIn[31], line 4\u001b[0m\n\u001b[1;32m      1\u001b[0m checkpoint_callback \u001b[39m=\u001b[39m tf\u001b[39m.\u001b[39mkeras\u001b[39m.\u001b[39mcallbacks\u001b[39m.\u001b[39mModelCheckpoint(filepath\u001b[39m=\u001b[39m\u001b[39m'\u001b[39m\u001b[39mweightsT1.h5\u001b[39m\u001b[39m'\u001b[39m,\n\u001b[1;32m      2\u001b[0m                                        monitor\u001b[39m=\u001b[39m\u001b[39m'\u001b[39m\u001b[39mval_loss\u001b[39m\u001b[39m'\u001b[39m, save_best_only\u001b[39m=\u001b[39m\u001b[39mTrue\u001b[39;00m)\n\u001b[1;32m      3\u001b[0m \u001b[39m# Entrena el modelo\u001b[39;00m\n\u001b[0;32m----> 4\u001b[0m history \u001b[39m=\u001b[39m model\u001b[39m.\u001b[39;49mfit(X_train, y_train,  epochs\u001b[39m=\u001b[39;49m\u001b[39m20\u001b[39;49m, batch_size\u001b[39m=\u001b[39;49m\u001b[39m128\u001b[39;49m,\n\u001b[1;32m      5\u001b[0m                     validation_split\u001b[39m=\u001b[39;49m\u001b[39m0.2\u001b[39;49m, callbacks\u001b[39m=\u001b[39;49m[checkpoint_callback])\n\u001b[1;32m      7\u001b[0m plt\u001b[39m.\u001b[39mplot(history\u001b[39m.\u001b[39mhistory[\u001b[39m'\u001b[39m\u001b[39mloss\u001b[39m\u001b[39m'\u001b[39m], label\u001b[39m=\u001b[39m\u001b[39m'\u001b[39m\u001b[39mpérdida de entrenamiento\u001b[39m\u001b[39m'\u001b[39m)\n\u001b[1;32m      8\u001b[0m plt\u001b[39m.\u001b[39mplot(history\u001b[39m.\u001b[39mhistory[\u001b[39m'\u001b[39m\u001b[39mval_loss\u001b[39m\u001b[39m'\u001b[39m], label\u001b[39m=\u001b[39m\u001b[39m'\u001b[39m\u001b[39mpérdida de validación\u001b[39m\u001b[39m'\u001b[39m)\n",
      "File \u001b[0;32m~/.local/lib/python3.10/site-packages/keras/utils/traceback_utils.py:70\u001b[0m, in \u001b[0;36mfilter_traceback.<locals>.error_handler\u001b[0;34m(*args, **kwargs)\u001b[0m\n\u001b[1;32m     67\u001b[0m     filtered_tb \u001b[39m=\u001b[39m _process_traceback_frames(e\u001b[39m.\u001b[39m__traceback__)\n\u001b[1;32m     68\u001b[0m     \u001b[39m# To get the full stack trace, call:\u001b[39;00m\n\u001b[1;32m     69\u001b[0m     \u001b[39m# `tf.debugging.disable_traceback_filtering()`\u001b[39;00m\n\u001b[0;32m---> 70\u001b[0m     \u001b[39mraise\u001b[39;00m e\u001b[39m.\u001b[39mwith_traceback(filtered_tb) \u001b[39mfrom\u001b[39;00m \u001b[39mNone\u001b[39m\n\u001b[1;32m     71\u001b[0m \u001b[39mfinally\u001b[39;00m:\n\u001b[1;32m     72\u001b[0m     \u001b[39mdel\u001b[39;00m filtered_tb\n",
      "File \u001b[0;32m/tmp/__autograph_generated_filesk99gmdp.py:15\u001b[0m, in \u001b[0;36mouter_factory.<locals>.inner_factory.<locals>.tf__train_function\u001b[0;34m(iterator)\u001b[0m\n\u001b[1;32m     13\u001b[0m \u001b[39mtry\u001b[39;00m:\n\u001b[1;32m     14\u001b[0m     do_return \u001b[39m=\u001b[39m \u001b[39mTrue\u001b[39;00m\n\u001b[0;32m---> 15\u001b[0m     retval_ \u001b[39m=\u001b[39m ag__\u001b[39m.\u001b[39mconverted_call(ag__\u001b[39m.\u001b[39mld(step_function), (ag__\u001b[39m.\u001b[39mld(\u001b[39mself\u001b[39m), ag__\u001b[39m.\u001b[39mld(iterator)), \u001b[39mNone\u001b[39;00m, fscope)\n\u001b[1;32m     16\u001b[0m \u001b[39mexcept\u001b[39;00m:\n\u001b[1;32m     17\u001b[0m     do_return \u001b[39m=\u001b[39m \u001b[39mFalse\u001b[39;00m\n",
      "File \u001b[0;32m/tmp/__autograph_generated_file0xyollvp.py:12\u001b[0m, in \u001b[0;36mouter_factory.<locals>.inner_factory.<locals>.tf__error_NR\u001b[0;34m(Q, xd)\u001b[0m\n\u001b[1;32m     10\u001b[0m (q1, q2, q3, q4, q5, q6) \u001b[39m=\u001b[39m (ag__\u001b[39m.\u001b[39mld(Q)[\u001b[39m0\u001b[39m], ag__\u001b[39m.\u001b[39mld(Q)[\u001b[39m1\u001b[39m], ag__\u001b[39m.\u001b[39mld(Q)[\u001b[39m2\u001b[39m], ag__\u001b[39m.\u001b[39mld(Q)[\u001b[39m3\u001b[39m], ag__\u001b[39m.\u001b[39mld(Q)[\u001b[39m4\u001b[39m], ag__\u001b[39m.\u001b[39mld(Q)[\u001b[39m5\u001b[39m])\n\u001b[1;32m     11\u001b[0m (sin, cos) \u001b[39m=\u001b[39m (ag__\u001b[39m.\u001b[39mld(np)\u001b[39m.\u001b[39msin, ag__\u001b[39m.\u001b[39mld(np)\u001b[39m.\u001b[39mcos)\n\u001b[0;32m---> 12\u001b[0m x \u001b[39m=\u001b[39m ag__\u001b[39m.\u001b[39mld(l2) \u001b[39m*\u001b[39m ag__\u001b[39m.\u001b[39;49mconverted_call(ag__\u001b[39m.\u001b[39;49mld(sin), (ag__\u001b[39m.\u001b[39;49mld(q2),), \u001b[39mNone\u001b[39;49;00m, fscope) \u001b[39m*\u001b[39m ag__\u001b[39m.\u001b[39mconverted_call(ag__\u001b[39m.\u001b[39mld(cos), (ag__\u001b[39m.\u001b[39mld(q1),), \u001b[39mNone\u001b[39;00m, fscope) \u001b[39m+\u001b[39m ag__\u001b[39m.\u001b[39mld(l3) \u001b[39m*\u001b[39m ag__\u001b[39m.\u001b[39mconverted_call(ag__\u001b[39m.\u001b[39mld(sin), (ag__\u001b[39m.\u001b[39mld(q2) \u001b[39m+\u001b[39m ag__\u001b[39m.\u001b[39mld(q3),), \u001b[39mNone\u001b[39;00m, fscope) \u001b[39m*\u001b[39m ag__\u001b[39m.\u001b[39mconverted_call(ag__\u001b[39m.\u001b[39mld(cos), (ag__\u001b[39m.\u001b[39mld(q1),), \u001b[39mNone\u001b[39;00m, fscope) \u001b[39m+\u001b[39m ag__\u001b[39m.\u001b[39mld(l4) \u001b[39m*\u001b[39m ag__\u001b[39m.\u001b[39mconverted_call(ag__\u001b[39m.\u001b[39mld(cos), (ag__\u001b[39m.\u001b[39mld(q1),), \u001b[39mNone\u001b[39;00m, fscope) \u001b[39m*\u001b[39m ag__\u001b[39m.\u001b[39mconverted_call(ag__\u001b[39m.\u001b[39mld(cos), (ag__\u001b[39m.\u001b[39mld(q2) \u001b[39m+\u001b[39m ag__\u001b[39m.\u001b[39mld(q3),), \u001b[39mNone\u001b[39;00m, fscope) \u001b[39m-\u001b[39m ag__\u001b[39m.\u001b[39mld(l6) \u001b[39m*\u001b[39m ag__\u001b[39m.\u001b[39mconverted_call(ag__\u001b[39m.\u001b[39mld(sin), (ag__\u001b[39m.\u001b[39mld(q1),), \u001b[39mNone\u001b[39;00m, fscope) \u001b[39m*\u001b[39m ag__\u001b[39m.\u001b[39mconverted_call(ag__\u001b[39m.\u001b[39mld(sin), (ag__\u001b[39m.\u001b[39mld(q4),), \u001b[39mNone\u001b[39;00m, fscope) \u001b[39m*\u001b[39m ag__\u001b[39m.\u001b[39mconverted_call(ag__\u001b[39m.\u001b[39mld(sin), (ag__\u001b[39m.\u001b[39mld(q5),), \u001b[39mNone\u001b[39;00m, fscope) \u001b[39m-\u001b[39m ag__\u001b[39m.\u001b[39mld(l6) \u001b[39m*\u001b[39m ag__\u001b[39m.\u001b[39mconverted_call(ag__\u001b[39m.\u001b[39mld(sin), (ag__\u001b[39m.\u001b[39mld(q5),), \u001b[39mNone\u001b[39;00m, fscope) \u001b[39m*\u001b[39m ag__\u001b[39m.\u001b[39mconverted_call(ag__\u001b[39m.\u001b[39mld(sin), (ag__\u001b[39m.\u001b[39mld(q2) \u001b[39m+\u001b[39m ag__\u001b[39m.\u001b[39mld(q3),), \u001b[39mNone\u001b[39;00m, fscope) \u001b[39m*\u001b[39m ag__\u001b[39m.\u001b[39mconverted_call(ag__\u001b[39m.\u001b[39mld(cos), (ag__\u001b[39m.\u001b[39mld(q1),), \u001b[39mNone\u001b[39;00m, fscope) \u001b[39m*\u001b[39m ag__\u001b[39m.\u001b[39mconverted_call(ag__\u001b[39m.\u001b[39mld(cos), (ag__\u001b[39m.\u001b[39mld(q4),), \u001b[39mNone\u001b[39;00m, fscope) \u001b[39m+\u001b[39m ag__\u001b[39m.\u001b[39mld(l6) \u001b[39m*\u001b[39m ag__\u001b[39m.\u001b[39mconverted_call(ag__\u001b[39m.\u001b[39mld(cos), (ag__\u001b[39m.\u001b[39mld(q1),), \u001b[39mNone\u001b[39;00m, fscope) \u001b[39m*\u001b[39m ag__\u001b[39m.\u001b[39mconverted_call(ag__\u001b[39m.\u001b[39mld(cos), (ag__\u001b[39m.\u001b[39mld(q5),), \u001b[39mNone\u001b[39;00m, fscope) \u001b[39m*\u001b[39m ag__\u001b[39m.\u001b[39mconverted_call(ag__\u001b[39m.\u001b[39mld(cos), (ag__\u001b[39m.\u001b[39mld(q2) \u001b[39m+\u001b[39m ag__\u001b[39m.\u001b[39mld(q3),), \u001b[39mNone\u001b[39;00m, fscope)\n\u001b[1;32m     13\u001b[0m y \u001b[39m=\u001b[39m ag__\u001b[39m.\u001b[39mld(l2) \u001b[39m*\u001b[39m ag__\u001b[39m.\u001b[39mconverted_call(ag__\u001b[39m.\u001b[39mld(sin), (ag__\u001b[39m.\u001b[39mld(q1),), \u001b[39mNone\u001b[39;00m, fscope) \u001b[39m*\u001b[39m ag__\u001b[39m.\u001b[39mconverted_call(ag__\u001b[39m.\u001b[39mld(sin), (ag__\u001b[39m.\u001b[39mld(q2),), \u001b[39mNone\u001b[39;00m, fscope) \u001b[39m+\u001b[39m ag__\u001b[39m.\u001b[39mld(l3) \u001b[39m*\u001b[39m ag__\u001b[39m.\u001b[39mconverted_call(ag__\u001b[39m.\u001b[39mld(sin), (ag__\u001b[39m.\u001b[39mld(q1),), \u001b[39mNone\u001b[39;00m, fscope) \u001b[39m*\u001b[39m ag__\u001b[39m.\u001b[39mconverted_call(ag__\u001b[39m.\u001b[39mld(sin), (ag__\u001b[39m.\u001b[39mld(q2) \u001b[39m+\u001b[39m ag__\u001b[39m.\u001b[39mld(q3),), \u001b[39mNone\u001b[39;00m, fscope) \u001b[39m+\u001b[39m ag__\u001b[39m.\u001b[39mld(l4) \u001b[39m*\u001b[39m ag__\u001b[39m.\u001b[39mconverted_call(ag__\u001b[39m.\u001b[39mld(sin), (ag__\u001b[39m.\u001b[39mld(q1),), \u001b[39mNone\u001b[39;00m, fscope) \u001b[39m*\u001b[39m ag__\u001b[39m.\u001b[39mconverted_call(ag__\u001b[39m.\u001b[39mld(cos), (ag__\u001b[39m.\u001b[39mld(q2) \u001b[39m+\u001b[39m ag__\u001b[39m.\u001b[39mld(q3),), \u001b[39mNone\u001b[39;00m, fscope) \u001b[39m-\u001b[39m ag__\u001b[39m.\u001b[39mld(l6) \u001b[39m*\u001b[39m ag__\u001b[39m.\u001b[39mconverted_call(ag__\u001b[39m.\u001b[39mld(sin), (ag__\u001b[39m.\u001b[39mld(q1),), \u001b[39mNone\u001b[39;00m, fscope) \u001b[39m*\u001b[39m ag__\u001b[39m.\u001b[39mconverted_call(ag__\u001b[39m.\u001b[39mld(sin), (ag__\u001b[39m.\u001b[39mld(q5),), \u001b[39mNone\u001b[39;00m, fscope) \u001b[39m*\u001b[39m ag__\u001b[39m.\u001b[39mconverted_call(ag__\u001b[39m.\u001b[39mld(sin), (ag__\u001b[39m.\u001b[39mld(q2) \u001b[39m+\u001b[39m ag__\u001b[39m.\u001b[39mld(q3),), \u001b[39mNone\u001b[39;00m, fscope) \u001b[39m*\u001b[39m ag__\u001b[39m.\u001b[39mconverted_call(ag__\u001b[39m.\u001b[39mld(cos), (ag__\u001b[39m.\u001b[39mld(q4),), \u001b[39mNone\u001b[39;00m, fscope) \u001b[39m+\u001b[39m ag__\u001b[39m.\u001b[39mld(l6) \u001b[39m*\u001b[39m ag__\u001b[39m.\u001b[39mconverted_call(ag__\u001b[39m.\u001b[39mld(sin), (ag__\u001b[39m.\u001b[39mld(q1),), \u001b[39mNone\u001b[39;00m, fscope) \u001b[39m*\u001b[39m ag__\u001b[39m.\u001b[39mconverted_call(ag__\u001b[39m.\u001b[39mld(cos), (ag__\u001b[39m.\u001b[39mld(q5),), \u001b[39mNone\u001b[39;00m, fscope) \u001b[39m*\u001b[39m ag__\u001b[39m.\u001b[39mconverted_call(ag__\u001b[39m.\u001b[39mld(cos), (ag__\u001b[39m.\u001b[39mld(q2) \u001b[39m+\u001b[39m ag__\u001b[39m.\u001b[39mld(q3),), \u001b[39mNone\u001b[39;00m, fscope) \u001b[39m+\u001b[39m ag__\u001b[39m.\u001b[39mld(l6) \u001b[39m*\u001b[39m ag__\u001b[39m.\u001b[39mconverted_call(ag__\u001b[39m.\u001b[39mld(sin), (ag__\u001b[39m.\u001b[39mld(q4),), \u001b[39mNone\u001b[39;00m, fscope) \u001b[39m*\u001b[39m ag__\u001b[39m.\u001b[39mconverted_call(ag__\u001b[39m.\u001b[39mld(sin), (ag__\u001b[39m.\u001b[39mld(q5),), \u001b[39mNone\u001b[39;00m, fscope) \u001b[39m*\u001b[39m ag__\u001b[39m.\u001b[39mconverted_call(ag__\u001b[39m.\u001b[39mld(cos), (ag__\u001b[39m.\u001b[39mld(q1),), \u001b[39mNone\u001b[39;00m, fscope)\n\u001b[1;32m     14\u001b[0m z \u001b[39m=\u001b[39m ag__\u001b[39m.\u001b[39mld(l1) \u001b[39m+\u001b[39m ag__\u001b[39m.\u001b[39mld(l2) \u001b[39m*\u001b[39m ag__\u001b[39m.\u001b[39mconverted_call(ag__\u001b[39m.\u001b[39mld(cos), (ag__\u001b[39m.\u001b[39mld(q2),), \u001b[39mNone\u001b[39;00m, fscope) \u001b[39m+\u001b[39m ag__\u001b[39m.\u001b[39mld(l3) \u001b[39m*\u001b[39m ag__\u001b[39m.\u001b[39mconverted_call(ag__\u001b[39m.\u001b[39mld(cos), (ag__\u001b[39m.\u001b[39mld(q2) \u001b[39m+\u001b[39m ag__\u001b[39m.\u001b[39mld(q3),), \u001b[39mNone\u001b[39;00m, fscope) \u001b[39m-\u001b[39m ag__\u001b[39m.\u001b[39mld(l4) \u001b[39m*\u001b[39m ag__\u001b[39m.\u001b[39mconverted_call(ag__\u001b[39m.\u001b[39mld(sin), (ag__\u001b[39m.\u001b[39mld(q2) \u001b[39m+\u001b[39m ag__\u001b[39m.\u001b[39mld(q3),), \u001b[39mNone\u001b[39;00m, fscope) \u001b[39m-\u001b[39m ag__\u001b[39m.\u001b[39mld(l6) \u001b[39m*\u001b[39m ag__\u001b[39m.\u001b[39mconverted_call(ag__\u001b[39m.\u001b[39mld(sin), (ag__\u001b[39m.\u001b[39mld(q5),), \u001b[39mNone\u001b[39;00m, fscope) \u001b[39m*\u001b[39m ag__\u001b[39m.\u001b[39mconverted_call(ag__\u001b[39m.\u001b[39mld(cos), (ag__\u001b[39m.\u001b[39mld(q4),), \u001b[39mNone\u001b[39;00m, fscope) \u001b[39m*\u001b[39m ag__\u001b[39m.\u001b[39mconverted_call(ag__\u001b[39m.\u001b[39mld(cos), (ag__\u001b[39m.\u001b[39mld(q2) \u001b[39m+\u001b[39m ag__\u001b[39m.\u001b[39mld(q3),), \u001b[39mNone\u001b[39;00m, fscope) \u001b[39m-\u001b[39m ag__\u001b[39m.\u001b[39mld(l6) \u001b[39m*\u001b[39m ag__\u001b[39m.\u001b[39mconverted_call(ag__\u001b[39m.\u001b[39mld(sin), (ag__\u001b[39m.\u001b[39mld(q2) \u001b[39m+\u001b[39m ag__\u001b[39m.\u001b[39mld(q3),), \u001b[39mNone\u001b[39;00m, fscope) \u001b[39m*\u001b[39m ag__\u001b[39m.\u001b[39mconverted_call(ag__\u001b[39m.\u001b[39mld(cos), (ag__\u001b[39m.\u001b[39mld(q5),), \u001b[39mNone\u001b[39;00m, fscope)\n",
      "\u001b[0;31mNotImplementedError\u001b[0m: in user code:\n\n    File \"/home/jhonf/.local/lib/python3.10/site-packages/keras/engine/training.py\", line 1284, in train_function  *\n        return step_function(self, iterator)\n    File \"/tmp/ipykernel_5712/2591330252.py\", line 4, in error_NR  *\n        x = l2*sin(q2)*cos(q1) + l3*sin(q2 + q3)*cos(q1) + l4*cos(q1)*cos(q2 + q3)-l6*sin(q1)*sin(q4)*sin(q5) -l6*sin(q5)*sin(q2 +q3)*cos(q1)*cos(q4)+l6*cos(q1)*cos(q5)*cos(q2+q3)\n\n    NotImplementedError: Cannot convert a symbolic tf.Tensor (error_NR/strided_slice_1:0) to a numpy array. This error may indicate that you're trying to pass a Tensor to a NumPy call, which is not supported.\n"
     ]
    }
   ],
   "source": [
    "checkpoint_callback = tf.keras.callbacks.ModelCheckpoint(filepath='weightsT1.h5',\n",
    "                                       monitor='val_loss', save_best_only=True)\n",
    "# Entrena el modelo\n",
    "history = model.fit(X_train, y_train,  epochs=20, batch_size=128,\n",
    "                    validation_split=0.2, callbacks=[checkpoint_callback])\n",
    "\n",
    "plt.plot(history.history['loss'], label='pérdida de entrenamiento')\n",
    "plt.plot(history.history['val_loss'], label='pérdida de validación')\n",
    "plt.xlabel('Número de épocas')\n",
    "plt.ylabel('Pérdida')\n",
    "plt.legend()\n",
    "plt.show()"
   ]
  },
  {
   "cell_type": "code",
   "execution_count": 8,
   "metadata": {},
   "outputs": [],
   "source": [
    "class IRB120_dataset(Dataset):\n",
    "\n",
    "    def __init__(self, X_train, y_train):\n",
    "        self.x_data, self.y_data = X_train, y_train\n",
    "  \n",
    "    def __getitem__(self, i):\n",
    "        return self.x_data[i], self.y_data[i]\n",
    "\n",
    "    def __len__(self):\n",
    "      return len(self.y_data)\n",
    "\n",
    "IRB_120_data = IRB120_dataset(X_train, y_train)"
   ]
  },
  {
   "cell_type": "code",
   "execution_count": 9,
   "metadata": {},
   "outputs": [],
   "source": [
    "batch_size = 5000\n",
    "loader = DataLoader(dataset=IRB_120_data, batch_size=batch_size, shuffle=True)"
   ]
  },
  {
   "cell_type": "code",
   "execution_count": 10,
   "metadata": {},
   "outputs": [],
   "source": [
    "class IK_IRB120(nn.Module):\n",
    "\n",
    "  def __init__(self):\n",
    "    super(IK_IRB120, self).__init__()\n",
    "    # input layer\n",
    "    self.input_layer_to_hidden_layer_1 = nn.Linear(3, 16, bias=True)\n",
    "    self.bn1 = nn.BatchNorm1d(16)\n",
    "    # relu 1\n",
    "    self.relu1 = nn.ReLU()\n",
    "\n",
    "    # hidden layer 1\n",
    "    self.hidden_layer_1_to_hidden_layer_2 = nn.Linear(16, 60, bias=True)\n",
    "    self.bn2 = nn.BatchNorm1d(60)\n",
    "    # relu 2\n",
    "    self.relu2 = nn.ReLU()\n",
    "\n",
    "    # hidden layer 2\n",
    "    self.hidden_layer_2_to_hidden_layer_3 = nn.Linear(60, 100, bias = True)\n",
    "    self.bn3 = nn.BatchNorm1d(100)\n",
    "    self.relu3 = nn.ReLU()\n",
    "    \n",
    "     # hidden layer 3\n",
    "    self.hidden_layer_3_to_hidden_layer_4 = nn.Linear(100, 200, bias = True)\n",
    "    self.bn4 = nn.BatchNorm1d(200)\n",
    "    self.relu3 = nn.ReLU()\n",
    "\n",
    "     # hidden layer 4\n",
    "    self.hidden_layer_4_to_hidden_layer_5 = nn.Linear(200, 100, bias = True)\n",
    "    self.relu3 = nn.ReLU()\n",
    "\n",
    "    # hidden layer 5\n",
    "    self.hidden_layer_5_to_output_layer = nn.Linear(100, 6, bias = True)\n",
    "    # ActivationF\n",
    "    self.activationf = nn.Identity()\n",
    "\n",
    "  def forward(self, input):\n",
    "\n",
    "    # input layer\n",
    "    linear_combination1 = self.input_layer_to_hidden_layer_1(input)\n",
    "    batch_n1 = self.bn1(linear_combination1)\n",
    "    intermediate_relu1 = self.relu1(batch_n1)\n",
    "\n",
    "    # hidden layer 1\n",
    "    linear_combination2 = self.hidden_layer_1_to_hidden_layer_2(intermediate_relu1)\n",
    "    batch_n2 = self.bn2(linear_combination2)\n",
    "    intermediate_relu2 = self.relu2(batch_n2)\n",
    "\n",
    "    # hidden layer 2\n",
    "    linear_combination3 = self.hidden_layer_2_to_hidden_layer_3(intermediate_relu2)\n",
    "    batch_n3 = self.bn3(linear_combination3)\n",
    "    intermediate_relu3 = self.relu3(batch_n3)\n",
    "\n",
    "    # hidden layer 3\n",
    "    linear_combination4 = self.hidden_layer_3_to_hidden_layer_4(intermediate_relu3)\n",
    "    batch_n4 = self.bn4(linear_combination4)\n",
    "    intermediate_relu4 = self.relu3(batch_n4)\n",
    "\n",
    "    # hidden layer 4\n",
    "    linear_combination5 = self.hidden_layer_4_to_hidden_layer_5(intermediate_relu4)\n",
    "    intermediate_relu5 = self.relu3(linear_combination5)\n",
    "\n",
    "    # hidden layer 5\n",
    "    linear_combination6 = self.hidden_layer_5_to_output_layer(intermediate_relu5)\n",
    "    out = self.activationf(linear_combination6)\n",
    "\n",
    "    return out"
   ]
  },
  {
   "attachments": {},
   "cell_type": "markdown",
   "metadata": {},
   "source": [
    "#### Entrenamiento"
   ]
  },
  {
   "cell_type": "code",
   "execution_count": 11,
   "metadata": {},
   "outputs": [],
   "source": [
    "irb120 = IK_IRB120().to(device)"
   ]
  },
  {
   "cell_type": "code",
   "execution_count": 29,
   "metadata": {},
   "outputs": [
    {
     "name": "stdout",
     "output_type": "stream",
     "text": [
      "IK_IRB120(\n",
      "  (input_layer_to_hidden_layer_1): Linear(in_features=3, out_features=16, bias=True)\n",
      "  (bn1): BatchNorm1d(16, eps=1e-05, momentum=0.1, affine=True, track_running_stats=True)\n",
      "  (relu1): ReLU()\n",
      "  (hidden_layer_1_to_hidden_layer_2): Linear(in_features=16, out_features=60, bias=True)\n",
      "  (bn2): BatchNorm1d(60, eps=1e-05, momentum=0.1, affine=True, track_running_stats=True)\n",
      "  (relu2): ReLU()\n",
      "  (hidden_layer_2_to_hidden_layer_3): Linear(in_features=60, out_features=100, bias=True)\n",
      "  (bn3): BatchNorm1d(100, eps=1e-05, momentum=0.1, affine=True, track_running_stats=True)\n",
      "  (relu3): ReLU()\n",
      "  (hidden_layer_3_to_hidden_layer_4): Linear(in_features=100, out_features=200, bias=True)\n",
      "  (bn4): BatchNorm1d(200, eps=1e-05, momentum=0.1, affine=True, track_running_stats=True)\n",
      "  (hidden_layer_4_to_hidden_layer_5): Linear(in_features=200, out_features=100, bias=True)\n",
      "  (hidden_layer_5_to_output_layer): Linear(in_features=100, out_features=6, bias=True)\n",
      "  (activationf): Identity()\n",
      ")\n"
     ]
    }
   ],
   "source": [
    "print(irb120)"
   ]
  },
  {
   "cell_type": "code",
   "execution_count": 12,
   "metadata": {},
   "outputs": [
    {
     "name": "stdout",
     "output_type": "stream",
     "text": [
      "Loss in Epoch 0: 1.3309848308563232\n",
      "Loss in Epoch 100: 0.8636678457260132\n",
      "Loss in Epoch 200: 0.8524742126464844\n",
      "Loss in Epoch 300: 0.84409499168396\n",
      "Loss in Epoch 400: 0.8366373777389526\n"
     ]
    }
   ],
   "source": [
    "epochs = 500\n",
    "optimizer = torch.optim.Adam(irb120.parameters(), lr = 0.001)\n",
    "loss_function = torch.nn.MSELoss()\n",
    "\n",
    "losses = []\n",
    "for epoch in range(epochs):\n",
    "  mini_batch_losses = []\n",
    "  for i, (features, labels) in enumerate(loader):\n",
    "   \n",
    "    Y_prediction = irb120.forward(features)\n",
    "\n",
    "    loss = loss_function(Y_prediction, labels) \n",
    "\n",
    "    irb120.zero_grad()\n",
    "\n",
    "    loss.backward()\n",
    "\n",
    "    optimizer.step()\n",
    "\n",
    "    # keep track of losses\n",
    "    mini_batch_losses.append(loss.detach().cpu().numpy()) # we can only execute numpy code on the cpu\n",
    "\n",
    "  mini_batch_mean_loss = np.mean(mini_batch_losses)\n",
    "  losses.append(mini_batch_mean_loss)\n",
    "  if epoch % 100 == 0:\n",
    "    print(f\"Loss in Epoch {epoch}: {np.mean(losses)}\")"
   ]
  },
  {
   "cell_type": "code",
   "execution_count": 13,
   "metadata": {},
   "outputs": [
    {
     "data": {
      "image/png": "[encoded data removed]",
      "text/plain": [
       "<Figure size 640x480 with 1 Axes>"
      ]
     },
     "metadata": {},
     "output_type": "display_data"
    }
   ],
   "source": [
    "plt.plot(losses)\n",
    "plt.xlabel('epochs')\n",
    "plt.ylabel('MSE')\n",
    "plt.title('Variation of MSE')\n",
    "plt.show()"
   ]
  },
  {
   "attachments": {},
   "cell_type": "markdown",
   "metadata": {},
   "source": [
    "#### Test"
   ]
  },
  {
   "cell_type": "code",
   "execution_count": 14,
   "metadata": {},
   "outputs": [],
   "source": [
    "y_test_predictions = irb120.forward(X_test)"
   ]
  },
  {
   "cell_type": "code",
   "execution_count": 15,
   "metadata": {},
   "outputs": [
    {
     "data": {
      "text/plain": [
       "0.9264514"
      ]
     },
     "execution_count": 15,
     "metadata": {},
     "output_type": "execute_result"
    }
   ],
   "source": [
    "metrics.mean_squared_error(y_test.detach().cpu().numpy(), y_test_predictions.detach().cpu().numpy())"
   ]
  },
  {
   "cell_type": "code",
   "execution_count": 16,
   "metadata": {},
   "outputs": [
    {
     "data": {
      "text/plain": [
       "0.6236167"
      ]
     },
     "execution_count": 16,
     "metadata": {},
     "output_type": "execute_result"
    }
   ],
   "source": [
    "metrics.mean_absolute_error(y_test.detach().cpu().numpy(), y_test_predictions.detach().cpu().numpy())"
   ]
  },
  {
   "cell_type": "code",
   "execution_count": 17,
   "metadata": {},
   "outputs": [
    {
     "data": {
      "text/plain": [
       "0.4202655373625616"
      ]
     },
     "execution_count": 17,
     "metadata": {},
     "output_type": "execute_result"
    }
   ],
   "source": [
    "metrics.r2_score(y_test.detach().cpu().numpy(), y_test_predictions.detach().cpu().numpy())"
   ]
  },
  {
   "cell_type": "code",
   "execution_count": 76,
   "metadata": {},
   "outputs": [
    {
     "data": {
      "text/plain": [
       "torch.Size([10000, 3])"
      ]
     },
     "execution_count": 76,
     "metadata": {},
     "output_type": "execute_result"
    }
   ],
   "source": [
    "X_test.shape"
   ]
  },
  {
   "cell_type": "code",
   "execution_count": 102,
   "metadata": {},
   "outputs": [
    {
     "data": {
      "text/plain": [
       "tensor([[ 0.8869, -0.4880,  0.3405,  0.0355,  0.1483,  0.1662],\n",
       "        [ 0.8869, -0.4880,  0.3405,  0.0355,  0.1483,  0.1662]],\n",
       "       grad_fn=<AddmmBackward0>)"
      ]
     },
     "execution_count": 102,
     "metadata": {},
     "output_type": "execute_result"
    }
   ],
   "source": [
    "xd = torch.tensor([[-0.01303, 0.09884, 0.1727],[-0.01303, 0.09884, 0.1727]])\n",
    "pp = irb120.forward(xd)\n",
    "pp"
   ]
  },
  {
   "cell_type": "code",
   "execution_count": 92,
   "metadata": {},
   "outputs": [
    {
     "data": {
      "text/plain": [
       "array([ 0.20298198, -0.52858156,  0.38583338, -0.01641543,  0.18788901,\n",
       "       -0.09114856], dtype=float32)"
      ]
     },
     "execution_count": 92,
     "metadata": {},
     "output_type": "execute_result"
    }
   ],
   "source": [
    "pp.detach().cpu().numpy()[0]"
   ]
  },
  {
   "cell_type": "code",
   "execution_count": 103,
   "metadata": {},
   "outputs": [
    {
     "data": {
      "text/plain": [
       "  \u001b[38;5;1m 0.1561  \u001b[0m \u001b[38;5;1m 0.7626  \u001b[0m \u001b[38;5;1m 0.6277  \u001b[0m \u001b[38;5;4m 0.1474  \u001b[0m  \u001b[0m\n",
       "  \u001b[38;5;1m-0.125   \u001b[0m \u001b[38;5;1m-0.6152  \u001b[0m \u001b[38;5;1m 0.7784  \u001b[0m \u001b[38;5;4m 0.1815  \u001b[0m  \u001b[0m\n",
       "  \u001b[38;5;1m 0.9798  \u001b[0m \u001b[38;5;1m-0.2     \u001b[0m \u001b[38;5;1m-0.000688\u001b[0m \u001b[38;5;4m 0.6421  \u001b[0m  \u001b[0m\n",
       "  \u001b[38;5;244m 0       \u001b[0m \u001b[38;5;244m 0       \u001b[0m \u001b[38;5;244m 0       \u001b[0m \u001b[38;5;244m 1       \u001b[0m  \u001b[0m\n"
      ]
     },
     "execution_count": 103,
     "metadata": {},
     "output_type": "execute_result"
    }
   ],
   "source": [
    "robot.fkine(pp.detach().cpu().numpy()[0])"
   ]
  },
  {
   "cell_type": "code",
   "execution_count": 142,
   "metadata": {},
   "outputs": [
    {
     "data": {
      "text/plain": [
       "  \u001b[38;5;1m 0.3252  \u001b[0m \u001b[38;5;1m 0.8541  \u001b[0m \u001b[38;5;1m 0.406   \u001b[0m \u001b[38;5;4m-0.01303 \u001b[0m  \u001b[0m\n",
       "  \u001b[38;5;1m 0.8347  \u001b[0m \u001b[38;5;1m-0.461   \u001b[0m \u001b[38;5;1m 0.3012  \u001b[0m \u001b[38;5;4m 0.09884 \u001b[0m  \u001b[0m\n",
       "  \u001b[38;5;1m 0.4444  \u001b[0m \u001b[38;5;1m 0.2409  \u001b[0m \u001b[38;5;1m-0.8628  \u001b[0m \u001b[38;5;4m 0.1727  \u001b[0m  \u001b[0m\n",
       "  \u001b[38;5;244m 0       \u001b[0m \u001b[38;5;244m 0       \u001b[0m \u001b[38;5;244m 0       \u001b[0m \u001b[38;5;244m 1       \u001b[0m  \u001b[0m\n"
      ]
     },
     "execution_count": 142,
     "metadata": {},
     "output_type": "execute_result"
    }
   ],
   "source": [
    "tt = robot.fkine([2.0719,\t0.3370,\t1.4658,\t1.0830,\t-0.6027,\t-0.0833])\n",
    "tt"
   ]
  },
  {
   "attachments": {},
   "cell_type": "markdown",
   "metadata": {},
   "source": [
    "#### TensorFlow"
   ]
  },
  {
   "cell_type": "code",
   "execution_count": 5,
   "metadata": {},
   "outputs": [],
   "source": [
    "import tensorflow as tf"
   ]
  },
  {
   "cell_type": "code",
   "execution_count": 4,
   "metadata": {},
   "outputs": [
    {
     "data": {
      "text/html": [
       "<div>\n",
       "<style scoped>\n",
       "    .dataframe tbody tr th:only-of-type {\n",
       "        vertical-align: middle;\n",
       "    }\n",
       "\n",
       "    .dataframe tbody tr th {\n",
       "        vertical-align: top;\n",
       "    }\n",
       "\n",
       "    .dataframe thead th {\n",
       "        text-align: right;\n",
       "    }\n",
       "</style>\n",
       "<table border=\"1\" class=\"dataframe\">\n",
       "  <thead>\n",
       "    <tr style=\"text-align: right;\">\n",
       "      <th></th>\n",
       "      <th>Q1</th>\n",
       "      <th>Q2</th>\n",
       "      <th>Q3</th>\n",
       "      <th>Q4</th>\n",
       "      <th>Q5</th>\n",
       "      <th>Q6</th>\n",
       "      <th>Roll</th>\n",
       "      <th>Pitch</th>\n",
       "      <th>Yaw</th>\n",
       "      <th>X</th>\n",
       "      <th>Y</th>\n",
       "      <th>Z</th>\n",
       "    </tr>\n",
       "  </thead>\n",
       "  <tbody>\n",
       "    <tr>\n",
       "      <th>0</th>\n",
       "      <td>0.2761</td>\n",
       "      <td>0.6721</td>\n",
       "      <td>-0.4352</td>\n",
       "      <td>-0.1295</td>\n",
       "      <td>0.0584</td>\n",
       "      <td>-1.6458</td>\n",
       "      <td>1.871628</td>\n",
       "      <td>0.197542</td>\n",
       "      <td>0.14859</td>\n",
       "      <td>0.52643</td>\n",
       "      <td>0.14859</td>\n",
       "      <td>0.47753</td>\n",
       "    </tr>\n",
       "    <tr>\n",
       "      <th>1</th>\n",
       "      <td>1.7708</td>\n",
       "      <td>1.1330</td>\n",
       "      <td>-0.7564</td>\n",
       "      <td>-1.0195</td>\n",
       "      <td>-0.6086</td>\n",
       "      <td>2.4487</td>\n",
       "      <td>-1.594067</td>\n",
       "      <td>-0.036760</td>\n",
       "      <td>0.59477</td>\n",
       "      <td>-0.15635</td>\n",
       "      <td>0.59477</td>\n",
       "      <td>0.35682</td>\n",
       "    </tr>\n",
       "    <tr>\n",
       "      <th>2</th>\n",
       "      <td>1.7675</td>\n",
       "      <td>1.4063</td>\n",
       "      <td>1.1626</td>\n",
       "      <td>-0.3012</td>\n",
       "      <td>-1.3534</td>\n",
       "      <td>-2.4581</td>\n",
       "      <td>2.706901</td>\n",
       "      <td>0.118880</td>\n",
       "      <td>0.06831</td>\n",
       "      <td>-0.03488</td>\n",
       "      <td>0.06831</td>\n",
       "      <td>0.04689</td>\n",
       "    </tr>\n",
       "    <tr>\n",
       "      <th>3</th>\n",
       "      <td>0.0402</td>\n",
       "      <td>0.8588</td>\n",
       "      <td>0.8957</td>\n",
       "      <td>-0.0314</td>\n",
       "      <td>-0.6632</td>\n",
       "      <td>-1.9252</td>\n",
       "      <td>2.685973</td>\n",
       "      <td>0.155367</td>\n",
       "      <td>0.01149</td>\n",
       "      <td>0.25100</td>\n",
       "      <td>0.01149</td>\n",
       "      <td>0.09282</td>\n",
       "    </tr>\n",
       "    <tr>\n",
       "      <th>4</th>\n",
       "      <td>2.7801</td>\n",
       "      <td>-1.4877</td>\n",
       "      <td>0.0104</td>\n",
       "      <td>-0.7476</td>\n",
       "      <td>0.3315</td>\n",
       "      <td>2.2397</td>\n",
       "      <td>-0.358464</td>\n",
       "      <td>0.192481</td>\n",
       "      <td>-0.08664</td>\n",
       "      <td>0.27418</td>\n",
       "      <td>-0.08664</td>\n",
       "      <td>0.68580</td>\n",
       "    </tr>\n",
       "  </tbody>\n",
       "</table>\n",
       "</div>"
      ],
      "text/plain": [
       "       Q1      Q2      Q3      Q4      Q5      Q6      Roll     Pitch   \n",
       "0  0.2761  0.6721 -0.4352 -0.1295  0.0584 -1.6458  1.871628  0.197542  \\\n",
       "1  1.7708  1.1330 -0.7564 -1.0195 -0.6086  2.4487 -1.594067 -0.036760   \n",
       "2  1.7675  1.4063  1.1626 -0.3012 -1.3534 -2.4581  2.706901  0.118880   \n",
       "3  0.0402  0.8588  0.8957 -0.0314 -0.6632 -1.9252  2.685973  0.155367   \n",
       "4  2.7801 -1.4877  0.0104 -0.7476  0.3315  2.2397 -0.358464  0.192481   \n",
       "\n",
       "       Yaw        X        Y        Z  \n",
       "0  0.14859  0.52643  0.14859  0.47753  \n",
       "1  0.59477 -0.15635  0.59477  0.35682  \n",
       "2  0.06831 -0.03488  0.06831  0.04689  \n",
       "3  0.01149  0.25100  0.01149  0.09282  \n",
       "4 -0.08664  0.27418 -0.08664  0.68580  "
      ]
     },
     "execution_count": 4,
     "metadata": {},
     "output_type": "execute_result"
    }
   ],
   "source": [
    "datarp = pd.read_csv('datos_IRB120rpy.csv')\n",
    "datarp.head()"
   ]
  },
  {
   "cell_type": "code",
   "execution_count": null,
   "metadata": {},
   "outputs": [],
   "source": []
  },
  {
   "cell_type": "code",
   "execution_count": 6,
   "metadata": {},
   "outputs": [
    {
     "ename": "NameError",
     "evalue": "name 'tt' is not defined",
     "output_type": "error",
     "traceback": [
      "\u001b[0;31m---------------------------------------------------------------------------\u001b[0m",
      "\u001b[0;31mNameError\u001b[0m                                 Traceback (most recent call last)",
      "Cell \u001b[0;32mIn[6], line 5\u001b[0m\n\u001b[1;32m      3\u001b[0m T \u001b[39m=\u001b[39m rpy2tr(\u001b[39m2.8693025426723797\u001b[39m, \u001b[39m-\u001b[39m\u001b[39m0.4605050302546952\u001b[39m, \u001b[39m1.1993012554645106\u001b[39m)\n\u001b[1;32m      4\u001b[0m T\n\u001b[0;32m----> 5\u001b[0m r,p,y \u001b[39m=\u001b[39m tr2rpy(np\u001b[39m.\u001b[39marray(tt))\n\u001b[1;32m      6\u001b[0m \u001b[39mprint\u001b[39m(r,p,y)\n\u001b[1;32m      7\u001b[0m \u001b[39mprint\u001b[39m(T)\n",
      "\u001b[0;31mNameError\u001b[0m: name 'tt' is not defined"
     ]
    }
   ],
   "source": [
    "from spatialmath.base import *\n",
    "\n",
    "T = rpy2tr(2.8693025426723797, -0.4605050302546952, 1.1993012554645106)\n",
    "T\n",
    "r,p,y = tr2rpy(np.array(tt))\n",
    "print(r,p,y)\n",
    "print(T)\n"
   ]
  },
  {
   "cell_type": "code",
   "execution_count": 7,
   "metadata": {},
   "outputs": [
    {
     "data": {
      "text/plain": [
       "(100000, 12)"
      ]
     },
     "execution_count": 7,
     "metadata": {},
     "output_type": "execute_result"
    }
   ],
   "source": [
    "datarp.shape"
   ]
  },
  {
   "cell_type": "code",
   "execution_count": 32,
   "metadata": {},
   "outputs": [],
   "source": [
    "X = data.loc[:, ['Roll', 'Pitch', 'Yaw', 'X', 'Y', 'Z']]\n",
    "y = data.loc[:,['Q1', 'Q2', 'Q3', 'Q4', 'Q5', 'Q6']]"
   ]
  },
  {
   "cell_type": "code",
   "execution_count": null,
   "metadata": {},
   "outputs": [],
   "source": []
  },
  {
   "cell_type": "code",
   "execution_count": 33,
   "metadata": {},
   "outputs": [],
   "source": [
    "# Supongamos que tus datos de entrada son `X` y tus etiquetas son `y`\n",
    "\n",
    "\n",
    "X_train, X_test, y_train, y_test = train_test_split(X, y, test_size=0.2, random_state=42)"
   ]
  },
  {
   "cell_type": "code",
   "execution_count": 34,
   "metadata": {},
   "outputs": [],
   "source": [
    "\n",
    "# Definición de las entradas\n",
    "input_rp = tf.keras.layers.Input(shape=(3,), name='input_rp')\n",
    "input_xyz = tf.keras.layers.Input(shape=(3,), name='input_xyz')\n",
    "\n",
    "# Capas ocultas\n",
    "dense_rp1 = tf.keras.layers.Dense(128, activation=tf.keras.layers.ELU(alpha=0.01), name='dense_rp1')(input_rp)\n",
    "dense_rp1 = tf.keras.layers.Dropout(0.2)(dense_rp1) # Capa de dropout para input_rp\n",
    "dense_rp2 = tf.keras.layers.Dense(256, activation=tf.keras.layers.ELU(alpha=0.01), name='dense_rp2')(dense_rp1)\n",
    "dense_rp2 = tf.keras.layers.Dropout(0.2)(dense_rp2) # Capa de dropout para input_rp\n",
    "dense_rp3 = tf.keras.layers.Dense(512, activation=tf.keras.layers.ELU(alpha=0.01), name='dense_rp3')(dense_rp2)\n",
    "dense_rp3 = tf.keras.layers.Dropout(0.2)(dense_rp3) # Capa de dropout para input_rp\n",
    "\n",
    "dense_xyz1 = tf.keras.layers.Dense(128, activation=tf.keras.layers.ELU(alpha=0.01), name='dense_xyz1')(input_xyz)\n",
    "dense_xyz1 = tf.keras.layers.Dropout(0.2)(dense_xyz1) # Capa de dropout para input_xyz\n",
    "dense_xyz2 = tf.keras.layers.Dense(256, activation=tf.keras.layers.ELU(alpha=0.01), name='dense_xyz2')(dense_xyz1)\n",
    "dense_xyz2 = tf.keras.layers.Dropout(0.2)(dense_xyz2) # Capa de dropout para input_xyz\n",
    "dense_xyz3 = tf.keras.layers.Dense(512, activation=tf.keras.layers.ELU(alpha=0.01), name='dense_xyz3')(dense_xyz2)\n",
    "dense_xyz3 = tf.keras.layers.Dropout(0.2)(dense_xyz3) # Capa de dropout para input_xyz\n",
    "\n",
    "# Concatenación de las capas ocultas\n",
    "concat = tf.keras.layers.Concatenate(name='concat')([dense_rp2, dense_xyz2])\n",
    "\n",
    "# Capa de salida\n",
    "output = tf.keras.layers.Dense(6, activation='linear', name='output')(concat)\n",
    "\n",
    "# Definición del modelo\n",
    "model = tf.keras.models.Model(inputs=[input_rp, input_xyz], outputs=output)\n",
    "\n",
    "model.compile(loss='mse', optimizer=tf.keras.optimizers.Adam(learning_rate=0.001), metrics=['mse', 'accuracy'])\n"
   ]
  },
  {
   "cell_type": "code",
   "execution_count": 140,
   "metadata": {},
   "outputs": [
    {
     "data": {
      "text/plain": [
       "(20000, 6)"
      ]
     },
     "execution_count": 140,
     "metadata": {},
     "output_type": "execute_result"
    }
   ],
   "source": [
    "X_test.shape"
   ]
  },
  {
   "cell_type": "code",
   "execution_count": 92,
   "metadata": {},
   "outputs": [
    {
     "name": "stdout",
     "output_type": "stream",
     "text": [
      "Epoch 1/10\n",
      "500/500 [==============================] - 2s 4ms/step - loss: 1.6685 - mse: 1.6685 - accuracy: 0.7523 - val_loss: 1.6553 - val_mse: 1.6553 - val_accuracy: 0.7611\n",
      "Epoch 2/10\n",
      "500/500 [==============================] - 2s 3ms/step - loss: 1.6679 - mse: 1.6679 - accuracy: 0.7523 - val_loss: 1.6557 - val_mse: 1.6557 - val_accuracy: 0.7611\n",
      "Epoch 3/10\n",
      "500/500 [==============================] - 2s 3ms/step - loss: 1.6678 - mse: 1.6678 - accuracy: 0.7521 - val_loss: 1.6567 - val_mse: 1.6567 - val_accuracy: 0.7612\n",
      "Epoch 4/10\n",
      "500/500 [==============================] - 2s 3ms/step - loss: 1.6672 - mse: 1.6672 - accuracy: 0.7523 - val_loss: 1.6544 - val_mse: 1.6544 - val_accuracy: 0.7612\n",
      "Epoch 5/10\n",
      "500/500 [==============================] - 2s 4ms/step - loss: 1.6667 - mse: 1.6667 - accuracy: 0.7521 - val_loss: 1.6543 - val_mse: 1.6543 - val_accuracy: 0.7613\n",
      "Epoch 6/10\n",
      "500/500 [==============================] - 2s 3ms/step - loss: 1.6659 - mse: 1.6659 - accuracy: 0.7522 - val_loss: 1.6558 - val_mse: 1.6558 - val_accuracy: 0.7612\n",
      "Epoch 7/10\n",
      "500/500 [==============================] - 2s 3ms/step - loss: 1.6659 - mse: 1.6659 - accuracy: 0.7522 - val_loss: 1.6588 - val_mse: 1.6588 - val_accuracy: 0.7612\n",
      "Epoch 8/10\n",
      "500/500 [==============================] - 2s 3ms/step - loss: 1.6655 - mse: 1.6655 - accuracy: 0.7523 - val_loss: 1.6566 - val_mse: 1.6566 - val_accuracy: 0.7612\n",
      "Epoch 9/10\n",
      "500/500 [==============================] - 2s 4ms/step - loss: 1.6654 - mse: 1.6654 - accuracy: 0.7522 - val_loss: 1.6556 - val_mse: 1.6556 - val_accuracy: 0.7612\n",
      "Epoch 10/10\n",
      "500/500 [==============================] - 2s 3ms/step - loss: 1.6653 - mse: 1.6653 - accuracy: 0.7520 - val_loss: 1.6571 - val_mse: 1.6571 - val_accuracy: 0.7612\n"
     ]
    },
    {
     "data": {
      "image/png": "[encoded data removed]",
      "text/plain": [
       "<Figure size 640x480 with 1 Axes>"
      ]
     },
     "metadata": {},
     "output_type": "display_data"
    }
   ],
   "source": [
    "checkpoint_callback = tf.keras.callbacks.ModelCheckpoint(filepath='weightsT1.h5',\n",
    "                                       monitor='val_loss', save_best_only=True)\n",
    "\n",
    "history = model.fit([X_train[['Roll', 'Pitch', 'Yaw']].values, X_train[['X', 'Y', 'Z']].values], y_train.values, batch_size=128,epochs=10, validation_split=0.2, callbacks=[checkpoint_callback])\n",
    "plt.plot(history.history['loss'], label='pérdida de entrenamiento')\n",
    "plt.plot(history.history['val_loss'], label='pérdida de validación')\n",
    "plt.xlabel('Número de épocas')\n",
    "plt.ylabel('Pérdida')\n",
    "plt.legend()\n",
    "plt.show()"
   ]
  },
  {
   "cell_type": "code",
   "execution_count": 99,
   "metadata": {},
   "outputs": [
    {
     "name": "stdout",
     "output_type": "stream",
     "text": [
      "625/625 [==============================] - 1s 2ms/step - loss: 1.6491 - mse: 1.6491 - accuracy: 0.7510\n"
     ]
    },
    {
     "data": {
      "text/plain": [
       "[1.6491187810897827, 1.6491187810897827, 0.7509999871253967]"
      ]
     },
     "execution_count": 99,
     "metadata": {},
     "output_type": "execute_result"
    }
   ],
   "source": [
    "model.evaluate([X_test[['Roll', 'Pitch', 'Yaw']].values, X_test[['X', 'Y', 'Z']].values], y_test.values)"
   ]
  },
  {
   "cell_type": "code",
   "execution_count": 64,
   "metadata": {},
   "outputs": [
    {
     "data": {
      "text/html": [
       "<div>\n",
       "<style scoped>\n",
       "    .dataframe tbody tr th:only-of-type {\n",
       "        vertical-align: middle;\n",
       "    }\n",
       "\n",
       "    .dataframe tbody tr th {\n",
       "        vertical-align: top;\n",
       "    }\n",
       "\n",
       "    .dataframe thead th {\n",
       "        text-align: right;\n",
       "    }\n",
       "</style>\n",
       "<table border=\"1\" class=\"dataframe\">\n",
       "  <thead>\n",
       "    <tr style=\"text-align: right;\">\n",
       "      <th></th>\n",
       "      <th>Q1</th>\n",
       "      <th>Q2</th>\n",
       "      <th>Q3</th>\n",
       "      <th>Q4</th>\n",
       "      <th>Q5</th>\n",
       "      <th>Q6</th>\n",
       "      <th>Roll</th>\n",
       "      <th>Pitch</th>\n",
       "      <th>Yaw</th>\n",
       "      <th>X</th>\n",
       "      <th>Y</th>\n",
       "      <th>Z</th>\n",
       "    </tr>\n",
       "  </thead>\n",
       "  <tbody>\n",
       "    <tr>\n",
       "      <th>0</th>\n",
       "      <td>-1.2725</td>\n",
       "      <td>0.1765</td>\n",
       "      <td>-0.2675</td>\n",
       "      <td>1.2871</td>\n",
       "      <td>1.7241</td>\n",
       "      <td>1.7746</td>\n",
       "      <td>2.670896</td>\n",
       "      <td>1.240142</td>\n",
       "      <td>3.079316</td>\n",
       "      <td>0.16306</td>\n",
       "      <td>-0.29789</td>\n",
       "      <td>0.63213</td>\n",
       "    </tr>\n",
       "    <tr>\n",
       "      <th>1</th>\n",
       "      <td>2.1500</td>\n",
       "      <td>-0.3738</td>\n",
       "      <td>0.5203</td>\n",
       "      <td>-0.9932</td>\n",
       "      <td>-0.1559</td>\n",
       "      <td>0.3500</td>\n",
       "      <td>1.673083</td>\n",
       "      <td>-0.938626</td>\n",
       "      <td>-2.514319</td>\n",
       "      <td>-0.16200</td>\n",
       "      <td>0.23058</td>\n",
       "      <td>0.56218</td>\n",
       "    </tr>\n",
       "    <tr>\n",
       "      <th>2</th>\n",
       "      <td>2.4630</td>\n",
       "      <td>0.0588</td>\n",
       "      <td>0.1829</td>\n",
       "      <td>2.5025</td>\n",
       "      <td>0.8853</td>\n",
       "      <td>1.4526</td>\n",
       "      <td>0.929903</td>\n",
       "      <td>0.714333</td>\n",
       "      <td>-2.159952</td>\n",
       "      <td>-0.31731</td>\n",
       "      <td>0.21315</td>\n",
       "      <td>0.58774</td>\n",
       "    </tr>\n",
       "    <tr>\n",
       "      <th>3</th>\n",
       "      <td>-0.2220</td>\n",
       "      <td>-1.2199</td>\n",
       "      <td>0.8517</td>\n",
       "      <td>1.3264</td>\n",
       "      <td>-0.6319</td>\n",
       "      <td>4.3036</td>\n",
       "      <td>0.664402</td>\n",
       "      <td>-1.002397</td>\n",
       "      <td>1.485717</td>\n",
       "      <td>0.04312</td>\n",
       "      <td>-0.05204</td>\n",
       "      <td>0.58733</td>\n",
       "    </tr>\n",
       "    <tr>\n",
       "      <th>4</th>\n",
       "      <td>-2.8115</td>\n",
       "      <td>-0.5678</td>\n",
       "      <td>0.7310</td>\n",
       "      <td>0.8337</td>\n",
       "      <td>1.6392</td>\n",
       "      <td>5.3698</td>\n",
       "      <td>-2.387837</td>\n",
       "      <td>-0.468515</td>\n",
       "      <td>-2.128698</td>\n",
       "      <td>-0.12604</td>\n",
       "      <td>-0.09941</td>\n",
       "      <td>0.49080</td>\n",
       "    </tr>\n",
       "  </tbody>\n",
       "</table>\n",
       "</div>"
      ],
      "text/plain": [
       "       Q1      Q2      Q3      Q4      Q5      Q6      Roll     Pitch   \n",
       "0 -1.2725  0.1765 -0.2675  1.2871  1.7241  1.7746  2.670896  1.240142  \\\n",
       "1  2.1500 -0.3738  0.5203 -0.9932 -0.1559  0.3500  1.673083 -0.938626   \n",
       "2  2.4630  0.0588  0.1829  2.5025  0.8853  1.4526  0.929903  0.714333   \n",
       "3 -0.2220 -1.2199  0.8517  1.3264 -0.6319  4.3036  0.664402 -1.002397   \n",
       "4 -2.8115 -0.5678  0.7310  0.8337  1.6392  5.3698 -2.387837 -0.468515   \n",
       "\n",
       "        Yaw        X        Y        Z  \n",
       "0  3.079316  0.16306 -0.29789  0.63213  \n",
       "1 -2.514319 -0.16200  0.23058  0.56218  \n",
       "2 -2.159952 -0.31731  0.21315  0.58774  \n",
       "3  1.485717  0.04312 -0.05204  0.58733  \n",
       "4 -2.128698 -0.12604 -0.09941  0.49080  "
      ]
     },
     "execution_count": 64,
     "metadata": {},
     "output_type": "execute_result"
    }
   ],
   "source": [
    "data.head()"
   ]
  },
  {
   "cell_type": "code",
   "execution_count": 74,
   "metadata": {},
   "outputs": [],
   "source": [
    "model.save('modelT3.h5')"
   ]
  },
  {
   "cell_type": "code",
   "execution_count": 9,
   "metadata": {},
   "outputs": [],
   "source": [
    "model = tf.keras.models.load_model('modelT3.h5')"
   ]
  },
  {
   "cell_type": "code",
   "execution_count": 100,
   "metadata": {},
   "outputs": [
    {
     "data": {
      "text/plain": [
       "(2, 20000, 3)"
      ]
     },
     "execution_count": 100,
     "metadata": {},
     "output_type": "execute_result"
    }
   ],
   "source": [
    "Xtt = np.array([X_test[['Roll', 'Pitch', 'Yaw']].values, X_test[['X', 'Y', 'Z']].values])\n",
    "Xtt.shape"
   ]
  },
  {
   "cell_type": "code",
   "execution_count": 96,
   "metadata": {},
   "outputs": [
    {
     "data": {
      "text/plain": [
       "array([-2.819115  ,  1.02517465,  2.65695258])"
      ]
     },
     "execution_count": 96,
     "metadata": {},
     "output_type": "execute_result"
    }
   ],
   "source": [
    "Xtt[0]"
   ]
  },
  {
   "cell_type": "code",
   "execution_count": 79,
   "metadata": {},
   "outputs": [
    {
     "data": {
      "text/html": [
       "<div>\n",
       "<style scoped>\n",
       "    .dataframe tbody tr th:only-of-type {\n",
       "        vertical-align: middle;\n",
       "    }\n",
       "\n",
       "    .dataframe tbody tr th {\n",
       "        vertical-align: top;\n",
       "    }\n",
       "\n",
       "    .dataframe thead th {\n",
       "        text-align: right;\n",
       "    }\n",
       "</style>\n",
       "<table border=\"1\" class=\"dataframe\">\n",
       "  <thead>\n",
       "    <tr style=\"text-align: right;\">\n",
       "      <th></th>\n",
       "      <th>Roll</th>\n",
       "      <th>Pitch</th>\n",
       "      <th>Yaw</th>\n",
       "      <th>X</th>\n",
       "      <th>Y</th>\n",
       "      <th>Z</th>\n",
       "    </tr>\n",
       "  </thead>\n",
       "  <tbody>\n",
       "    <tr>\n",
       "      <th>75721</th>\n",
       "      <td>-2.819115</td>\n",
       "      <td>1.025175</td>\n",
       "      <td>2.656953</td>\n",
       "      <td>-0.06460</td>\n",
       "      <td>-0.23208</td>\n",
       "      <td>0.30589</td>\n",
       "    </tr>\n",
       "    <tr>\n",
       "      <th>80184</th>\n",
       "      <td>-0.931517</td>\n",
       "      <td>0.391443</td>\n",
       "      <td>-2.131935</td>\n",
       "      <td>0.07944</td>\n",
       "      <td>0.04488</td>\n",
       "      <td>0.68195</td>\n",
       "    </tr>\n",
       "    <tr>\n",
       "      <th>19864</th>\n",
       "      <td>-2.183693</td>\n",
       "      <td>0.172945</td>\n",
       "      <td>1.014335</td>\n",
       "      <td>0.24132</td>\n",
       "      <td>0.45144</td>\n",
       "      <td>0.07288</td>\n",
       "    </tr>\n",
       "    <tr>\n",
       "      <th>76699</th>\n",
       "      <td>-0.132965</td>\n",
       "      <td>-1.209336</td>\n",
       "      <td>-1.333357</td>\n",
       "      <td>0.50896</td>\n",
       "      <td>-0.06338</td>\n",
       "      <td>0.34387</td>\n",
       "    </tr>\n",
       "    <tr>\n",
       "      <th>92991</th>\n",
       "      <td>-0.686641</td>\n",
       "      <td>0.267635</td>\n",
       "      <td>0.270429</td>\n",
       "      <td>0.50166</td>\n",
       "      <td>-0.15566</td>\n",
       "      <td>0.53924</td>\n",
       "    </tr>\n",
       "    <tr>\n",
       "      <th>...</th>\n",
       "      <td>...</td>\n",
       "      <td>...</td>\n",
       "      <td>...</td>\n",
       "      <td>...</td>\n",
       "      <td>...</td>\n",
       "      <td>...</td>\n",
       "    </tr>\n",
       "    <tr>\n",
       "      <th>32595</th>\n",
       "      <td>-2.142501</td>\n",
       "      <td>-0.520417</td>\n",
       "      <td>1.539000</td>\n",
       "      <td>0.10283</td>\n",
       "      <td>0.09732</td>\n",
       "      <td>0.47664</td>\n",
       "    </tr>\n",
       "    <tr>\n",
       "      <th>29313</th>\n",
       "      <td>-0.922177</td>\n",
       "      <td>0.482835</td>\n",
       "      <td>-0.589395</td>\n",
       "      <td>-0.30652</td>\n",
       "      <td>-0.09723</td>\n",
       "      <td>0.55050</td>\n",
       "    </tr>\n",
       "    <tr>\n",
       "      <th>37862</th>\n",
       "      <td>-0.673745</td>\n",
       "      <td>0.139645</td>\n",
       "      <td>3.050429</td>\n",
       "      <td>0.04161</td>\n",
       "      <td>-0.39027</td>\n",
       "      <td>0.80735</td>\n",
       "    </tr>\n",
       "    <tr>\n",
       "      <th>53421</th>\n",
       "      <td>2.391338</td>\n",
       "      <td>-0.384632</td>\n",
       "      <td>-2.139484</td>\n",
       "      <td>-0.28650</td>\n",
       "      <td>-0.09046</td>\n",
       "      <td>0.76129</td>\n",
       "    </tr>\n",
       "    <tr>\n",
       "      <th>42410</th>\n",
       "      <td>-0.893932</td>\n",
       "      <td>-0.059482</td>\n",
       "      <td>1.180514</td>\n",
       "      <td>-0.05005</td>\n",
       "      <td>0.00023</td>\n",
       "      <td>0.80319</td>\n",
       "    </tr>\n",
       "  </tbody>\n",
       "</table>\n",
       "<p>20000 rows × 6 columns</p>\n",
       "</div>"
      ],
      "text/plain": [
       "           Roll     Pitch       Yaw        X        Y        Z\n",
       "75721 -2.819115  1.025175  2.656953 -0.06460 -0.23208  0.30589\n",
       "80184 -0.931517  0.391443 -2.131935  0.07944  0.04488  0.68195\n",
       "19864 -2.183693  0.172945  1.014335  0.24132  0.45144  0.07288\n",
       "76699 -0.132965 -1.209336 -1.333357  0.50896 -0.06338  0.34387\n",
       "92991 -0.686641  0.267635  0.270429  0.50166 -0.15566  0.53924\n",
       "...         ...       ...       ...      ...      ...      ...\n",
       "32595 -2.142501 -0.520417  1.539000  0.10283  0.09732  0.47664\n",
       "29313 -0.922177  0.482835 -0.589395 -0.30652 -0.09723  0.55050\n",
       "37862 -0.673745  0.139645  3.050429  0.04161 -0.39027  0.80735\n",
       "53421  2.391338 -0.384632 -2.139484 -0.28650 -0.09046  0.76129\n",
       "42410 -0.893932 -0.059482  1.180514 -0.05005  0.00023  0.80319\n",
       "\n",
       "[20000 rows x 6 columns]"
      ]
     },
     "execution_count": 79,
     "metadata": {},
     "output_type": "execute_result"
    }
   ],
   "source": [
    "X_test"
   ]
  },
  {
   "cell_type": "code",
   "execution_count": 85,
   "metadata": {},
   "outputs": [
    {
     "data": {
      "text/plain": [
       "(2, 2, 3)"
      ]
     },
     "execution_count": 85,
     "metadata": {},
     "output_type": "execute_result"
    }
   ],
   "source": [
    "xp = np.array([[[-2.819115,\t1.025175,\t2.656953],[-2.819115,\t1.025175,\t2.656953]],[[-0.06460,\t-0.23208,\t0.30589],[-0.06460,\t-0.23208,\t0.30589]]])\n",
    "xp.shape"
   ]
  },
  {
   "cell_type": "code",
   "execution_count": 102,
   "metadata": {},
   "outputs": [
    {
     "name": "stdout",
     "output_type": "stream",
     "text": [
      "625/625 [==============================] - 1s 1ms/step\n"
     ]
    }
   ],
   "source": [
    "y_pred = model.predict([X_test[['Roll', 'Pitch', 'Yaw']].values, X_test[['X', 'Y', 'Z']].values])"
   ]
  },
  {
   "cell_type": "code",
   "execution_count": 26,
   "metadata": {},
   "outputs": [
    {
     "data": {
      "text/html": [
       "<div>\n",
       "<style scoped>\n",
       "    .dataframe tbody tr th:only-of-type {\n",
       "        vertical-align: middle;\n",
       "    }\n",
       "\n",
       "    .dataframe tbody tr th {\n",
       "        vertical-align: top;\n",
       "    }\n",
       "\n",
       "    .dataframe thead th {\n",
       "        text-align: right;\n",
       "    }\n",
       "</style>\n",
       "<table border=\"1\" class=\"dataframe\">\n",
       "  <thead>\n",
       "    <tr style=\"text-align: right;\">\n",
       "      <th></th>\n",
       "      <th>Q1</th>\n",
       "      <th>Q2</th>\n",
       "      <th>Q3</th>\n",
       "      <th>Q4</th>\n",
       "      <th>Q5</th>\n",
       "      <th>Q6</th>\n",
       "    </tr>\n",
       "  </thead>\n",
       "  <tbody>\n",
       "    <tr>\n",
       "      <th>75721</th>\n",
       "      <td>-2.0903</td>\n",
       "      <td>-0.0262</td>\n",
       "      <td>1.0365</td>\n",
       "      <td>1.5497</td>\n",
       "      <td>0.9640</td>\n",
       "      <td>0.4667</td>\n",
       "    </tr>\n",
       "    <tr>\n",
       "      <th>80184</th>\n",
       "      <td>1.1576</td>\n",
       "      <td>-0.7065</td>\n",
       "      <td>0.4407</td>\n",
       "      <td>-2.2568</td>\n",
       "      <td>1.7584</td>\n",
       "      <td>3.1543</td>\n",
       "    </tr>\n",
       "    <tr>\n",
       "      <th>19864</th>\n",
       "      <td>0.9654</td>\n",
       "      <td>1.5383</td>\n",
       "      <td>-0.6707</td>\n",
       "      <td>1.0440</td>\n",
       "      <td>1.2213</td>\n",
       "      <td>5.6684</td>\n",
       "    </tr>\n",
       "    <tr>\n",
       "      <th>76699</th>\n",
       "      <td>-0.2480</td>\n",
       "      <td>1.0782</td>\n",
       "      <td>-0.5252</td>\n",
       "      <td>-1.4215</td>\n",
       "      <td>-2.0403</td>\n",
       "      <td>1.1664</td>\n",
       "    </tr>\n",
       "    <tr>\n",
       "      <th>92991</th>\n",
       "      <td>2.7547</td>\n",
       "      <td>-1.3790</td>\n",
       "      <td>-1.0515</td>\n",
       "      <td>-0.7217</td>\n",
       "      <td>1.2493</td>\n",
       "      <td>1.1288</td>\n",
       "    </tr>\n",
       "    <tr>\n",
       "      <th>...</th>\n",
       "      <td>...</td>\n",
       "      <td>...</td>\n",
       "      <td>...</td>\n",
       "      <td>...</td>\n",
       "      <td>...</td>\n",
       "      <td>...</td>\n",
       "    </tr>\n",
       "    <tr>\n",
       "      <th>32595</th>\n",
       "      <td>-2.7045</td>\n",
       "      <td>-1.8696</td>\n",
       "      <td>0.7823</td>\n",
       "      <td>2.4667</td>\n",
       "      <td>-1.6945</td>\n",
       "      <td>4.4494</td>\n",
       "    </tr>\n",
       "    <tr>\n",
       "      <th>29313</th>\n",
       "      <td>0.3600</td>\n",
       "      <td>-1.8136</td>\n",
       "      <td>0.0820</td>\n",
       "      <td>0.2601</td>\n",
       "      <td>1.1612</td>\n",
       "      <td>2.2014</td>\n",
       "    </tr>\n",
       "    <tr>\n",
       "      <th>37862</th>\n",
       "      <td>-1.4175</td>\n",
       "      <td>0.6928</td>\n",
       "      <td>-1.4246</td>\n",
       "      <td>0.9363</td>\n",
       "      <td>-0.3242</td>\n",
       "      <td>0.5515</td>\n",
       "    </tr>\n",
       "    <tr>\n",
       "      <th>53421</th>\n",
       "      <td>-2.7376</td>\n",
       "      <td>0.5099</td>\n",
       "      <td>-1.4441</td>\n",
       "      <td>2.7127</td>\n",
       "      <td>-1.7540</td>\n",
       "      <td>2.4496</td>\n",
       "    </tr>\n",
       "    <tr>\n",
       "      <th>42410</th>\n",
       "      <td>1.7237</td>\n",
       "      <td>-0.7228</td>\n",
       "      <td>-0.0789</td>\n",
       "      <td>1.8111</td>\n",
       "      <td>0.7851</td>\n",
       "      <td>0.4483</td>\n",
       "    </tr>\n",
       "  </tbody>\n",
       "</table>\n",
       "<p>20000 rows × 6 columns</p>\n",
       "</div>"
      ],
      "text/plain": [
       "           Q1      Q2      Q3      Q4      Q5      Q6\n",
       "75721 -2.0903 -0.0262  1.0365  1.5497  0.9640  0.4667\n",
       "80184  1.1576 -0.7065  0.4407 -2.2568  1.7584  3.1543\n",
       "19864  0.9654  1.5383 -0.6707  1.0440  1.2213  5.6684\n",
       "76699 -0.2480  1.0782 -0.5252 -1.4215 -2.0403  1.1664\n",
       "92991  2.7547 -1.3790 -1.0515 -0.7217  1.2493  1.1288\n",
       "...       ...     ...     ...     ...     ...     ...\n",
       "32595 -2.7045 -1.8696  0.7823  2.4667 -1.6945  4.4494\n",
       "29313  0.3600 -1.8136  0.0820  0.2601  1.1612  2.2014\n",
       "37862 -1.4175  0.6928 -1.4246  0.9363 -0.3242  0.5515\n",
       "53421 -2.7376  0.5099 -1.4441  2.7127 -1.7540  2.4496\n",
       "42410  1.7237 -0.7228 -0.0789  1.8111  0.7851  0.4483\n",
       "\n",
       "[20000 rows x 6 columns]"
      ]
     },
     "execution_count": 26,
     "metadata": {},
     "output_type": "execute_result"
    }
   ],
   "source": [
    "y_test"
   ]
  },
  {
   "cell_type": "code",
   "execution_count": 107,
   "metadata": {},
   "outputs": [
    {
     "data": {
      "text/plain": [
       "array([ 1.1576, -0.7065,  0.4407, -2.2568,  1.7584,  3.1543])"
      ]
     },
     "execution_count": 107,
     "metadata": {},
     "output_type": "execute_result"
    }
   ],
   "source": [
    "y_test.values[1]"
   ]
  },
  {
   "cell_type": "code",
   "execution_count": 108,
   "metadata": {},
   "outputs": [
    {
     "data": {
      "text/plain": [
       "array([-0.46708545, -1.0350844 ,  0.37998235, -0.0068084 , -0.06153574,\n",
       "        3.0367017 ], dtype=float32)"
      ]
     },
     "execution_count": 108,
     "metadata": {},
     "output_type": "execute_result"
    }
   ],
   "source": [
    "y_pred[1]"
   ]
  },
  {
   "cell_type": "code",
   "execution_count": 112,
   "metadata": {},
   "outputs": [
    {
     "name": "stdout",
     "output_type": "stream",
     "text": [
      "Prueba\n"
     ]
    },
    {
     "data": {
      "text/plain": [
       "  \u001b[38;5;1m 0.007329\u001b[0m \u001b[38;5;1m-0.3068  \u001b[0m \u001b[38;5;1m 0.9517  \u001b[0m \u001b[38;5;4m 0.5455  \u001b[0m  \u001b[0m\n",
       "  \u001b[38;5;1m-0.3082  \u001b[0m \u001b[38;5;1m 0.9047  \u001b[0m \u001b[38;5;1m 0.294   \u001b[0m \u001b[38;5;4m 0.1692  \u001b[0m  \u001b[0m\n",
       "  \u001b[38;5;1m-0.9513  \u001b[0m \u001b[38;5;1m-0.2955  \u001b[0m \u001b[38;5;1m-0.08794 \u001b[0m \u001b[38;5;4m 0.5237  \u001b[0m  \u001b[0m\n",
       "  \u001b[38;5;244m 0       \u001b[0m \u001b[38;5;244m 0       \u001b[0m \u001b[38;5;244m 0       \u001b[0m \u001b[38;5;244m 1       \u001b[0m  \u001b[0m\n"
      ]
     },
     "execution_count": 112,
     "metadata": {},
     "output_type": "execute_result"
    }
   ],
   "source": [
    "print('Prueba')\n",
    "robot.fkine(y_pred[2])"
   ]
  },
  {
   "cell_type": "code",
   "execution_count": 111,
   "metadata": {},
   "outputs": [
    {
     "name": "stdout",
     "output_type": "stream",
     "text": [
      "Real\n"
     ]
    },
    {
     "data": {
      "text/plain": [
       "  \u001b[38;5;1m 0.5203  \u001b[0m \u001b[38;5;1m 0.4141  \u001b[0m \u001b[38;5;1m-0.7469  \u001b[0m \u001b[38;5;4m 0.2413  \u001b[0m  \u001b[0m\n",
       "  \u001b[38;5;1m 0.8365  \u001b[0m \u001b[38;5;1m-0.4234  \u001b[0m \u001b[38;5;1m 0.348   \u001b[0m \u001b[38;5;4m 0.4514  \u001b[0m  \u001b[0m\n",
       "  \u001b[38;5;1m-0.1721  \u001b[0m \u001b[38;5;1m-0.8058  \u001b[0m \u001b[38;5;1m-0.5667  \u001b[0m \u001b[38;5;4m 0.07288 \u001b[0m  \u001b[0m\n",
       "  \u001b[38;5;244m 0       \u001b[0m \u001b[38;5;244m 0       \u001b[0m \u001b[38;5;244m 0       \u001b[0m \u001b[38;5;244m 1       \u001b[0m  \u001b[0m\n"
      ]
     },
     "execution_count": 111,
     "metadata": {},
     "output_type": "execute_result"
    }
   ],
   "source": [
    "print(\"Real\")\n",
    "robot.fkine(y_test.values[2])"
   ]
  },
  {
   "cell_type": "code",
   "execution_count": 99,
   "metadata": {},
   "outputs": [
    {
     "ename": "TypeError",
     "evalue": "concatenate() missing 1 required positional argument: 'inputs'",
     "output_type": "error",
     "traceback": [
      "\u001b[0;31m---------------------------------------------------------------------------\u001b[0m",
      "\u001b[0;31mTypeError\u001b[0m                                 Traceback (most recent call last)",
      "Cell \u001b[0;32mIn[99], line 11\u001b[0m\n\u001b[1;32m      1\u001b[0m \u001b[39m# Crear el modelo\u001b[39;00m\n\u001b[1;32m      2\u001b[0m model \u001b[39m=\u001b[39m tf\u001b[39m.\u001b[39mkeras\u001b[39m.\u001b[39mSequential([\n\u001b[1;32m      3\u001b[0m     tf\u001b[39m.\u001b[39mkeras\u001b[39m.\u001b[39mlayers\u001b[39m.\u001b[39mInput(shape\u001b[39m=\u001b[39m(\u001b[39m3\u001b[39m,), name\u001b[39m=\u001b[39m\u001b[39m'\u001b[39m\u001b[39mroll_pitch_yaw\u001b[39m\u001b[39m'\u001b[39m),\n\u001b[1;32m      4\u001b[0m     tf\u001b[39m.\u001b[39mkeras\u001b[39m.\u001b[39mlayers\u001b[39m.\u001b[39mDense(\u001b[39m32\u001b[39m, activation\u001b[39m=\u001b[39mtf\u001b[39m.\u001b[39mkeras\u001b[39m.\u001b[39mlayers\u001b[39m.\u001b[39mELU(alpha\u001b[39m=\u001b[39m\u001b[39m0.1\u001b[39m)),\n\u001b[1;32m      5\u001b[0m     tf\u001b[39m.\u001b[39mkeras\u001b[39m.\u001b[39mlayers\u001b[39m.\u001b[39mDropout(\u001b[39m0.2\u001b[39m),\n\u001b[1;32m      6\u001b[0m     tf\u001b[39m.\u001b[39mkeras\u001b[39m.\u001b[39mlayers\u001b[39m.\u001b[39mBatchNormalization(),\n\u001b[1;32m      7\u001b[0m     tf\u001b[39m.\u001b[39mkeras\u001b[39m.\u001b[39mlayers\u001b[39m.\u001b[39mInput(shape\u001b[39m=\u001b[39m(\u001b[39m3\u001b[39m,), name\u001b[39m=\u001b[39m\u001b[39m'\u001b[39m\u001b[39mxyz\u001b[39m\u001b[39m'\u001b[39m),\n\u001b[1;32m      8\u001b[0m     tf\u001b[39m.\u001b[39mkeras\u001b[39m.\u001b[39mlayers\u001b[39m.\u001b[39mDense(\u001b[39m32\u001b[39m, activation\u001b[39m=\u001b[39mtf\u001b[39m.\u001b[39mkeras\u001b[39m.\u001b[39mlayers\u001b[39m.\u001b[39mELU(alpha\u001b[39m=\u001b[39m\u001b[39m0.1\u001b[39m)),\n\u001b[1;32m      9\u001b[0m     tf\u001b[39m.\u001b[39mkeras\u001b[39m.\u001b[39mlayers\u001b[39m.\u001b[39mDropout(\u001b[39m0.2\u001b[39m),\n\u001b[1;32m     10\u001b[0m     tf\u001b[39m.\u001b[39mkeras\u001b[39m.\u001b[39mlayers\u001b[39m.\u001b[39mBatchNormalization(),\n\u001b[0;32m---> 11\u001b[0m     tf\u001b[39m.\u001b[39;49mkeras\u001b[39m.\u001b[39;49mlayers\u001b[39m.\u001b[39;49mconcatenate(),\n\u001b[1;32m     12\u001b[0m     tf\u001b[39m.\u001b[39mkeras\u001b[39m.\u001b[39mlayers\u001b[39m.\u001b[39mDense(\u001b[39m64\u001b[39m, activation\u001b[39m=\u001b[39mtf\u001b[39m.\u001b[39mkeras\u001b[39m.\u001b[39mlayers\u001b[39m.\u001b[39mELU(alpha\u001b[39m=\u001b[39m\u001b[39m0.1\u001b[39m)),\n\u001b[1;32m     13\u001b[0m     tf\u001b[39m.\u001b[39mkeras\u001b[39m.\u001b[39mlayers\u001b[39m.\u001b[39mDropout(\u001b[39m0.2\u001b[39m),\n\u001b[1;32m     14\u001b[0m     tf\u001b[39m.\u001b[39mkeras\u001b[39m.\u001b[39mlayers\u001b[39m.\u001b[39mBatchNormalization(),\n\u001b[1;32m     15\u001b[0m     tf\u001b[39m.\u001b[39mkeras\u001b[39m.\u001b[39mlayers\u001b[39m.\u001b[39mDense(\u001b[39m6\u001b[39m, activation\u001b[39m=\u001b[39m\u001b[39m'\u001b[39m\u001b[39mlinear\u001b[39m\u001b[39m'\u001b[39m, name\u001b[39m=\u001b[39m\u001b[39m'\u001b[39m\u001b[39moutput\u001b[39m\u001b[39m'\u001b[39m)\n\u001b[1;32m     16\u001b[0m ])\n\u001b[1;32m     18\u001b[0m \u001b[39m# Compilar el modelo con la función de pérdida y el optimizador adecuados\u001b[39;00m\n\u001b[1;32m     19\u001b[0m model\u001b[39m.\u001b[39mcompile(loss\u001b[39m=\u001b[39m\u001b[39m'\u001b[39m\u001b[39mmse\u001b[39m\u001b[39m'\u001b[39m, optimizer\u001b[39m=\u001b[39mtf\u001b[39m.\u001b[39mkeras\u001b[39m.\u001b[39moptimizers\u001b[39m.\u001b[39mRMSprop(lr\u001b[39m=\u001b[39m\u001b[39m0.001\u001b[39m), metrics\u001b[39m=\u001b[39m[\u001b[39m'\u001b[39m\u001b[39mmae\u001b[39m\u001b[39m'\u001b[39m, \u001b[39m'\u001b[39m\u001b[39mmse\u001b[39m\u001b[39m'\u001b[39m])\n",
      "\u001b[0;31mTypeError\u001b[0m: concatenate() missing 1 required positional argument: 'inputs'"
     ]
    }
   ],
   "source": [
    "\n",
    "# Crear el modelo\n",
    "model = tf.keras.Sequential([\n",
    "    tf.keras.layers.Input(shape=(3,), name='roll_pitch_yaw'),\n",
    "    tf.keras.layers.Dense(32, activation=tf.keras.layers.ELU(alpha=0.1)),\n",
    "    tf.keras.layers.Dropout(0.2),\n",
    "    tf.keras.layers.BatchNormalization(),\n",
    "    tf.keras.layers.Input(shape=(3,), name='xyz'),\n",
    "    tf.keras.layers.Dense(32, activation=tf.keras.layers.ELU(alpha=0.1)),\n",
    "    tf.keras.layers.Dropout(0.2),\n",
    "    tf.keras.layers.BatchNormalization(),\n",
    "    tf.keras.layers.concatenate(),\n",
    "    tf.keras.layers.Dense(64, activation=tf.keras.layers.ELU(alpha=0.1)),\n",
    "    tf.keras.layers.Dropout(0.2),\n",
    "    tf.keras.layers.BatchNormalization(),\n",
    "    tf.keras.layers.Dense(6, activation='linear', name='output')\n",
    "])\n",
    "\n",
    "# Compilar el modelo con la función de pérdida y el optimizador adecuados\n",
    "model.compile(loss='mse', optimizer=tf.keras.optimizers.RMSprop(lr=0.001), metrics=['mae', 'mse'])\n",
    "\n",
    "checkpoint_callback = tf.keras.callbacks.ModelCheckpoint(filepath='weightsT1.h5',\n",
    "                                       monitor='val_loss', save_best_only=True)\n",
    "# Entrenar el modelo\n",
    "history = model.fit({'roll_pitch_yaw': X_trainr, 'xyz': X_trainp}, y_trainr, \n",
    "                    validation_data=({'roll_pitch_yaw': X_valr, 'xyz': X_valp}, y_valr), \n",
    "                    epochs=100, batch_size=32, callbacks=[checkpoint_callback])\n"
   ]
  },
  {
   "cell_type": "code",
   "execution_count": 94,
   "metadata": {},
   "outputs": [
    {
     "name": "stdout",
     "output_type": "stream",
     "text": [
      "Model: \"model_1\"\n",
      "__________________________________________________________________________________________________\n",
      " Layer (type)                   Output Shape         Param #     Connected to                     \n",
      "==================================================================================================\n",
      " rpy_input (InputLayer)         [(None, 3)]          0           []                               \n",
      "                                                                                                  \n",
      " xyz_input (InputLayer)         [(None, 3)]          0           []                               \n",
      "                                                                                                  \n",
      " concatenate_1 (Concatenate)    (None, 6)            0           ['rpy_input[0][0]',              \n",
      "                                                                  'xyz_input[0][0]']              \n",
      "                                                                                                  \n",
      " dense_37 (Dense)               (None, 128)          896         ['concatenate_1[0][0]']          \n",
      "                                                                                                  \n",
      " dense_38 (Dense)               (None, 256)          33024       ['dense_37[0][0]']               \n",
      "                                                                                                  \n",
      " dense_39 (Dense)               (None, 512)          131584      ['dense_38[0][0]']               \n",
      "                                                                                                  \n",
      " dense_40 (Dense)               (None, 256)          131328      ['dense_39[0][0]']               \n",
      "                                                                                                  \n",
      " dense_41 (Dense)               (None, 128)          32896       ['dense_40[0][0]']               \n",
      "                                                                                                  \n",
      " dense_42 (Dense)               (None, 6)            774         ['dense_41[0][0]']               \n",
      "                                                                                                  \n",
      "==================================================================================================\n",
      "Total params: 330,502\n",
      "Trainable params: 330,502\n",
      "Non-trainable params: 0\n",
      "__________________________________________________________________________________________________\n"
     ]
    }
   ],
   "source": [
    "model.summary()"
   ]
  },
  {
   "cell_type": "code",
   "execution_count": 2,
   "metadata": {},
   "outputs": [
    {
     "data": {
      "text/html": [
       "<div>\n",
       "<style scoped>\n",
       "    .dataframe tbody tr th:only-of-type {\n",
       "        vertical-align: middle;\n",
       "    }\n",
       "\n",
       "    .dataframe tbody tr th {\n",
       "        vertical-align: top;\n",
       "    }\n",
       "\n",
       "    .dataframe thead th {\n",
       "        text-align: right;\n",
       "    }\n",
       "</style>\n",
       "<table border=\"1\" class=\"dataframe\">\n",
       "  <thead>\n",
       "    <tr style=\"text-align: right;\">\n",
       "      <th></th>\n",
       "      <th>Q1</th>\n",
       "      <th>Q2</th>\n",
       "      <th>Q3</th>\n",
       "      <th>Q4</th>\n",
       "      <th>Q5</th>\n",
       "      <th>Q6</th>\n",
       "      <th>Roll</th>\n",
       "      <th>Pitch</th>\n",
       "      <th>Yaw</th>\n",
       "      <th>X</th>\n",
       "      <th>Y</th>\n",
       "      <th>Z</th>\n",
       "    </tr>\n",
       "  </thead>\n",
       "  <tbody>\n",
       "    <tr>\n",
       "      <th>0</th>\n",
       "      <td>-1.2725</td>\n",
       "      <td>0.1765</td>\n",
       "      <td>-0.2675</td>\n",
       "      <td>1.2871</td>\n",
       "      <td>1.7241</td>\n",
       "      <td>1.7746</td>\n",
       "      <td>2.670896</td>\n",
       "      <td>1.240142</td>\n",
       "      <td>3.079316</td>\n",
       "      <td>0.16306</td>\n",
       "      <td>-0.29789</td>\n",
       "      <td>0.63213</td>\n",
       "    </tr>\n",
       "    <tr>\n",
       "      <th>1</th>\n",
       "      <td>2.1500</td>\n",
       "      <td>-0.3738</td>\n",
       "      <td>0.5203</td>\n",
       "      <td>-0.9932</td>\n",
       "      <td>-0.1559</td>\n",
       "      <td>0.3500</td>\n",
       "      <td>1.673083</td>\n",
       "      <td>-0.938626</td>\n",
       "      <td>-2.514319</td>\n",
       "      <td>-0.16200</td>\n",
       "      <td>0.23058</td>\n",
       "      <td>0.56218</td>\n",
       "    </tr>\n",
       "    <tr>\n",
       "      <th>2</th>\n",
       "      <td>2.4630</td>\n",
       "      <td>0.0588</td>\n",
       "      <td>0.1829</td>\n",
       "      <td>2.5025</td>\n",
       "      <td>0.8853</td>\n",
       "      <td>1.4526</td>\n",
       "      <td>0.929903</td>\n",
       "      <td>0.714333</td>\n",
       "      <td>-2.159952</td>\n",
       "      <td>-0.31731</td>\n",
       "      <td>0.21315</td>\n",
       "      <td>0.58774</td>\n",
       "    </tr>\n",
       "    <tr>\n",
       "      <th>3</th>\n",
       "      <td>-0.2220</td>\n",
       "      <td>-1.2199</td>\n",
       "      <td>0.8517</td>\n",
       "      <td>1.3264</td>\n",
       "      <td>-0.6319</td>\n",
       "      <td>4.3036</td>\n",
       "      <td>0.664402</td>\n",
       "      <td>-1.002397</td>\n",
       "      <td>1.485717</td>\n",
       "      <td>0.04312</td>\n",
       "      <td>-0.05204</td>\n",
       "      <td>0.58733</td>\n",
       "    </tr>\n",
       "    <tr>\n",
       "      <th>4</th>\n",
       "      <td>-2.8115</td>\n",
       "      <td>-0.5678</td>\n",
       "      <td>0.7310</td>\n",
       "      <td>0.8337</td>\n",
       "      <td>1.6392</td>\n",
       "      <td>5.3698</td>\n",
       "      <td>-2.387837</td>\n",
       "      <td>-0.468515</td>\n",
       "      <td>-2.128698</td>\n",
       "      <td>-0.12604</td>\n",
       "      <td>-0.09941</td>\n",
       "      <td>0.49080</td>\n",
       "    </tr>\n",
       "  </tbody>\n",
       "</table>\n",
       "</div>"
      ],
      "text/plain": [
       "       Q1      Q2      Q3      Q4      Q5      Q6      Roll     Pitch   \n",
       "0 -1.2725  0.1765 -0.2675  1.2871  1.7241  1.7746  2.670896  1.240142  \\\n",
       "1  2.1500 -0.3738  0.5203 -0.9932 -0.1559  0.3500  1.673083 -0.938626   \n",
       "2  2.4630  0.0588  0.1829  2.5025  0.8853  1.4526  0.929903  0.714333   \n",
       "3 -0.2220 -1.2199  0.8517  1.3264 -0.6319  4.3036  0.664402 -1.002397   \n",
       "4 -2.8115 -0.5678  0.7310  0.8337  1.6392  5.3698 -2.387837 -0.468515   \n",
       "\n",
       "        Yaw        X        Y        Z  \n",
       "0  3.079316  0.16306 -0.29789  0.63213  \n",
       "1 -2.514319 -0.16200  0.23058  0.56218  \n",
       "2 -2.159952 -0.31731  0.21315  0.58774  \n",
       "3  1.485717  0.04312 -0.05204  0.58733  \n",
       "4 -2.128698 -0.12604 -0.09941  0.49080  "
      ]
     },
     "execution_count": 2,
     "metadata": {},
     "output_type": "execute_result"
    }
   ],
   "source": [
    "data = pd.read_csv('datos_IRB120rpy.csv')\n",
    "data.head()"
   ]
  },
  {
   "cell_type": "code",
   "execution_count": 135,
   "metadata": {},
   "outputs": [
    {
     "data": {
      "text/plain": [
       "(100000, 12)"
      ]
     },
     "execution_count": 135,
     "metadata": {},
     "output_type": "execute_result"
    }
   ],
   "source": [
    "data.shape"
   ]
  },
  {
   "cell_type": "code",
   "execution_count": 8,
   "metadata": {},
   "outputs": [],
   "source": [
    "X = data.loc[:, ['Roll','Pitch','Yaw','X', 'Y', 'Z']].values\n",
    "y = data.loc[:,['Q1', 'Q2', 'Q3', 'Q4', 'Q5', 'Q6']].values"
   ]
  },
  {
   "cell_type": "code",
   "execution_count": 9,
   "metadata": {},
   "outputs": [],
   "source": [
    "X_train, X_test, y_train, y_test = train_test_split(X, y, test_size=0.2, random_state=42)"
   ]
  },
  {
   "cell_type": "code",
   "execution_count": 10,
   "metadata": {},
   "outputs": [],
   "source": [
    "model = tf.keras.Sequential([\n",
    "    tf.keras.layers.Dense(128, activation=tf.keras.layers.ELU(alpha=1.0), input_shape=(6,)),\n",
    "    tf.keras.layers.BatchNormalization(),\n",
    "    tf.keras.layers.Dense(256, activation=tf.keras.layers.ELU(alpha=1.0), kernel_regularizer=tf.keras.regularizers.l2(0.01)),\n",
    "    tf.keras.layers.Dropout(0.2),\n",
    "    tf.keras.layers.BatchNormalization(),\n",
    "    tf.keras.layers.Dense(512, activation=tf.keras.layers.ELU(alpha=1.0)),\n",
    "    tf.keras.layers.Dropout(0.2), \n",
    "    tf.keras.layers.BatchNormalization(),\n",
    "    tf.keras.layers.Dense(1024, activation=tf.keras.layers.ELU(alpha=1.0)),\n",
    "    tf.keras.layers.Dropout(0.3), \n",
    "    tf.keras.layers.BatchNormalization(),\n",
    "    tf.keras.layers.Dense(512, activation=tf.keras.layers.ELU(alpha=1.0)),\n",
    "    tf.keras.layers.Dropout(0.3), \n",
    "    tf.keras.layers.BatchNormalization(),\n",
    "    tf.keras.layers.Dense(256, activation=tf.keras.layers.ELU(alpha=1.0), kernel_regularizer=tf.keras.regularizers.l2(0.01)),\n",
    "    tf.keras.layers.Dropout(0.2),\n",
    "    tf.keras.layers.BatchNormalization(),\n",
    "    tf.keras.layers.Dense(128, activation=tf.keras.layers.ELU(alpha=1.0)),\n",
    "    tf.keras.layers.BatchNormalization(),\n",
    "    tf.keras.layers.Dense(6, activation = 'linear')\n",
    "])\n",
    "\n",
    "model.compile(optimizer=tf.keras.optimizers.RMSprop(learning_rate=0.001), loss='mse', metrics=['mse', 'accuracy'])"
   ]
  },
  {
   "cell_type": "code",
   "execution_count": 22,
   "metadata": {},
   "outputs": [],
   "source": [
    "model = tf.keras.models.load_model('modelT1.h5')"
   ]
  },
  {
   "cell_type": "code",
   "execution_count": 22,
   "metadata": {},
   "outputs": [
    {
     "name": "stdout",
     "output_type": "stream",
     "text": [
      "Epoch 1/10\n",
      "500/500 [==============================] - 11s 21ms/step - loss: 1.7534 - mse: 1.7188 - accuracy: 0.7523 - val_loss: 1.7371 - val_mse: 1.7027 - val_accuracy: 0.7612\n",
      "Epoch 2/10\n",
      "500/500 [==============================] - 12s 24ms/step - loss: 1.7501 - mse: 1.7159 - accuracy: 0.7523 - val_loss: 1.7448 - val_mse: 1.7099 - val_accuracy: 0.7612\n",
      "Epoch 3/10\n",
      "500/500 [==============================] - 14s 28ms/step - loss: 1.7472 - mse: 1.7132 - accuracy: 0.7523 - val_loss: 1.7254 - val_mse: 1.6923 - val_accuracy: 0.7612\n",
      "Epoch 4/10\n",
      "500/500 [==============================] - 13s 25ms/step - loss: 1.7486 - mse: 1.7151 - accuracy: 0.7522 - val_loss: 1.7395 - val_mse: 1.7058 - val_accuracy: 0.7612\n",
      "Epoch 5/10\n",
      "500/500 [==============================] - 13s 25ms/step - loss: 1.7445 - mse: 1.7114 - accuracy: 0.7523 - val_loss: 1.7287 - val_mse: 1.6963 - val_accuracy: 0.7612\n",
      "Epoch 6/10\n",
      "500/500 [==============================] - 11s 23ms/step - loss: 1.7440 - mse: 1.7112 - accuracy: 0.7523 - val_loss: 1.7197 - val_mse: 1.6875 - val_accuracy: 0.7612\n",
      "Epoch 7/10\n",
      "500/500 [==============================] - 11s 23ms/step - loss: 1.7417 - mse: 1.7095 - accuracy: 0.7522 - val_loss: 1.7393 - val_mse: 1.7073 - val_accuracy: 0.7612\n",
      "Epoch 8/10\n",
      "500/500 [==============================] - 11s 22ms/step - loss: 1.7410 - mse: 1.7093 - accuracy: 0.7523 - val_loss: 1.7339 - val_mse: 1.7009 - val_accuracy: 0.7611\n",
      "Epoch 9/10\n",
      "500/500 [==============================] - 10s 21ms/step - loss: 1.7409 - mse: 1.7093 - accuracy: 0.7523 - val_loss: 1.7266 - val_mse: 1.6943 - val_accuracy: 0.7612\n",
      "Epoch 10/10\n",
      "500/500 [==============================] - 10s 20ms/step - loss: 1.7384 - mse: 1.7072 - accuracy: 0.7524 - val_loss: 1.7266 - val_mse: 1.6955 - val_accuracy: 0.7612\n"
     ]
    },
    {
     "data": {
      "image/png": "[encoded data removed]",
      "text/plain": [
       "<Figure size 640x480 with 1 Axes>"
      ]
     },
     "metadata": {},
     "output_type": "display_data"
    }
   ],
   "source": [
    "checkpoint_callback = tf.keras.callbacks.ModelCheckpoint(filepath='weightsT1.h5',\n",
    "                                       monitor='val_loss', save_best_only=True)\n",
    "# Entrena el modelo\n",
    "history = model.fit(X_train, y_train,  epochs=10, batch_size=128, validation_split=0.2, callbacks=[checkpoint_callback])\n",
    "\n",
    "plt.plot(history.history['loss'], label='pérdida de entrenamiento')\n",
    "plt.plot(history.history['val_loss'], label='pérdida de validación')\n",
    "plt.xlabel('Número de épocas')\n",
    "plt.ylabel('Pérdida')\n",
    "plt.legend()\n",
    "plt.show()"
   ]
  },
  {
   "cell_type": "code",
   "execution_count": 12,
   "metadata": {},
   "outputs": [
    {
     "name": "stdout",
     "output_type": "stream",
     "text": [
      "625/625 [==============================] - 2s 3ms/step - loss: 1.7560 - mse: 1.7223 - accuracy: 0.7497\n"
     ]
    },
    {
     "data": {
      "text/plain": [
       "[1.7559930086135864, 1.7223377227783203, 0.7496500015258789]"
      ]
     },
     "execution_count": 12,
     "metadata": {},
     "output_type": "execute_result"
    }
   ],
   "source": [
    "# Evalúa el modelo en el conjunto de pruebas\n",
    "model.evaluate(X_test, y_test)"
   ]
  },
  {
   "cell_type": "code",
   "execution_count": 13,
   "metadata": {},
   "outputs": [
    {
     "data": {
      "text/html": [
       "<div>\n",
       "<style scoped>\n",
       "    .dataframe tbody tr th:only-of-type {\n",
       "        vertical-align: middle;\n",
       "    }\n",
       "\n",
       "    .dataframe tbody tr th {\n",
       "        vertical-align: top;\n",
       "    }\n",
       "\n",
       "    .dataframe thead th {\n",
       "        text-align: right;\n",
       "    }\n",
       "</style>\n",
       "<table border=\"1\" class=\"dataframe\">\n",
       "  <thead>\n",
       "    <tr style=\"text-align: right;\">\n",
       "      <th></th>\n",
       "      <th>Q1</th>\n",
       "      <th>Q2</th>\n",
       "      <th>Q3</th>\n",
       "      <th>Q4</th>\n",
       "      <th>Q5</th>\n",
       "      <th>Q6</th>\n",
       "      <th>Roll</th>\n",
       "      <th>Pitch</th>\n",
       "      <th>Yaw</th>\n",
       "      <th>X</th>\n",
       "      <th>Y</th>\n",
       "      <th>Z</th>\n",
       "    </tr>\n",
       "  </thead>\n",
       "  <tbody>\n",
       "    <tr>\n",
       "      <th>0</th>\n",
       "      <td>-1.2725</td>\n",
       "      <td>0.1765</td>\n",
       "      <td>-0.2675</td>\n",
       "      <td>1.2871</td>\n",
       "      <td>1.7241</td>\n",
       "      <td>1.7746</td>\n",
       "      <td>2.670896</td>\n",
       "      <td>1.240142</td>\n",
       "      <td>3.079316</td>\n",
       "      <td>0.16306</td>\n",
       "      <td>-0.29789</td>\n",
       "      <td>0.63213</td>\n",
       "    </tr>\n",
       "    <tr>\n",
       "      <th>1</th>\n",
       "      <td>2.1500</td>\n",
       "      <td>-0.3738</td>\n",
       "      <td>0.5203</td>\n",
       "      <td>-0.9932</td>\n",
       "      <td>-0.1559</td>\n",
       "      <td>0.3500</td>\n",
       "      <td>1.673083</td>\n",
       "      <td>-0.938626</td>\n",
       "      <td>-2.514319</td>\n",
       "      <td>-0.16200</td>\n",
       "      <td>0.23058</td>\n",
       "      <td>0.56218</td>\n",
       "    </tr>\n",
       "    <tr>\n",
       "      <th>2</th>\n",
       "      <td>2.4630</td>\n",
       "      <td>0.0588</td>\n",
       "      <td>0.1829</td>\n",
       "      <td>2.5025</td>\n",
       "      <td>0.8853</td>\n",
       "      <td>1.4526</td>\n",
       "      <td>0.929903</td>\n",
       "      <td>0.714333</td>\n",
       "      <td>-2.159952</td>\n",
       "      <td>-0.31731</td>\n",
       "      <td>0.21315</td>\n",
       "      <td>0.58774</td>\n",
       "    </tr>\n",
       "    <tr>\n",
       "      <th>3</th>\n",
       "      <td>-0.2220</td>\n",
       "      <td>-1.2199</td>\n",
       "      <td>0.8517</td>\n",
       "      <td>1.3264</td>\n",
       "      <td>-0.6319</td>\n",
       "      <td>4.3036</td>\n",
       "      <td>0.664402</td>\n",
       "      <td>-1.002397</td>\n",
       "      <td>1.485717</td>\n",
       "      <td>0.04312</td>\n",
       "      <td>-0.05204</td>\n",
       "      <td>0.58733</td>\n",
       "    </tr>\n",
       "    <tr>\n",
       "      <th>4</th>\n",
       "      <td>-2.8115</td>\n",
       "      <td>-0.5678</td>\n",
       "      <td>0.7310</td>\n",
       "      <td>0.8337</td>\n",
       "      <td>1.6392</td>\n",
       "      <td>5.3698</td>\n",
       "      <td>-2.387837</td>\n",
       "      <td>-0.468515</td>\n",
       "      <td>-2.128698</td>\n",
       "      <td>-0.12604</td>\n",
       "      <td>-0.09941</td>\n",
       "      <td>0.49080</td>\n",
       "    </tr>\n",
       "  </tbody>\n",
       "</table>\n",
       "</div>"
      ],
      "text/plain": [
       "       Q1      Q2      Q3      Q4      Q5      Q6      Roll     Pitch   \n",
       "0 -1.2725  0.1765 -0.2675  1.2871  1.7241  1.7746  2.670896  1.240142  \\\n",
       "1  2.1500 -0.3738  0.5203 -0.9932 -0.1559  0.3500  1.673083 -0.938626   \n",
       "2  2.4630  0.0588  0.1829  2.5025  0.8853  1.4526  0.929903  0.714333   \n",
       "3 -0.2220 -1.2199  0.8517  1.3264 -0.6319  4.3036  0.664402 -1.002397   \n",
       "4 -2.8115 -0.5678  0.7310  0.8337  1.6392  5.3698 -2.387837 -0.468515   \n",
       "\n",
       "        Yaw        X        Y        Z  \n",
       "0  3.079316  0.16306 -0.29789  0.63213  \n",
       "1 -2.514319 -0.16200  0.23058  0.56218  \n",
       "2 -2.159952 -0.31731  0.21315  0.58774  \n",
       "3  1.485717  0.04312 -0.05204  0.58733  \n",
       "4 -2.128698 -0.12604 -0.09941  0.49080  "
      ]
     },
     "execution_count": 13,
     "metadata": {},
     "output_type": "execute_result"
    }
   ],
   "source": [
    "data.head()"
   ]
  },
  {
   "cell_type": "code",
   "execution_count": 14,
   "metadata": {},
   "outputs": [
    {
     "name": "stdout",
     "output_type": "stream",
     "text": [
      "1/1 [==============================] - 0s 167ms/step\n"
     ]
    }
   ],
   "source": [
    "# Hacer una predicción\n",
    "example_input = [[2.670896,\t1.240142,\t3.079316,\t0.16306,\t-0.29789,\t0.63213],[1.673083,\t-0.938626,\t-2.514319,\t-0.16200,\t0.23058,\t0.56218]]\n",
    "prediction = model.predict(example_input)"
   ]
  },
  {
   "cell_type": "code",
   "execution_count": 15,
   "metadata": {},
   "outputs": [
    {
     "data": {
      "text/plain": [
       "array([ 0.18953474, -0.2284396 , -0.07235721,  0.04293622, -0.02075604,\n",
       "        3.318845  ], dtype=float32)"
      ]
     },
     "execution_count": 15,
     "metadata": {},
     "output_type": "execute_result"
    }
   ],
   "source": [
    "prediction[0]"
   ]
  },
  {
   "cell_type": "code",
   "execution_count": 18,
   "metadata": {},
   "outputs": [
    {
     "name": "stdout",
     "output_type": "stream",
     "text": [
      "Prueba\n"
     ]
    },
    {
     "data": {
      "text/plain": [
       "  \u001b[38;5;1m 0.2619  \u001b[0m \u001b[38;5;1m-0.2508  \u001b[0m \u001b[38;5;1m 0.9319  \u001b[0m \u001b[38;5;4m 0.27    \u001b[0m  \u001b[0m\n",
       "  \u001b[38;5;1m 0.2726  \u001b[0m \u001b[38;5;1m 0.9455  \u001b[0m \u001b[38;5;1m 0.1779  \u001b[0m \u001b[38;5;4m 0.05172 \u001b[0m  \u001b[0m\n",
       "  \u001b[38;5;1m-0.9258  \u001b[0m \u001b[38;5;1m 0.2075  \u001b[0m \u001b[38;5;1m 0.316   \u001b[0m \u001b[38;5;4m 0.7321  \u001b[0m  \u001b[0m\n",
       "  \u001b[38;5;244m 0       \u001b[0m \u001b[38;5;244m 0       \u001b[0m \u001b[38;5;244m 0       \u001b[0m \u001b[38;5;244m 1       \u001b[0m  \u001b[0m\n"
      ]
     },
     "execution_count": 18,
     "metadata": {},
     "output_type": "execute_result"
    }
   ],
   "source": [
    "print('Prueba')\n",
    "robot.fkine(prediction[0])"
   ]
  },
  {
   "cell_type": "code",
   "execution_count": 19,
   "metadata": {},
   "outputs": [
    {
     "name": "stdout",
     "output_type": "stream",
     "text": [
      "Real\n"
     ]
    },
    {
     "data": {
      "text/plain": [
       "  \u001b[38;5;1m-0.324   \u001b[0m \u001b[38;5;1m-0.3726  \u001b[0m \u001b[38;5;1m 0.8696  \u001b[0m \u001b[38;5;4m 0.1631  \u001b[0m  \u001b[0m\n",
       "  \u001b[38;5;1m 0.02021 \u001b[0m \u001b[38;5;1m 0.9162  \u001b[0m \u001b[38;5;1m 0.4002  \u001b[0m \u001b[38;5;4m-0.2979  \u001b[0m  \u001b[0m\n",
       "  \u001b[38;5;1m-0.9458  \u001b[0m \u001b[38;5;1m 0.1472  \u001b[0m \u001b[38;5;1m-0.2894  \u001b[0m \u001b[38;5;4m 0.6321  \u001b[0m  \u001b[0m\n",
       "  \u001b[38;5;244m 0       \u001b[0m \u001b[38;5;244m 0       \u001b[0m \u001b[38;5;244m 0       \u001b[0m \u001b[38;5;244m 1       \u001b[0m  \u001b[0m\n"
      ]
     },
     "execution_count": 19,
     "metadata": {},
     "output_type": "execute_result"
    }
   ],
   "source": [
    "print('Real')\n",
    "robot.fkine([-1.2725,\t0.1765,\t-0.2675,\t1.2871,\t1.7241,\t1.7746])"
   ]
  },
  {
   "cell_type": "code",
   "execution_count": 47,
   "metadata": {},
   "outputs": [],
   "source": [
    "model.save('modelT2.h5')"
   ]
  },
  {
   "cell_type": "code",
   "execution_count": 152,
   "metadata": {},
   "outputs": [],
   "source": [
    "\n",
    "model0 = tf.keras.models.load_model('modelT1.h5')"
   ]
  },
  {
   "cell_type": "code",
   "execution_count": 153,
   "metadata": {},
   "outputs": [
    {
     "name": "stdout",
     "output_type": "stream",
     "text": [
      "625/625 [==============================] - 2s 3ms/step - loss: 4.0171 - mse: 4.0087 - accuracy: 0.0994\n"
     ]
    },
    {
     "data": {
      "text/plain": [
       "[4.017067909240723, 4.008669376373291, 0.0994499996304512]"
      ]
     },
     "execution_count": 153,
     "metadata": {},
     "output_type": "execute_result"
    }
   ],
   "source": [
    "model0.evaluate(X_test, y_test)"
   ]
  },
  {
   "cell_type": "code",
   "execution_count": 20,
   "metadata": {},
   "outputs": [
    {
     "name": "stdout",
     "output_type": "stream",
     "text": [
      "625/625 [==============================] - 2s 3ms/step\n"
     ]
    }
   ],
   "source": [
    "y_pred = model.predict(X_test)"
   ]
  },
  {
   "cell_type": "code",
   "execution_count": 156,
   "metadata": {},
   "outputs": [
    {
     "name": "stdout",
     "output_type": "stream",
     "text": [
      "1/1 [==============================] - 0s 180ms/step\n"
     ]
    }
   ],
   "source": [
    "example_input = [[0.16306,\t-0.29789,\t0.63213],[-0.16200,\t0.23058,\t0.56218]]\n",
    "prediction = model0.predict(example_input)"
   ]
  },
  {
   "cell_type": "code",
   "execution_count": 157,
   "metadata": {},
   "outputs": [
    {
     "name": "stdout",
     "output_type": "stream",
     "text": [
      "Prueba\n"
     ]
    },
    {
     "data": {
      "text/plain": [
       "  \u001b[38;5;1m 0.5706  \u001b[0m \u001b[38;5;1m 0.8094  \u001b[0m \u001b[38;5;1m-0.139   \u001b[0m \u001b[38;5;4m 0.1731  \u001b[0m  \u001b[0m\n",
       "  \u001b[38;5;1m-0.7851  \u001b[0m \u001b[38;5;1m 0.5873  \u001b[0m \u001b[38;5;1m 0.1968  \u001b[0m \u001b[38;5;4m-0.2304  \u001b[0m  \u001b[0m\n",
       "  \u001b[38;5;1m 0.241   \u001b[0m \u001b[38;5;1m-0.003197\u001b[0m \u001b[38;5;1m 0.9705  \u001b[0m \u001b[38;5;4m 0.7086  \u001b[0m  \u001b[0m\n",
       "  \u001b[38;5;244m 0       \u001b[0m \u001b[38;5;244m 0       \u001b[0m \u001b[38;5;244m 0       \u001b[0m \u001b[38;5;244m 1       \u001b[0m  \u001b[0m\n"
      ]
     },
     "execution_count": 157,
     "metadata": {},
     "output_type": "execute_result"
    }
   ],
   "source": [
    "print('Prueba')\n",
    "robot.fkine(prediction[0])"
   ]
  },
  {
   "cell_type": "code",
   "execution_count": 158,
   "metadata": {},
   "outputs": [
    {
     "name": "stdout",
     "output_type": "stream",
     "text": [
      "Real\n"
     ]
    },
    {
     "data": {
      "text/plain": [
       "  \u001b[38;5;1m-0.324   \u001b[0m \u001b[38;5;1m-0.3726  \u001b[0m \u001b[38;5;1m 0.8696  \u001b[0m \u001b[38;5;4m 0.1631  \u001b[0m  \u001b[0m\n",
       "  \u001b[38;5;1m 0.02021 \u001b[0m \u001b[38;5;1m 0.9162  \u001b[0m \u001b[38;5;1m 0.4002  \u001b[0m \u001b[38;5;4m-0.2979  \u001b[0m  \u001b[0m\n",
       "  \u001b[38;5;1m-0.9458  \u001b[0m \u001b[38;5;1m 0.1472  \u001b[0m \u001b[38;5;1m-0.2894  \u001b[0m \u001b[38;5;4m 0.6321  \u001b[0m  \u001b[0m\n",
       "  \u001b[38;5;244m 0       \u001b[0m \u001b[38;5;244m 0       \u001b[0m \u001b[38;5;244m 0       \u001b[0m \u001b[38;5;244m 1       \u001b[0m  \u001b[0m\n"
      ]
     },
     "execution_count": 158,
     "metadata": {},
     "output_type": "execute_result"
    }
   ],
   "source": [
    "print('Real')\n",
    "robot.fkine([-1.2725,\t0.1765,\t-0.2675,\t1.2871\t,1.7241\t,1.7746])"
   ]
  },
  {
   "cell_type": "code",
   "execution_count": 21,
   "metadata": {},
   "outputs": [
    {
     "data": {
      "text/plain": [
       "0.23964545621500213"
      ]
     },
     "execution_count": 21,
     "metadata": {},
     "output_type": "execute_result"
    }
   ],
   "source": [
    "metrics.r2_score(y_test, y_pred)"
   ]
  }
 ],
 "metadata": {
  "kernelspec": {
   "display_name": "Python 3",
   "language": "python",
   "name": "python3"
  },
  "language_info": {
   "codemirror_mode": {
    "name": "ipython",
    "version": 3
   },
   "file_extension": ".py",
   "mimetype": "text/x-python",
   "name": "python",
   "nbconvert_exporter": "python",
   "pygments_lexer": "ipython3",
   "version": "3.10.6"
  },
  "orig_nbformat": 4
 },
 "nbformat": 4,
 "nbformat_minor": 2
}
