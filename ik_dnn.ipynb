{
 "cells": [
  {
   "cell_type": "code",
   "execution_count": 179,
   "metadata": {},
   "outputs": [],
   "source": [
    "import numpy as np\n",
    "import sympy as sp\n",
    "import roboticstoolbox as rtb\n",
    "import pandas as pd\n",
    "import torch\n",
    "from torch import nn\n",
    "from sklearn.model_selection import train_test_split\n",
    "from torch.utils.data import Dataset, DataLoader\n",
    "import matplotlib.pyplot as plt\n",
    "from sklearn import metrics"
   ]
  },
  {
   "attachments": {},
   "cell_type": "markdown",
   "metadata": {},
   "source": [
    "### Matrices de transformacion"
   ]
  },
  {
   "cell_type": "code",
   "execution_count": 2,
   "metadata": {},
   "outputs": [],
   "source": [
    "def sTrasl(x, y, z):\n",
    "    \"\"\" Transformación homogénea que representa traslación pura\n",
    "    \"\"\"\n",
    "    T = sp.Matrix([[1,0,0,x],\n",
    "                   [0,1,0,y],\n",
    "                   [0,0,1,z],\n",
    "                   [0,0,0,1]])\n",
    "    return T\n",
    "\n",
    "def sTrotx(ang):\n",
    "    \"\"\" Transformación homogénea que representa rotación alrededor de x\n",
    "    \"\"\"\n",
    "    T = sp.Matrix([[1, 0,0,0],\n",
    "                   [0, sp.cos(ang),-sp.sin(ang),0],\n",
    "                   [0, sp.sin(ang), sp.cos(ang),0],\n",
    "                   [0, 0, 0, 1]])\n",
    "    return T\n",
    "\n",
    "def sTrotz(ang):\n",
    "    \"\"\" Transformación homogénea que representa rotación alrededor de z\n",
    "    \"\"\"\n",
    "    T = sp.Matrix([[sp.cos(ang),-sp.sin(ang),0,0],\n",
    "                   [sp.sin(ang), sp.cos(ang),0,0],\n",
    "                   [0,0,1,0],\n",
    "                   [0,0,0,1]])\n",
    "    return T"
   ]
  },
  {
   "cell_type": "code",
   "execution_count": 3,
   "metadata": {},
   "outputs": [
    {
     "name": "stdout",
     "output_type": "stream",
     "text": [
      "T01:\n"
     ]
    },
    {
     "data": {
      "text/latex": [
       "$\\displaystyle \\left[\\begin{matrix}\\cos{\\left(q_{1} \\right)} & 0 & - \\sin{\\left(q_{1} \\right)} & 0\\\\\\sin{\\left(q_{1} \\right)} & 0 & \\cos{\\left(q_{1} \\right)} & 0\\\\0 & -1 & 0 & l_{1}\\\\0 & 0 & 0 & 1\\end{matrix}\\right]$"
      ],
      "text/plain": [
       "Matrix([\n",
       "[cos(q1),  0, -sin(q1),  0],\n",
       "[sin(q1),  0,  cos(q1),  0],\n",
       "[      0, -1,        0, l1],\n",
       "[      0,  0,        0,  1]])"
      ]
     },
     "metadata": {},
     "output_type": "display_data"
    },
    {
     "name": "stdout",
     "output_type": "stream",
     "text": [
      "T12:\n"
     ]
    },
    {
     "data": {
      "text/latex": [
       "$\\displaystyle \\left[\\begin{matrix}\\sin{\\left(q_{2} \\right)} & \\cos{\\left(q_{2} \\right)} & 0 & l_{2} \\sin{\\left(q_{2} \\right)}\\\\- \\cos{\\left(q_{2} \\right)} & \\sin{\\left(q_{2} \\right)} & 0 & - l_{2} \\cos{\\left(q_{2} \\right)}\\\\0 & 0 & 1 & 0\\\\0 & 0 & 0 & 1\\end{matrix}\\right]$"
      ],
      "text/plain": [
       "Matrix([\n",
       "[ sin(q2), cos(q2), 0,  l2*sin(q2)],\n",
       "[-cos(q2), sin(q2), 0, -l2*cos(q2)],\n",
       "[       0,       0, 1,           0],\n",
       "[       0,       0, 0,           1]])"
      ]
     },
     "metadata": {},
     "output_type": "display_data"
    },
    {
     "name": "stdout",
     "output_type": "stream",
     "text": [
      "T23:\n"
     ]
    },
    {
     "data": {
      "text/latex": [
       "$\\displaystyle \\left[\\begin{matrix}\\cos{\\left(q_{3} \\right)} & 0 & - \\sin{\\left(q_{3} \\right)} & l_{3} \\cos{\\left(q_{3} \\right)}\\\\\\sin{\\left(q_{3} \\right)} & 0 & \\cos{\\left(q_{3} \\right)} & l_{3} \\sin{\\left(q_{3} \\right)}\\\\0 & -1 & 0 & 0\\\\0 & 0 & 0 & 1\\end{matrix}\\right]$"
      ],
      "text/plain": [
       "Matrix([\n",
       "[cos(q3),  0, -sin(q3), l3*cos(q3)],\n",
       "[sin(q3),  0,  cos(q3), l3*sin(q3)],\n",
       "[      0, -1,        0,          0],\n",
       "[      0,  0,        0,          1]])"
      ]
     },
     "metadata": {},
     "output_type": "display_data"
    },
    {
     "name": "stdout",
     "output_type": "stream",
     "text": [
      "T34:\n"
     ]
    },
    {
     "data": {
      "text/latex": [
       "$\\displaystyle \\left[\\begin{matrix}\\cos{\\left(q_{4} \\right)} & 0 & \\sin{\\left(q_{4} \\right)} & 0\\\\\\sin{\\left(q_{4} \\right)} & 0 & - \\cos{\\left(q_{4} \\right)} & 0\\\\0 & 1 & 0 & l_{4}\\\\0 & 0 & 0 & 1\\end{matrix}\\right]$"
      ],
      "text/plain": [
       "Matrix([\n",
       "[cos(q4), 0,  sin(q4),  0],\n",
       "[sin(q4), 0, -cos(q4),  0],\n",
       "[      0, 1,        0, l4],\n",
       "[      0, 0,        0,  1]])"
      ]
     },
     "metadata": {},
     "output_type": "display_data"
    },
    {
     "name": "stdout",
     "output_type": "stream",
     "text": [
      "T45:\n"
     ]
    },
    {
     "data": {
      "text/latex": [
       "$\\displaystyle \\left[\\begin{matrix}\\cos{\\left(q_{5} \\right)} & 0 & - \\sin{\\left(q_{5} \\right)} & 0\\\\\\sin{\\left(q_{5} \\right)} & 0 & \\cos{\\left(q_{5} \\right)} & 0\\\\0 & -1 & 0 & 0\\\\0 & 0 & 0 & 1\\end{matrix}\\right]$"
      ],
      "text/plain": [
       "Matrix([\n",
       "[cos(q5),  0, -sin(q5), 0],\n",
       "[sin(q5),  0,  cos(q5), 0],\n",
       "[      0, -1,        0, 0],\n",
       "[      0,  0,        0, 1]])"
      ]
     },
     "metadata": {},
     "output_type": "display_data"
    },
    {
     "name": "stdout",
     "output_type": "stream",
     "text": [
      "T56:\n"
     ]
    },
    {
     "data": {
      "text/latex": [
       "$\\displaystyle \\left[\\begin{matrix}\\cos{\\left(q_{6} \\right)} & - \\sin{\\left(q_{6} \\right)} & 0 & 0\\\\\\sin{\\left(q_{6} \\right)} & \\cos{\\left(q_{6} \\right)} & 0 & 0\\\\0 & 0 & 1 & l_{6}\\\\0 & 0 & 0 & 1\\end{matrix}\\right]$"
      ],
      "text/plain": [
       "Matrix([\n",
       "[cos(q6), -sin(q6), 0,  0],\n",
       "[sin(q6),  cos(q6), 0,  0],\n",
       "[      0,        0, 1, l6],\n",
       "[      0,        0, 0,  1]])"
      ]
     },
     "metadata": {},
     "output_type": "display_data"
    }
   ],
   "source": [
    "# Variables que serán utilizadas\n",
    "q1, q2, q3, q4, q5, q6 = sp.symbols(\"q1 q2 q3 q4 q5 q6\")\n",
    "l1, l2, l3, l4, l5, l6 = sp.symbols(\"l1 l2 l3 l4 l5 l6\")\n",
    "\n",
    "cos, sin = sp.cos, sp.sin\n",
    "# Transformaciones con respecto al sistema anterior\n",
    "T01 = sp.Matrix([\n",
    "    [cos(q1), 0, -sin(q1), 0],\n",
    "    [sin(q1), 0, cos(q1), 0],\n",
    "    [0,-1,0, l1],\n",
    "    [0,0,0,1]\n",
    "])\n",
    " \n",
    "T12 = sp.Matrix([\n",
    "  [sin(q2), cos(q2), 0, l2*sin(q2)],\n",
    "  [-cos(q2), sin(q2), 0, -l2*cos(q2)],\n",
    "  [0,0,1,0],\n",
    "  [0,0,0,1]\n",
    "])\n",
    "\n",
    "T23 = sp.Matrix([\n",
    "    [cos(q3), 0, -sin(q3), l3*cos(q3)],\n",
    "    [sin(q3), 0, cos(q3), l3*sin(q3)],\n",
    "    [0,-1,0,0],\n",
    "    [0,0,0,1]\n",
    "])\n",
    "\n",
    "T34 = sp.Matrix([\n",
    "    [cos(q4), 0, sin(q4), 0],\n",
    "    [sin(q4), 0, -cos(q4), 0],\n",
    "    [0,1,0,l4],\n",
    "    [0,0,0,1]\n",
    "])\n",
    "\n",
    "T45 = sp.Matrix([\n",
    "    [cos(q5), 0, -sin(q5), 0],\n",
    "    [sin(q5), 0, cos(q5), 0],\n",
    "    [0, -1, 0, 0],\n",
    "    [0,0,0,1]\n",
    "])\n",
    "\n",
    "T56 = sp.Matrix([\n",
    "    [cos(q6), -sin(q6), 0, 0],\n",
    "    [sin(q6), cos(q6), 0,0],\n",
    "    [0,0,1,l6],\n",
    "    [0,0,0,1]\n",
    "])\n",
    "\n",
    "T06 = sp.simplify(T01*T12*T23*T34*T45*T56)\n",
    "\n",
    "print(\"T01:\"); display(T01)\n",
    "print(\"T12:\"); display(T12)\n",
    "print(\"T23:\"); display(T23)\n",
    "print(\"T34:\"); display(T34)\n",
    "print(\"T45:\"); display(T45)\n",
    "print(\"T56:\"); display(T56)"
   ]
  },
  {
   "attachments": {},
   "cell_type": "markdown",
   "metadata": {},
   "source": [
    "#### Matriz de transformacion de todo el robot"
   ]
  },
  {
   "cell_type": "code",
   "execution_count": 4,
   "metadata": {},
   "outputs": [
    {
     "name": "stdout",
     "output_type": "stream",
     "text": [
      "T06:\n"
     ]
    },
    {
     "data": {
      "text/latex": [
       "$\\displaystyle \\left[\\begin{matrix}\\left(\\left(\\sin{\\left(q_{1} \\right)} \\sin{\\left(q_{4} \\right)} + \\sin{\\left(q_{2} + q_{3} \\right)} \\cos{\\left(q_{1} \\right)} \\cos{\\left(q_{4} \\right)}\\right) \\cos{\\left(q_{5} \\right)} + \\sin{\\left(q_{5} \\right)} \\cos{\\left(q_{1} \\right)} \\cos{\\left(q_{2} + q_{3} \\right)}\\right) \\cos{\\left(q_{6} \\right)} - \\left(- \\sin{\\left(q_{1} \\right)} \\cos{\\left(q_{4} \\right)} + \\sin{\\left(q_{4} \\right)} \\sin{\\left(q_{2} + q_{3} \\right)} \\cos{\\left(q_{1} \\right)}\\right) \\sin{\\left(q_{6} \\right)} & - \\left(\\left(\\sin{\\left(q_{1} \\right)} \\sin{\\left(q_{4} \\right)} + \\sin{\\left(q_{2} + q_{3} \\right)} \\cos{\\left(q_{1} \\right)} \\cos{\\left(q_{4} \\right)}\\right) \\cos{\\left(q_{5} \\right)} + \\sin{\\left(q_{5} \\right)} \\cos{\\left(q_{1} \\right)} \\cos{\\left(q_{2} + q_{3} \\right)}\\right) \\sin{\\left(q_{6} \\right)} + \\left(\\sin{\\left(q_{1} \\right)} \\cos{\\left(q_{4} \\right)} - \\sin{\\left(q_{4} \\right)} \\sin{\\left(q_{2} + q_{3} \\right)} \\cos{\\left(q_{1} \\right)}\\right) \\cos{\\left(q_{6} \\right)} & - \\left(\\sin{\\left(q_{1} \\right)} \\sin{\\left(q_{4} \\right)} + \\sin{\\left(q_{2} + q_{3} \\right)} \\cos{\\left(q_{1} \\right)} \\cos{\\left(q_{4} \\right)}\\right) \\sin{\\left(q_{5} \\right)} + \\cos{\\left(q_{1} \\right)} \\cos{\\left(q_{5} \\right)} \\cos{\\left(q_{2} + q_{3} \\right)} & l_{2} \\sin{\\left(q_{2} \\right)} \\cos{\\left(q_{1} \\right)} + l_{3} \\sin{\\left(q_{2} + q_{3} \\right)} \\cos{\\left(q_{1} \\right)} + l_{4} \\cos{\\left(q_{1} \\right)} \\cos{\\left(q_{2} + q_{3} \\right)} - l_{6} \\sin{\\left(q_{1} \\right)} \\sin{\\left(q_{4} \\right)} \\sin{\\left(q_{5} \\right)} - l_{6} \\sin{\\left(q_{5} \\right)} \\sin{\\left(q_{2} + q_{3} \\right)} \\cos{\\left(q_{1} \\right)} \\cos{\\left(q_{4} \\right)} + l_{6} \\cos{\\left(q_{1} \\right)} \\cos{\\left(q_{5} \\right)} \\cos{\\left(q_{2} + q_{3} \\right)}\\\\\\left(\\left(\\sin{\\left(q_{1} \\right)} \\sin{\\left(q_{2} + q_{3} \\right)} \\cos{\\left(q_{4} \\right)} - \\sin{\\left(q_{4} \\right)} \\cos{\\left(q_{1} \\right)}\\right) \\cos{\\left(q_{5} \\right)} + \\sin{\\left(q_{1} \\right)} \\sin{\\left(q_{5} \\right)} \\cos{\\left(q_{2} + q_{3} \\right)}\\right) \\cos{\\left(q_{6} \\right)} - \\left(\\sin{\\left(q_{1} \\right)} \\sin{\\left(q_{4} \\right)} \\sin{\\left(q_{2} + q_{3} \\right)} + \\cos{\\left(q_{1} \\right)} \\cos{\\left(q_{4} \\right)}\\right) \\sin{\\left(q_{6} \\right)} & - \\left(\\left(\\sin{\\left(q_{1} \\right)} \\sin{\\left(q_{2} + q_{3} \\right)} \\cos{\\left(q_{4} \\right)} - \\sin{\\left(q_{4} \\right)} \\cos{\\left(q_{1} \\right)}\\right) \\cos{\\left(q_{5} \\right)} + \\sin{\\left(q_{1} \\right)} \\sin{\\left(q_{5} \\right)} \\cos{\\left(q_{2} + q_{3} \\right)}\\right) \\sin{\\left(q_{6} \\right)} - \\left(\\sin{\\left(q_{1} \\right)} \\sin{\\left(q_{4} \\right)} \\sin{\\left(q_{2} + q_{3} \\right)} + \\cos{\\left(q_{1} \\right)} \\cos{\\left(q_{4} \\right)}\\right) \\cos{\\left(q_{6} \\right)} & - \\left(\\sin{\\left(q_{1} \\right)} \\sin{\\left(q_{2} + q_{3} \\right)} \\cos{\\left(q_{4} \\right)} - \\sin{\\left(q_{4} \\right)} \\cos{\\left(q_{1} \\right)}\\right) \\sin{\\left(q_{5} \\right)} + \\sin{\\left(q_{1} \\right)} \\cos{\\left(q_{5} \\right)} \\cos{\\left(q_{2} + q_{3} \\right)} & l_{2} \\sin{\\left(q_{1} \\right)} \\sin{\\left(q_{2} \\right)} + l_{3} \\sin{\\left(q_{1} \\right)} \\sin{\\left(q_{2} + q_{3} \\right)} + l_{4} \\sin{\\left(q_{1} \\right)} \\cos{\\left(q_{2} + q_{3} \\right)} - l_{6} \\sin{\\left(q_{1} \\right)} \\sin{\\left(q_{5} \\right)} \\sin{\\left(q_{2} + q_{3} \\right)} \\cos{\\left(q_{4} \\right)} + l_{6} \\sin{\\left(q_{1} \\right)} \\cos{\\left(q_{5} \\right)} \\cos{\\left(q_{2} + q_{3} \\right)} + l_{6} \\sin{\\left(q_{4} \\right)} \\sin{\\left(q_{5} \\right)} \\cos{\\left(q_{1} \\right)}\\\\- \\left(\\sin{\\left(q_{5} \\right)} \\sin{\\left(q_{2} + q_{3} \\right)} - \\cos{\\left(q_{4} \\right)} \\cos{\\left(q_{5} \\right)} \\cos{\\left(q_{2} + q_{3} \\right)}\\right) \\cos{\\left(q_{6} \\right)} - \\sin{\\left(q_{4} \\right)} \\sin{\\left(q_{6} \\right)} \\cos{\\left(q_{2} + q_{3} \\right)} & \\left(\\sin{\\left(q_{5} \\right)} \\sin{\\left(q_{2} + q_{3} \\right)} - \\cos{\\left(q_{4} \\right)} \\cos{\\left(q_{5} \\right)} \\cos{\\left(q_{2} + q_{3} \\right)}\\right) \\sin{\\left(q_{6} \\right)} - \\sin{\\left(q_{4} \\right)} \\cos{\\left(q_{6} \\right)} \\cos{\\left(q_{2} + q_{3} \\right)} & - \\sin{\\left(q_{5} \\right)} \\cos{\\left(q_{4} \\right)} \\cos{\\left(q_{2} + q_{3} \\right)} - \\sin{\\left(q_{2} + q_{3} \\right)} \\cos{\\left(q_{5} \\right)} & l_{1} + l_{2} \\cos{\\left(q_{2} \\right)} + l_{3} \\cos{\\left(q_{2} + q_{3} \\right)} - l_{4} \\sin{\\left(q_{2} + q_{3} \\right)} - l_{6} \\sin{\\left(q_{5} \\right)} \\cos{\\left(q_{4} \\right)} \\cos{\\left(q_{2} + q_{3} \\right)} - l_{6} \\sin{\\left(q_{2} + q_{3} \\right)} \\cos{\\left(q_{5} \\right)}\\\\0 & 0 & 0 & 1\\end{matrix}\\right]$"
      ],
      "text/plain": [
       "Matrix([\n",
       "[((sin(q1)*sin(q4) + sin(q2 + q3)*cos(q1)*cos(q4))*cos(q5) + sin(q5)*cos(q1)*cos(q2 + q3))*cos(q6) - (-sin(q1)*cos(q4) + sin(q4)*sin(q2 + q3)*cos(q1))*sin(q6), -((sin(q1)*sin(q4) + sin(q2 + q3)*cos(q1)*cos(q4))*cos(q5) + sin(q5)*cos(q1)*cos(q2 + q3))*sin(q6) + (sin(q1)*cos(q4) - sin(q4)*sin(q2 + q3)*cos(q1))*cos(q6), -(sin(q1)*sin(q4) + sin(q2 + q3)*cos(q1)*cos(q4))*sin(q5) + cos(q1)*cos(q5)*cos(q2 + q3), l2*sin(q2)*cos(q1) + l3*sin(q2 + q3)*cos(q1) + l4*cos(q1)*cos(q2 + q3) - l6*sin(q1)*sin(q4)*sin(q5) - l6*sin(q5)*sin(q2 + q3)*cos(q1)*cos(q4) + l6*cos(q1)*cos(q5)*cos(q2 + q3)],\n",
       "[ ((sin(q1)*sin(q2 + q3)*cos(q4) - sin(q4)*cos(q1))*cos(q5) + sin(q1)*sin(q5)*cos(q2 + q3))*cos(q6) - (sin(q1)*sin(q4)*sin(q2 + q3) + cos(q1)*cos(q4))*sin(q6), -((sin(q1)*sin(q2 + q3)*cos(q4) - sin(q4)*cos(q1))*cos(q5) + sin(q1)*sin(q5)*cos(q2 + q3))*sin(q6) - (sin(q1)*sin(q4)*sin(q2 + q3) + cos(q1)*cos(q4))*cos(q6), -(sin(q1)*sin(q2 + q3)*cos(q4) - sin(q4)*cos(q1))*sin(q5) + sin(q1)*cos(q5)*cos(q2 + q3), l2*sin(q1)*sin(q2) + l3*sin(q1)*sin(q2 + q3) + l4*sin(q1)*cos(q2 + q3) - l6*sin(q1)*sin(q5)*sin(q2 + q3)*cos(q4) + l6*sin(q1)*cos(q5)*cos(q2 + q3) + l6*sin(q4)*sin(q5)*cos(q1)],\n",
       "[                                                                -(sin(q5)*sin(q2 + q3) - cos(q4)*cos(q5)*cos(q2 + q3))*cos(q6) - sin(q4)*sin(q6)*cos(q2 + q3),                                                                  (sin(q5)*sin(q2 + q3) - cos(q4)*cos(q5)*cos(q2 + q3))*sin(q6) - sin(q4)*cos(q6)*cos(q2 + q3),                                     -sin(q5)*cos(q4)*cos(q2 + q3) - sin(q2 + q3)*cos(q5),                                                                 l1 + l2*cos(q2) + l3*cos(q2 + q3) - l4*sin(q2 + q3) - l6*sin(q5)*cos(q4)*cos(q2 + q3) - l6*sin(q2 + q3)*cos(q5)],\n",
       "[                                                                                                                                                            0,                                                                                                                                                             0,                                                                                        0,                                                                                                                                                                               1]])"
      ]
     },
     "metadata": {},
     "output_type": "display_data"
    }
   ],
   "source": [
    "print(\"T06:\"); display(T06)"
   ]
  },
  {
   "attachments": {},
   "cell_type": "markdown",
   "metadata": {},
   "source": [
    "### Clase y parametros DH para el robot con roboticstoolbox"
   ]
  },
  {
   "cell_type": "code",
   "execution_count": 5,
   "metadata": {},
   "outputs": [
    {
     "data": {
      "text/plain": [
       "DHRobot: IRB 120, 6 joints (RRRRRR), dynamics, standard DH parameters\n",
       "┌──────────┬───────┬──────┬────────┐\n",
       "│   θⱼ     │  dⱼ   │  aⱼ  │   ⍺ⱼ   │\n",
       "├──────────┼───────┼──────┼────────┤\n",
       "│ q1\u001b[0m       │  0.29\u001b[0m │    0\u001b[0m │ -90.0°\u001b[0m │\n",
       "│ q2 - 90°\u001b[0m │     0\u001b[0m │ 0.27\u001b[0m │   0.0°\u001b[0m │\n",
       "│ q3\u001b[0m       │     0\u001b[0m │ 0.07\u001b[0m │ -90.0°\u001b[0m │\n",
       "│ q4\u001b[0m       │ 0.302\u001b[0m │    0\u001b[0m │  90.0°\u001b[0m │\n",
       "│ q5\u001b[0m       │     0\u001b[0m │    0\u001b[0m │ -90.0°\u001b[0m │\n",
       "│ q6\u001b[0m       │ 0.072\u001b[0m │    0\u001b[0m │   0.0°\u001b[0m │\n",
       "└──────────┴───────┴──────┴────────┘\n",
       "\n",
       "┌─┬──┐\n",
       "└─┴──┘"
      ]
     },
     "execution_count": 5,
     "metadata": {},
     "output_type": "execute_result"
    }
   ],
   "source": [
    "class IRB120(rtb.DHRobot):\n",
    "\n",
    "    q0 = [0,0,0,0,0,0] #Valores de q para posicion inicial\n",
    "    \n",
    "    def __init__(self):\n",
    "        super().__init__(                \n",
    "                [\n",
    "                    rtb.RevoluteDH(offset=0, d=0.290, a=0,alpha=-np.pi/2),\n",
    "                    rtb.RevoluteDH(offset=-np.pi/2, d=0, a=0.27,alpha=0),\n",
    "                    rtb.RevoluteDH(offset=0, d=0, a=0.07,alpha=-np.pi/2),\n",
    "                    rtb.RevoluteDH(offset=0, d=0.302, a=0,alpha=np.pi/2),\n",
    "                    rtb.RevoluteDH(offset=0, d=0, a=0,alpha=-np.pi/2),\n",
    "                    rtb.RevoluteDH(offset=0, d=0.072, a=0,alpha=0),\n",
    "                ], name=\"IRB 120\"\n",
    "                        )\n",
    "robot = IRB120()\n",
    "robot"
   ]
  },
  {
   "cell_type": "code",
   "execution_count": 6,
   "metadata": {},
   "outputs": [
    {
     "data": {
      "text/plain": [
       "  \u001b[38;5;1m-0.8055  \u001b[0m \u001b[38;5;1m 0.07948 \u001b[0m \u001b[38;5;1m-0.5873  \u001b[0m \u001b[38;5;4m-0.04132 \u001b[0m  \u001b[0m\n",
       "  \u001b[38;5;1m-0.01848 \u001b[0m \u001b[38;5;1m 0.9871  \u001b[0m \u001b[38;5;1m 0.1589  \u001b[0m \u001b[38;5;4m-0.004371\u001b[0m  \u001b[0m\n",
       "  \u001b[38;5;1m 0.5923  \u001b[0m \u001b[38;5;1m 0.1389  \u001b[0m \u001b[38;5;1m-0.7936  \u001b[0m \u001b[38;5;4m 0.1932  \u001b[0m  \u001b[0m\n",
       "  \u001b[38;5;244m 0       \u001b[0m \u001b[38;5;244m 0       \u001b[0m \u001b[38;5;244m 0       \u001b[0m \u001b[38;5;244m 1       \u001b[0m  \u001b[0m\n"
      ]
     },
     "execution_count": 6,
     "metadata": {},
     "output_type": "execute_result"
    }
   ],
   "source": [
    "robot.fkine([-1.51, -0.763, 1.85, -0.817, 0.9120, 2.320])"
   ]
  },
  {
   "cell_type": "code",
   "execution_count": 7,
   "metadata": {},
   "outputs": [
    {
     "data": {
      "text/plain": [
       "array([[-0.80691514,  0.0633539 , -0.58725994, -0.04132001],\n",
       "       [-0.03821904,  0.98654765,  0.15894353, -0.00437144],\n",
       "       [ 0.5894296 ,  0.15069845, -0.79363891,  0.19322372],\n",
       "       [ 0.        ,  0.        ,  0.        ,  1.        ]])"
      ]
     },
     "execution_count": 7,
     "metadata": {},
     "output_type": "execute_result"
    }
   ],
   "source": [
    "t06 = T06.evalf(subs={q1:-1.51, q2:-0.763, q3:1.85, q4:-0.817, q5:0.912, q6:2.3, l1: 0.29, l2:0.27, l3:0.07, l4:0.302, l5:0, l6:0.072})\n",
    "final = np.array(t06).astype(np.float64)\n",
    "final"
   ]
  },
  {
   "attachments": {},
   "cell_type": "markdown",
   "metadata": {},
   "source": [
    "### Lectura de datos"
   ]
  },
  {
   "cell_type": "code",
   "execution_count": 201,
   "metadata": {},
   "outputs": [
    {
     "data": {
      "text/html": [
       "<div>\n",
       "<style scoped>\n",
       "    .dataframe tbody tr th:only-of-type {\n",
       "        vertical-align: middle;\n",
       "    }\n",
       "\n",
       "    .dataframe tbody tr th {\n",
       "        vertical-align: top;\n",
       "    }\n",
       "\n",
       "    .dataframe thead th {\n",
       "        text-align: right;\n",
       "    }\n",
       "</style>\n",
       "<table border=\"1\" class=\"dataframe\">\n",
       "  <thead>\n",
       "    <tr style=\"text-align: right;\">\n",
       "      <th></th>\n",
       "      <th>Q1</th>\n",
       "      <th>Q2</th>\n",
       "      <th>Q3</th>\n",
       "      <th>Q4</th>\n",
       "      <th>Q5</th>\n",
       "      <th>Q6</th>\n",
       "      <th>X</th>\n",
       "      <th>Y</th>\n",
       "      <th>Z</th>\n",
       "    </tr>\n",
       "  </thead>\n",
       "  <tbody>\n",
       "    <tr>\n",
       "      <th>0</th>\n",
       "      <td>2.0719</td>\n",
       "      <td>0.3370</td>\n",
       "      <td>1.4658</td>\n",
       "      <td>1.0830</td>\n",
       "      <td>-0.6027</td>\n",
       "      <td>-0.0833</td>\n",
       "      <td>-0.01303</td>\n",
       "      <td>0.09884</td>\n",
       "      <td>0.17269</td>\n",
       "    </tr>\n",
       "    <tr>\n",
       "      <th>1</th>\n",
       "      <td>2.5567</td>\n",
       "      <td>-1.3228</td>\n",
       "      <td>0.2362</td>\n",
       "      <td>-1.1321</td>\n",
       "      <td>-0.2603</td>\n",
       "      <td>-2.8035</td>\n",
       "      <td>0.12222</td>\n",
       "      <td>-0.10105</td>\n",
       "      <td>0.72139</td>\n",
       "    </tr>\n",
       "    <tr>\n",
       "      <th>2</th>\n",
       "      <td>0.8895</td>\n",
       "      <td>0.4842</td>\n",
       "      <td>1.5584</td>\n",
       "      <td>-0.0810</td>\n",
       "      <td>-0.9872</td>\n",
       "      <td>-3.0114</td>\n",
       "      <td>0.05044</td>\n",
       "      <td>0.06993</td>\n",
       "      <td>0.16558</td>\n",
       "    </tr>\n",
       "    <tr>\n",
       "      <th>3</th>\n",
       "      <td>2.2722</td>\n",
       "      <td>-0.2935</td>\n",
       "      <td>0.2632</td>\n",
       "      <td>0.3556</td>\n",
       "      <td>1.4149</td>\n",
       "      <td>-0.6962</td>\n",
       "      <td>-0.17045</td>\n",
       "      <td>0.16341</td>\n",
       "      <td>0.56126</td>\n",
       "    </tr>\n",
       "    <tr>\n",
       "      <th>4</th>\n",
       "      <td>0.6049</td>\n",
       "      <td>-1.2290</td>\n",
       "      <td>1.1041</td>\n",
       "      <td>-0.9225</td>\n",
       "      <td>1.5361</td>\n",
       "      <td>2.5172</td>\n",
       "      <td>0.06917</td>\n",
       "      <td>-0.02191</td>\n",
       "      <td>0.44478</td>\n",
       "    </tr>\n",
       "  </tbody>\n",
       "</table>\n",
       "</div>"
      ],
      "text/plain": [
       "       Q1      Q2      Q3      Q4      Q5      Q6        X        Y        Z\n",
       "0  2.0719  0.3370  1.4658  1.0830 -0.6027 -0.0833 -0.01303  0.09884  0.17269\n",
       "1  2.5567 -1.3228  0.2362 -1.1321 -0.2603 -2.8035  0.12222 -0.10105  0.72139\n",
       "2  0.8895  0.4842  1.5584 -0.0810 -0.9872 -3.0114  0.05044  0.06993  0.16558\n",
       "3  2.2722 -0.2935  0.2632  0.3556  1.4149 -0.6962 -0.17045  0.16341  0.56126\n",
       "4  0.6049 -1.2290  1.1041 -0.9225  1.5361  2.5172  0.06917 -0.02191  0.44478"
      ]
     },
     "execution_count": 201,
     "metadata": {},
     "output_type": "execute_result"
    }
   ],
   "source": [
    "data = pd.read_csv('datos_IRB120.csv')\n",
    "data.head()"
   ]
  },
  {
   "cell_type": "code",
   "execution_count": 203,
   "metadata": {},
   "outputs": [
    {
     "data": {
      "text/plain": [
       "  \u001b[38;5;1m-0.9099  \u001b[0m \u001b[38;5;1m 0.1639  \u001b[0m \u001b[38;5;1m-0.381   \u001b[0m \u001b[38;5;4m-0.1704  \u001b[0m  \u001b[0m\n",
       "  \u001b[38;5;1m 0.2099  \u001b[0m \u001b[38;5;1m 0.9743  \u001b[0m \u001b[38;5;1m-0.08194 \u001b[0m \u001b[38;5;4m 0.1634  \u001b[0m  \u001b[0m\n",
       "  \u001b[38;5;1m 0.3578  \u001b[0m \u001b[38;5;1m-0.1545  \u001b[0m \u001b[38;5;1m-0.9209  \u001b[0m \u001b[38;5;4m 0.5613  \u001b[0m  \u001b[0m\n",
       "  \u001b[38;5;244m 0       \u001b[0m \u001b[38;5;244m 0       \u001b[0m \u001b[38;5;244m 0       \u001b[0m \u001b[38;5;244m 1       \u001b[0m  \u001b[0m\n"
      ]
     },
     "execution_count": 203,
     "metadata": {},
     "output_type": "execute_result"
    }
   ],
   "source": [
    "robot.fkine([2.2722,\t-0.2935,\t0.2632,\t0.3556,\t1.4149,\t-0.6962])"
   ]
  },
  {
   "attachments": {},
   "cell_type": "markdown",
   "metadata": {},
   "source": [
    "#### Separando datos de labels"
   ]
  },
  {
   "cell_type": "code",
   "execution_count": 204,
   "metadata": {},
   "outputs": [
    {
     "data": {
      "text/plain": [
       "(100000, 9)"
      ]
     },
     "execution_count": 204,
     "metadata": {},
     "output_type": "execute_result"
    }
   ],
   "source": [
    "data.shape"
   ]
  },
  {
   "cell_type": "code",
   "execution_count": 205,
   "metadata": {},
   "outputs": [],
   "source": [
    "X = data.loc[:, ['X', 'Y', 'Z']]\n",
    "y = data.loc[:,['Q1', 'Q2', 'Q3', 'Q4', 'Q5', 'Q6']]"
   ]
  },
  {
   "cell_type": "code",
   "execution_count": 206,
   "metadata": {},
   "outputs": [
    {
     "data": {
      "text/plain": [
       "(100000, 3)"
      ]
     },
     "execution_count": 206,
     "metadata": {},
     "output_type": "execute_result"
    }
   ],
   "source": [
    "X.shape"
   ]
  },
  {
   "cell_type": "code",
   "execution_count": 207,
   "metadata": {},
   "outputs": [],
   "source": [
    "device = \"cuda\" if torch.cuda.is_available() else \"cpu\"\n",
    "\n",
    "X_tensors = torch.from_numpy(X.values).float().to(device)\n",
    "y_tensors = torch.from_numpy(y.values).float().to(device)\n",
    "\n",
    "X_train, X_test, y_train, y_test = train_test_split(X_tensors, y_tensors, test_size=0.2, train_size=0.8, random_state=12)"
   ]
  },
  {
   "cell_type": "code",
   "execution_count": 209,
   "metadata": {},
   "outputs": [
    {
     "data": {
      "text/plain": [
       "torch.Size([20000, 3])"
      ]
     },
     "execution_count": 209,
     "metadata": {},
     "output_type": "execute_result"
    }
   ],
   "source": [
    "X_test.shape"
   ]
  },
  {
   "cell_type": "code",
   "execution_count": 125,
   "metadata": {},
   "outputs": [],
   "source": [
    "class IRB120_dataset(Dataset):\n",
    "\n",
    "    def __init__(self, X_train, y_train):\n",
    "        self.x_data, self.y_data = X_train, y_train\n",
    "  \n",
    "    def __getitem__(self, i):\n",
    "        return self.x_data[i], self.y_data[i]\n",
    "\n",
    "    def __len__(self):\n",
    "      return len(self.y_data)\n",
    "\n",
    "IRB_120_data = IRB120_dataset(X_train, y_train)"
   ]
  },
  {
   "cell_type": "code",
   "execution_count": 160,
   "metadata": {},
   "outputs": [],
   "source": [
    "batch_size = 5000\n",
    "loader = DataLoader(dataset=IRB_120_data, batch_size=batch_size, shuffle=True)"
   ]
  },
  {
   "cell_type": "code",
   "execution_count": 215,
   "metadata": {},
   "outputs": [],
   "source": [
    "class IK_IRB120(nn.Module):\n",
    "\n",
    "  def __init__(self):\n",
    "    super(IK_IRB120, self).__init__()\n",
    "    # input layer\n",
    "    self.input_layer_to_hidden_layer_1 = nn.Linear(3, 8, bias=True)\n",
    "    # relu 1\n",
    "    self.relu1 = nn.ReLU()\n",
    "\n",
    "    # hidden layer 1\n",
    "    self.hidden_layer_1_to_hidden_layer_2 = nn.Linear(8, 12, bias=True)\n",
    "    # relu 2\n",
    "    self.relu2 = nn.ReLU()\n",
    "\n",
    "    # hidden layer 2\n",
    "    self.hidden_layer_2_to_hidden_layer_3 = nn.Linear(12, 16, bias = True)\n",
    "    self.relu3 = nn.ReLU()\n",
    "\n",
    "     # hidden layer 3\n",
    "    self.hidden_layer_3_to_hidden_layer_4 = nn.Linear(16, 20, bias = True)\n",
    "    self.relu3 = nn.ReLU()\n",
    "\n",
    "     # hidden layer 4\n",
    "    self.hidden_layer_4_to_hidden_layer_5 = nn.Linear(20, 12, bias = True)\n",
    "    self.relu3 = nn.ReLU()\n",
    "\n",
    "    # hidden layer 5\n",
    "    self.hidden_layer_5_to_output_layer = nn.Linear(12, 6, bias = True)\n",
    "    # Softmax\n",
    "    self.softmax = nn.Softmax()\n",
    "\n",
    "  def forward(self, input):\n",
    "\n",
    "    # input layer\n",
    "    linear_combination1 = self.input_layer_to_hidden_layer_1(input)\n",
    "    intermediate_relu1 = self.relu1(linear_combination1)\n",
    "\n",
    "    # hidden layer 1\n",
    "    linear_combination2 = self.hidden_layer_1_to_hidden_layer_2(intermediate_relu1)\n",
    "    intermediate_relu2 = self.relu2(linear_combination2)\n",
    "\n",
    "    # hidden layer 2\n",
    "    linear_combination3 = self.hidden_layer_2_to_hidden_layer_3(intermediate_relu2)\n",
    "    intermediate_relu3 = self.relu3(linear_combination3)\n",
    "\n",
    "    # hidden layer 3\n",
    "    linear_combination3 = self.hidden_layer_3_to_hidden_layer_4(intermediate_relu3)\n",
    "    intermediate_relu4 = self.relu3(linear_combination3)\n",
    "\n",
    "    # hidden layer 4\n",
    "    linear_combination4 = self.hidden_layer_4_to_hidden_layer_5(intermediate_relu4)\n",
    "    intermediate_relu5 = self.relu3(linear_combination4)\n",
    "\n",
    "    # hidden layer 5\n",
    "    linear_combination5 = self.hidden_layer_5_to_output_layer(intermediate_relu5)\n",
    "    out = self.softmax(linear_combination5)\n",
    "\n",
    "    return out"
   ]
  },
  {
   "attachments": {},
   "cell_type": "markdown",
   "metadata": {},
   "source": [
    "#### Entrenamiento"
   ]
  },
  {
   "cell_type": "code",
   "execution_count": 190,
   "metadata": {},
   "outputs": [],
   "source": [
    "irb120 = IK_IRB120().to(device)"
   ]
  },
  {
   "cell_type": "code",
   "execution_count": 191,
   "metadata": {},
   "outputs": [
    {
     "name": "stderr",
     "output_type": "stream",
     "text": [
      "/tmp/ipykernel_5577/427489765.py:56: UserWarning: Implicit dimension choice for softmax has been deprecated. Change the call to include dim=X as an argument.\n",
      "  out = self.sofmax(linear_combination5)\n"
     ]
    },
    {
     "name": "stdout",
     "output_type": "stream",
     "text": [
      "Loss in Epoch 0: 1.4948912858963013\n",
      "Loss in Epoch 100: 1.2879130840301514\n",
      "Loss in Epoch 200: 1.2868791818618774\n",
      "Loss in Epoch 300: 1.2865325212478638\n",
      "Loss in Epoch 400: 1.28635835647583\n",
      "Loss in Epoch 500: 1.2862540483474731\n",
      "Loss in Epoch 600: 1.2861844301223755\n",
      "Loss in Epoch 700: 1.2861346006393433\n",
      "Loss in Epoch 800: 1.2860971689224243\n",
      "Loss in Epoch 900: 1.286068081855774\n"
     ]
    }
   ],
   "source": [
    "epochs = 1000\n",
    "optimizer = torch.optim.Adam(irb120.parameters(), lr = 0.01)\n",
    "loss_function = torch.nn.MSELoss()\n",
    "\n",
    "losses = []\n",
    "for epoch in range(epochs):\n",
    "  mini_batch_losses = []\n",
    "  for i, (features, labels) in enumerate(loader):\n",
    "   \n",
    "    Y_prediction = irb120.forward(features)\n",
    "\n",
    "    loss = loss_function(Y_prediction, labels) \n",
    "\n",
    "    irb120.zero_grad()\n",
    "\n",
    "    loss.backward()\n",
    "\n",
    "    optimizer.step()\n",
    "\n",
    "    # keep track of losses\n",
    "    mini_batch_losses.append(loss.detach().cpu().numpy()) # we can only execute numpy code on the cpu\n",
    "\n",
    "  mini_batch_mean_loss = np.mean(mini_batch_losses)\n",
    "  losses.append(mini_batch_mean_loss)\n",
    "  if epoch % 100 == 0:\n",
    "    print(f\"Loss in Epoch {epoch}: {np.mean(losses)}\")"
   ]
  },
  {
   "cell_type": "code",
   "execution_count": 192,
   "metadata": {},
   "outputs": [
    {
     "data": {
      "text/plain": [
       "[<matplotlib.lines.Line2D at 0x7fc7e4573940>]"
      ]
     },
     "execution_count": 192,
     "metadata": {},
     "output_type": "execute_result"
    },
    {
     "data": {
      "image/png": "[encoded data removed]",
      "text/plain": [
       "<Figure size 640x480 with 1 Axes>"
      ]
     },
     "metadata": {},
     "output_type": "display_data"
    }
   ],
   "source": [
    "plt.figure()\n",
    "plt.plot(losses)"
   ]
  },
  {
   "attachments": {},
   "cell_type": "markdown",
   "metadata": {},
   "source": [
    "#### Test"
   ]
  },
  {
   "cell_type": "code",
   "execution_count": 211,
   "metadata": {},
   "outputs": [
    {
     "name": "stderr",
     "output_type": "stream",
     "text": [
      "/tmp/ipykernel_5577/427489765.py:56: UserWarning: Implicit dimension choice for softmax has been deprecated. Change the call to include dim=X as an argument.\n",
      "  out = self.sofmax(linear_combination5)\n"
     ]
    }
   ],
   "source": [
    "y_test_predictions = irb120.forward(X_test)"
   ]
  },
  {
   "cell_type": "code",
   "execution_count": 212,
   "metadata": {},
   "outputs": [
    {
     "data": {
      "text/plain": [
       "1.2887995"
      ]
     },
     "execution_count": 212,
     "metadata": {},
     "output_type": "execute_result"
    }
   ],
   "source": [
    "metrics.mean_squared_error(y_test.detach().cpu().numpy(), y_test_predictions.detach().cpu().numpy())"
   ]
  },
  {
   "cell_type": "code",
   "execution_count": 213,
   "metadata": {},
   "outputs": [
    {
     "data": {
      "text/plain": [
       "0.9340578"
      ]
     },
     "execution_count": 213,
     "metadata": {},
     "output_type": "execute_result"
    }
   ],
   "source": [
    "metrics.mean_absolute_error(y_test.detach().cpu().numpy(), y_test_predictions.detach().cpu().numpy())"
   ]
  },
  {
   "cell_type": "code",
   "execution_count": 214,
   "metadata": {},
   "outputs": [
    {
     "name": "stderr",
     "output_type": "stream",
     "text": [
      "/tmp/ipykernel_5577/427489765.py:56: UserWarning: Implicit dimension choice for softmax has been deprecated. Change the call to include dim=X as an argument.\n",
      "  out = self.sofmax(linear_combination5)\n"
     ]
    },
    {
     "name": "stdout",
     "output_type": "stream",
     "text": [
      "Validation loss: 5.155\n"
     ]
    }
   ],
   "source": [
    "with torch.no_grad():\n",
    "    total_loss = 0.0\n",
    "    for data in y_train:\n",
    "        outputs = irb120.forward(X_test)\n",
    "        loss = loss_function(outputs, y_test)\n",
    "        total_loss += loss.item()\n",
    "\n",
    "    print('Validation loss: %.3f' % (total_loss / len(y_test)))"
   ]
  },
  {
   "cell_type": "code",
   "execution_count": 97,
   "metadata": {},
   "outputs": [
    {
     "data": {
      "text/plain": [
       "torch.Size([2000, 3])"
      ]
     },
     "execution_count": 97,
     "metadata": {},
     "output_type": "execute_result"
    }
   ],
   "source": [
    "X_test.shape"
   ]
  },
  {
   "cell_type": "code",
   "execution_count": 165,
   "metadata": {},
   "outputs": [
    {
     "name": "stderr",
     "output_type": "stream",
     "text": [
      "/tmp/ipykernel_5577/1296682034.py:39: UserWarning: Implicit dimension choice for softmax has been deprecated. Change the call to include dim=X as an argument.\n",
      "  out = self.sigmoid3(linear_combination4)\n"
     ]
    },
    {
     "data": {
      "text/plain": [
       "tensor([6.4980e-01, 6.0384e-03, 3.4416e-01, 2.1450e-09, 2.1755e-09, 3.6653e-09],\n",
       "       grad_fn=<SoftmaxBackward0>)"
      ]
     },
     "execution_count": 165,
     "metadata": {},
     "output_type": "execute_result"
    }
   ],
   "source": [
    "xd = torch.tensor([-0.01303, 0.09884, 0.1727])\n",
    "pp = irb120.forward(xd)\n",
    "pp"
   ]
  },
  {
   "cell_type": "code",
   "execution_count": 166,
   "metadata": {},
   "outputs": [
    {
     "data": {
      "text/plain": [
       "  \u001b[38;5;1m 0.2732  \u001b[0m \u001b[38;5;1m 0.605   \u001b[0m \u001b[38;5;1m 0.7479  \u001b[0m \u001b[38;5;4m 0.3001  \u001b[0m  \u001b[0m\n",
       "  \u001b[38;5;1m 0.2076  \u001b[0m \u001b[38;5;1m-0.7962  \u001b[0m \u001b[38;5;1m 0.5683  \u001b[0m \u001b[38;5;4m 0.2281  \u001b[0m  \u001b[0m\n",
       "  \u001b[38;5;1m 0.9393  \u001b[0m \u001b[38;5;1m-5.458e-09\u001b[0m \u001b[38;5;1m-0.3431  \u001b[0m \u001b[38;5;4m 0.4974  \u001b[0m  \u001b[0m\n",
       "  \u001b[38;5;244m 0       \u001b[0m \u001b[38;5;244m 0       \u001b[0m \u001b[38;5;244m 0       \u001b[0m \u001b[38;5;244m 1       \u001b[0m  \u001b[0m\n"
      ]
     },
     "execution_count": 166,
     "metadata": {},
     "output_type": "execute_result"
    }
   ],
   "source": [
    "robot.fkine(pp.detach().cpu().numpy())"
   ]
  },
  {
   "cell_type": "code",
   "execution_count": 149,
   "metadata": {},
   "outputs": [
    {
     "data": {
      "text/plain": [
       "  \u001b[38;5;1m 0.3252  \u001b[0m \u001b[38;5;1m 0.8541  \u001b[0m \u001b[38;5;1m 0.406   \u001b[0m \u001b[38;5;4m-0.01303 \u001b[0m  \u001b[0m\n",
       "  \u001b[38;5;1m 0.8347  \u001b[0m \u001b[38;5;1m-0.461   \u001b[0m \u001b[38;5;1m 0.3012  \u001b[0m \u001b[38;5;4m 0.09884 \u001b[0m  \u001b[0m\n",
       "  \u001b[38;5;1m 0.4444  \u001b[0m \u001b[38;5;1m 0.2409  \u001b[0m \u001b[38;5;1m-0.8628  \u001b[0m \u001b[38;5;4m 0.1727  \u001b[0m  \u001b[0m\n",
       "  \u001b[38;5;244m 0       \u001b[0m \u001b[38;5;244m 0       \u001b[0m \u001b[38;5;244m 0       \u001b[0m \u001b[38;5;244m 1       \u001b[0m  \u001b[0m\n"
      ]
     },
     "execution_count": 149,
     "metadata": {},
     "output_type": "execute_result"
    }
   ],
   "source": [
    "robot.fkine([2.0719,\t0.3370,\t1.4658,\t1.0830,\t-0.6027,\t-0.0833])"
   ]
  },
  {
   "cell_type": "code",
   "execution_count": 66,
   "metadata": {},
   "outputs": [],
   "source": [
    "accuracy = y_test-y_test_predictions"
   ]
  },
  {
   "cell_type": "code",
   "execution_count": 67,
   "metadata": {},
   "outputs": [
    {
     "data": {
      "text/plain": [
       "tensor([[-0.4251,  0.0102, -0.0554],\n",
       "        [-0.1212,  0.0154, -0.0502],\n",
       "        [-0.3474, -0.0199,  0.0276],\n",
       "        ...,\n",
       "        [-0.0267, -0.0415, -0.0148],\n",
       "        [-0.4361,  0.0031, -0.0011],\n",
       "        [ 0.0222, -0.0313, -0.0281]], grad_fn=<SubBackward0>)"
      ]
     },
     "execution_count": 67,
     "metadata": {},
     "output_type": "execute_result"
    }
   ],
   "source": [
    "accuracy"
   ]
  }
 ],
 "metadata": {
  "kernelspec": {
   "display_name": "Python 3",
   "language": "python",
   "name": "python3"
  },
  "language_info": {
   "codemirror_mode": {
    "name": "ipython",
    "version": 3
   },
   "file_extension": ".py",
   "mimetype": "text/x-python",
   "name": "python",
   "nbconvert_exporter": "python",
   "pygments_lexer": "ipython3",
   "version": "3.10.6"
  },
  "orig_nbformat": 4
 },
 "nbformat": 4,
 "nbformat_minor": 2
}
